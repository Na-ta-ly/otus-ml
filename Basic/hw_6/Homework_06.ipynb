{
 "cells": [
  {
   "cell_type": "markdown",
   "id": "7b64fbc4",
   "metadata": {},
   "source": [
    "1. Опробовано кодирование категориальных переменных 2 типами кодировщиков.\n",
    "2. Исследование влияние скейлера (на представленных данных все показали приблизительно одинаковую эффективность).\n",
    "3. Исследование влияние типа модели (модели показали приблизительно одинаковую эффективность).\n",
    "\n",
    "Результаты:\n",
    "\n",
    "- для улучшения показателей модели было проведено отбрасывание аномальных значений (показатели значительно улучшились).\n",
    "Хотя при ужесточении критериев эффективность изменилась не сильно, но для дальнейших исследований был выбран более жесткий вариант.\n",
    "\n",
    "- был добавлен признак, сгенерированный с использованием внешних данных (количество зарегестрированных преступлений в радиусе 5 км от объекта). Взят датасет, содержащий информацию о преступлениях с информацией о координатах и вычислено количество преступлений вблизи каждого объекта недвижимости. Операции проведены в отдельном файле.\n",
    "\n",
    "Ссылка на добавочный датасет: https://data.cityofnewyork.us/Public-Safety/NYPD-Complaint-Data-Current-Year-To-Date-/5uac-w243\n",
    "\n",
    "Эффективность модели немного улучшилась, но незначительно. Признак не сильно информативен.\n",
    "\n",
    "Вывод:\n",
    "\n",
    "-основной вклад в эффективность модели вносят данные (чистота от аномалий, информативность признаков)."
   ]
  },
  {
   "cell_type": "code",
   "execution_count": 92,
   "id": "614d3aa9",
   "metadata": {},
   "outputs": [],
   "source": [
    "import pandas as pd\n",
    "import numpy as np\n",
    "import seaborn as sns\n",
    "import matplotlib.pyplot as plt\n",
    "\n",
    "import warnings\n",
    "warnings.filterwarnings(\"ignore\")"
   ]
  },
  {
   "cell_type": "code",
   "execution_count": 93,
   "id": "a620a153",
   "metadata": {},
   "outputs": [
    {
     "data": {
      "text/html": [
       "<div>\n",
       "<style scoped>\n",
       "    .dataframe tbody tr th:only-of-type {\n",
       "        vertical-align: middle;\n",
       "    }\n",
       "\n",
       "    .dataframe tbody tr th {\n",
       "        vertical-align: top;\n",
       "    }\n",
       "\n",
       "    .dataframe thead th {\n",
       "        text-align: right;\n",
       "    }\n",
       "</style>\n",
       "<table border=\"1\" class=\"dataframe\">\n",
       "  <thead>\n",
       "    <tr style=\"text-align: right;\">\n",
       "      <th></th>\n",
       "      <th>name</th>\n",
       "      <th>host_id</th>\n",
       "      <th>host_name</th>\n",
       "      <th>neighbourhood_group</th>\n",
       "      <th>neighbourhood</th>\n",
       "      <th>latitude</th>\n",
       "      <th>longitude</th>\n",
       "      <th>room_type</th>\n",
       "      <th>price</th>\n",
       "      <th>minimum_nights</th>\n",
       "      <th>number_of_reviews</th>\n",
       "      <th>last_review</th>\n",
       "      <th>reviews_per_month</th>\n",
       "      <th>calculated_host_listings_count</th>\n",
       "      <th>availability_365</th>\n",
       "    </tr>\n",
       "    <tr>\n",
       "      <th>id</th>\n",
       "      <th></th>\n",
       "      <th></th>\n",
       "      <th></th>\n",
       "      <th></th>\n",
       "      <th></th>\n",
       "      <th></th>\n",
       "      <th></th>\n",
       "      <th></th>\n",
       "      <th></th>\n",
       "      <th></th>\n",
       "      <th></th>\n",
       "      <th></th>\n",
       "      <th></th>\n",
       "      <th></th>\n",
       "      <th></th>\n",
       "    </tr>\n",
       "  </thead>\n",
       "  <tbody>\n",
       "    <tr>\n",
       "      <th>2539</th>\n",
       "      <td>Clean &amp; quiet apt home by the park</td>\n",
       "      <td>2787</td>\n",
       "      <td>John</td>\n",
       "      <td>Brooklyn</td>\n",
       "      <td>Kensington</td>\n",
       "      <td>40.64749</td>\n",
       "      <td>-73.97237</td>\n",
       "      <td>Private room</td>\n",
       "      <td>149</td>\n",
       "      <td>1</td>\n",
       "      <td>9</td>\n",
       "      <td>2018-10-19</td>\n",
       "      <td>0.21</td>\n",
       "      <td>6</td>\n",
       "      <td>365</td>\n",
       "    </tr>\n",
       "    <tr>\n",
       "      <th>2595</th>\n",
       "      <td>Skylit Midtown Castle</td>\n",
       "      <td>2845</td>\n",
       "      <td>Jennifer</td>\n",
       "      <td>Manhattan</td>\n",
       "      <td>Midtown</td>\n",
       "      <td>40.75362</td>\n",
       "      <td>-73.98377</td>\n",
       "      <td>Entire home/apt</td>\n",
       "      <td>225</td>\n",
       "      <td>1</td>\n",
       "      <td>45</td>\n",
       "      <td>2019-05-21</td>\n",
       "      <td>0.38</td>\n",
       "      <td>2</td>\n",
       "      <td>355</td>\n",
       "    </tr>\n",
       "    <tr>\n",
       "      <th>3647</th>\n",
       "      <td>THE VILLAGE OF HARLEM....NEW YORK !</td>\n",
       "      <td>4632</td>\n",
       "      <td>Elisabeth</td>\n",
       "      <td>Manhattan</td>\n",
       "      <td>Harlem</td>\n",
       "      <td>40.80902</td>\n",
       "      <td>-73.94190</td>\n",
       "      <td>Private room</td>\n",
       "      <td>150</td>\n",
       "      <td>3</td>\n",
       "      <td>0</td>\n",
       "      <td>NaN</td>\n",
       "      <td>NaN</td>\n",
       "      <td>1</td>\n",
       "      <td>365</td>\n",
       "    </tr>\n",
       "    <tr>\n",
       "      <th>3831</th>\n",
       "      <td>Cozy Entire Floor of Brownstone</td>\n",
       "      <td>4869</td>\n",
       "      <td>LisaRoxanne</td>\n",
       "      <td>Brooklyn</td>\n",
       "      <td>Clinton Hill</td>\n",
       "      <td>40.68514</td>\n",
       "      <td>-73.95976</td>\n",
       "      <td>Entire home/apt</td>\n",
       "      <td>89</td>\n",
       "      <td>1</td>\n",
       "      <td>270</td>\n",
       "      <td>2019-07-05</td>\n",
       "      <td>4.64</td>\n",
       "      <td>1</td>\n",
       "      <td>194</td>\n",
       "    </tr>\n",
       "    <tr>\n",
       "      <th>5022</th>\n",
       "      <td>Entire Apt: Spacious Studio/Loft by central park</td>\n",
       "      <td>7192</td>\n",
       "      <td>Laura</td>\n",
       "      <td>Manhattan</td>\n",
       "      <td>East Harlem</td>\n",
       "      <td>40.79851</td>\n",
       "      <td>-73.94399</td>\n",
       "      <td>Entire home/apt</td>\n",
       "      <td>80</td>\n",
       "      <td>10</td>\n",
       "      <td>9</td>\n",
       "      <td>2018-11-19</td>\n",
       "      <td>0.10</td>\n",
       "      <td>1</td>\n",
       "      <td>0</td>\n",
       "    </tr>\n",
       "  </tbody>\n",
       "</table>\n",
       "</div>"
      ],
      "text/plain": [
       "                                                  name  host_id    host_name  \\\n",
       "id                                                                             \n",
       "2539                Clean & quiet apt home by the park     2787         John   \n",
       "2595                             Skylit Midtown Castle     2845     Jennifer   \n",
       "3647               THE VILLAGE OF HARLEM....NEW YORK !     4632    Elisabeth   \n",
       "3831                   Cozy Entire Floor of Brownstone     4869  LisaRoxanne   \n",
       "5022  Entire Apt: Spacious Studio/Loft by central park     7192        Laura   \n",
       "\n",
       "     neighbourhood_group neighbourhood  latitude  longitude        room_type  \\\n",
       "id                                                                             \n",
       "2539            Brooklyn    Kensington  40.64749  -73.97237     Private room   \n",
       "2595           Manhattan       Midtown  40.75362  -73.98377  Entire home/apt   \n",
       "3647           Manhattan        Harlem  40.80902  -73.94190     Private room   \n",
       "3831            Brooklyn  Clinton Hill  40.68514  -73.95976  Entire home/apt   \n",
       "5022           Manhattan   East Harlem  40.79851  -73.94399  Entire home/apt   \n",
       "\n",
       "      price  minimum_nights  number_of_reviews last_review  reviews_per_month  \\\n",
       "id                                                                              \n",
       "2539    149               1                  9  2018-10-19               0.21   \n",
       "2595    225               1                 45  2019-05-21               0.38   \n",
       "3647    150               3                  0         NaN                NaN   \n",
       "3831     89               1                270  2019-07-05               4.64   \n",
       "5022     80              10                  9  2018-11-19               0.10   \n",
       "\n",
       "      calculated_host_listings_count  availability_365  \n",
       "id                                                      \n",
       "2539                               6               365  \n",
       "2595                               2               355  \n",
       "3647                               1               365  \n",
       "3831                               1               194  \n",
       "5022                               1                 0  "
      ]
     },
     "execution_count": 93,
     "metadata": {},
     "output_type": "execute_result"
    }
   ],
   "source": [
    "data = pd.read_csv('AB_NYC_2019.csv', index_col=0)\n",
    "data.head(5)"
   ]
  },
  {
   "cell_type": "code",
   "execution_count": 94,
   "id": "d372c935",
   "metadata": {},
   "outputs": [
    {
     "data": {
      "text/html": [
       "<div>\n",
       "<style scoped>\n",
       "    .dataframe tbody tr th:only-of-type {\n",
       "        vertical-align: middle;\n",
       "    }\n",
       "\n",
       "    .dataframe tbody tr th {\n",
       "        vertical-align: top;\n",
       "    }\n",
       "\n",
       "    .dataframe thead th {\n",
       "        text-align: right;\n",
       "    }\n",
       "</style>\n",
       "<table border=\"1\" class=\"dataframe\">\n",
       "  <thead>\n",
       "    <tr style=\"text-align: right;\">\n",
       "      <th></th>\n",
       "      <th>neighbourhood_group</th>\n",
       "      <th>neighbourhood</th>\n",
       "      <th>latitude</th>\n",
       "      <th>longitude</th>\n",
       "      <th>room_type</th>\n",
       "      <th>price</th>\n",
       "      <th>minimum_nights</th>\n",
       "      <th>number_of_reviews</th>\n",
       "      <th>reviews_per_month</th>\n",
       "      <th>calculated_host_listings_count</th>\n",
       "      <th>availability_365</th>\n",
       "    </tr>\n",
       "    <tr>\n",
       "      <th>id</th>\n",
       "      <th></th>\n",
       "      <th></th>\n",
       "      <th></th>\n",
       "      <th></th>\n",
       "      <th></th>\n",
       "      <th></th>\n",
       "      <th></th>\n",
       "      <th></th>\n",
       "      <th></th>\n",
       "      <th></th>\n",
       "      <th></th>\n",
       "    </tr>\n",
       "  </thead>\n",
       "  <tbody>\n",
       "    <tr>\n",
       "      <th>2539</th>\n",
       "      <td>Brooklyn</td>\n",
       "      <td>Kensington</td>\n",
       "      <td>40.64749</td>\n",
       "      <td>-73.97237</td>\n",
       "      <td>Private room</td>\n",
       "      <td>149</td>\n",
       "      <td>1</td>\n",
       "      <td>9</td>\n",
       "      <td>0.21</td>\n",
       "      <td>6</td>\n",
       "      <td>365</td>\n",
       "    </tr>\n",
       "    <tr>\n",
       "      <th>2595</th>\n",
       "      <td>Manhattan</td>\n",
       "      <td>Midtown</td>\n",
       "      <td>40.75362</td>\n",
       "      <td>-73.98377</td>\n",
       "      <td>Entire home/apt</td>\n",
       "      <td>225</td>\n",
       "      <td>1</td>\n",
       "      <td>45</td>\n",
       "      <td>0.38</td>\n",
       "      <td>2</td>\n",
       "      <td>355</td>\n",
       "    </tr>\n",
       "    <tr>\n",
       "      <th>3647</th>\n",
       "      <td>Manhattan</td>\n",
       "      <td>Harlem</td>\n",
       "      <td>40.80902</td>\n",
       "      <td>-73.94190</td>\n",
       "      <td>Private room</td>\n",
       "      <td>150</td>\n",
       "      <td>3</td>\n",
       "      <td>0</td>\n",
       "      <td>NaN</td>\n",
       "      <td>1</td>\n",
       "      <td>365</td>\n",
       "    </tr>\n",
       "    <tr>\n",
       "      <th>3831</th>\n",
       "      <td>Brooklyn</td>\n",
       "      <td>Clinton Hill</td>\n",
       "      <td>40.68514</td>\n",
       "      <td>-73.95976</td>\n",
       "      <td>Entire home/apt</td>\n",
       "      <td>89</td>\n",
       "      <td>1</td>\n",
       "      <td>270</td>\n",
       "      <td>4.64</td>\n",
       "      <td>1</td>\n",
       "      <td>194</td>\n",
       "    </tr>\n",
       "    <tr>\n",
       "      <th>5022</th>\n",
       "      <td>Manhattan</td>\n",
       "      <td>East Harlem</td>\n",
       "      <td>40.79851</td>\n",
       "      <td>-73.94399</td>\n",
       "      <td>Entire home/apt</td>\n",
       "      <td>80</td>\n",
       "      <td>10</td>\n",
       "      <td>9</td>\n",
       "      <td>0.10</td>\n",
       "      <td>1</td>\n",
       "      <td>0</td>\n",
       "    </tr>\n",
       "  </tbody>\n",
       "</table>\n",
       "</div>"
      ],
      "text/plain": [
       "     neighbourhood_group neighbourhood  latitude  longitude        room_type  \\\n",
       "id                                                                             \n",
       "2539            Brooklyn    Kensington  40.64749  -73.97237     Private room   \n",
       "2595           Manhattan       Midtown  40.75362  -73.98377  Entire home/apt   \n",
       "3647           Manhattan        Harlem  40.80902  -73.94190     Private room   \n",
       "3831            Brooklyn  Clinton Hill  40.68514  -73.95976  Entire home/apt   \n",
       "5022           Manhattan   East Harlem  40.79851  -73.94399  Entire home/apt   \n",
       "\n",
       "      price  minimum_nights  number_of_reviews  reviews_per_month  \\\n",
       "id                                                                  \n",
       "2539    149               1                  9               0.21   \n",
       "2595    225               1                 45               0.38   \n",
       "3647    150               3                  0                NaN   \n",
       "3831     89               1                270               4.64   \n",
       "5022     80              10                  9               0.10   \n",
       "\n",
       "      calculated_host_listings_count  availability_365  \n",
       "id                                                      \n",
       "2539                               6               365  \n",
       "2595                               2               355  \n",
       "3647                               1               365  \n",
       "3831                               1               194  \n",
       "5022                               1                 0  "
      ]
     },
     "execution_count": 94,
     "metadata": {},
     "output_type": "execute_result"
    }
   ],
   "source": [
    "feature_list = ['name', 'host_id', 'host_name', 'last_review']\n",
    "data = data.drop(feature_list, axis=1)\n",
    "data.head(5)"
   ]
  },
  {
   "cell_type": "code",
   "execution_count": 95,
   "id": "a0dab8ec",
   "metadata": {},
   "outputs": [
    {
     "name": "stdout",
     "output_type": "stream",
     "text": [
      "<class 'pandas.core.frame.DataFrame'>\n",
      "Int64Index: 48895 entries, 2539 to 36487245\n",
      "Data columns (total 11 columns):\n",
      " #   Column                          Non-Null Count  Dtype  \n",
      "---  ------                          --------------  -----  \n",
      " 0   neighbourhood_group             48895 non-null  object \n",
      " 1   neighbourhood                   48895 non-null  object \n",
      " 2   latitude                        48895 non-null  float64\n",
      " 3   longitude                       48895 non-null  float64\n",
      " 4   room_type                       48895 non-null  object \n",
      " 5   price                           48895 non-null  int64  \n",
      " 6   minimum_nights                  48895 non-null  int64  \n",
      " 7   number_of_reviews               48895 non-null  int64  \n",
      " 8   reviews_per_month               38843 non-null  float64\n",
      " 9   calculated_host_listings_count  48895 non-null  int64  \n",
      " 10  availability_365                48895 non-null  int64  \n",
      "dtypes: float64(3), int64(5), object(3)\n",
      "memory usage: 4.5+ MB\n"
     ]
    }
   ],
   "source": [
    "data.info()"
   ]
  },
  {
   "cell_type": "code",
   "execution_count": 96,
   "id": "10146d06",
   "metadata": {},
   "outputs": [
    {
     "data": {
      "text/html": [
       "<div>\n",
       "<style scoped>\n",
       "    .dataframe tbody tr th:only-of-type {\n",
       "        vertical-align: middle;\n",
       "    }\n",
       "\n",
       "    .dataframe tbody tr th {\n",
       "        vertical-align: top;\n",
       "    }\n",
       "\n",
       "    .dataframe thead th {\n",
       "        text-align: right;\n",
       "    }\n",
       "</style>\n",
       "<table border=\"1\" class=\"dataframe\">\n",
       "  <thead>\n",
       "    <tr style=\"text-align: right;\">\n",
       "      <th></th>\n",
       "      <th>latitude</th>\n",
       "      <th>longitude</th>\n",
       "      <th>price</th>\n",
       "      <th>minimum_nights</th>\n",
       "      <th>number_of_reviews</th>\n",
       "      <th>reviews_per_month</th>\n",
       "      <th>calculated_host_listings_count</th>\n",
       "      <th>availability_365</th>\n",
       "    </tr>\n",
       "  </thead>\n",
       "  <tbody>\n",
       "    <tr>\n",
       "      <th>count</th>\n",
       "      <td>48895.000000</td>\n",
       "      <td>48895.000000</td>\n",
       "      <td>48895.000000</td>\n",
       "      <td>48895.000000</td>\n",
       "      <td>48895.000000</td>\n",
       "      <td>38843.000000</td>\n",
       "      <td>48895.000000</td>\n",
       "      <td>48895.000000</td>\n",
       "    </tr>\n",
       "    <tr>\n",
       "      <th>mean</th>\n",
       "      <td>40.728949</td>\n",
       "      <td>-73.952170</td>\n",
       "      <td>152.720687</td>\n",
       "      <td>7.029962</td>\n",
       "      <td>23.274466</td>\n",
       "      <td>1.373221</td>\n",
       "      <td>7.143982</td>\n",
       "      <td>112.781327</td>\n",
       "    </tr>\n",
       "    <tr>\n",
       "      <th>std</th>\n",
       "      <td>0.054530</td>\n",
       "      <td>0.046157</td>\n",
       "      <td>240.154170</td>\n",
       "      <td>20.510550</td>\n",
       "      <td>44.550582</td>\n",
       "      <td>1.680442</td>\n",
       "      <td>32.952519</td>\n",
       "      <td>131.622289</td>\n",
       "    </tr>\n",
       "    <tr>\n",
       "      <th>min</th>\n",
       "      <td>40.499790</td>\n",
       "      <td>-74.244420</td>\n",
       "      <td>0.000000</td>\n",
       "      <td>1.000000</td>\n",
       "      <td>0.000000</td>\n",
       "      <td>0.010000</td>\n",
       "      <td>1.000000</td>\n",
       "      <td>0.000000</td>\n",
       "    </tr>\n",
       "    <tr>\n",
       "      <th>25%</th>\n",
       "      <td>40.690100</td>\n",
       "      <td>-73.983070</td>\n",
       "      <td>69.000000</td>\n",
       "      <td>1.000000</td>\n",
       "      <td>1.000000</td>\n",
       "      <td>0.190000</td>\n",
       "      <td>1.000000</td>\n",
       "      <td>0.000000</td>\n",
       "    </tr>\n",
       "    <tr>\n",
       "      <th>50%</th>\n",
       "      <td>40.723070</td>\n",
       "      <td>-73.955680</td>\n",
       "      <td>106.000000</td>\n",
       "      <td>3.000000</td>\n",
       "      <td>5.000000</td>\n",
       "      <td>0.720000</td>\n",
       "      <td>1.000000</td>\n",
       "      <td>45.000000</td>\n",
       "    </tr>\n",
       "    <tr>\n",
       "      <th>75%</th>\n",
       "      <td>40.763115</td>\n",
       "      <td>-73.936275</td>\n",
       "      <td>175.000000</td>\n",
       "      <td>5.000000</td>\n",
       "      <td>24.000000</td>\n",
       "      <td>2.020000</td>\n",
       "      <td>2.000000</td>\n",
       "      <td>227.000000</td>\n",
       "    </tr>\n",
       "    <tr>\n",
       "      <th>max</th>\n",
       "      <td>40.913060</td>\n",
       "      <td>-73.712990</td>\n",
       "      <td>10000.000000</td>\n",
       "      <td>1250.000000</td>\n",
       "      <td>629.000000</td>\n",
       "      <td>58.500000</td>\n",
       "      <td>327.000000</td>\n",
       "      <td>365.000000</td>\n",
       "    </tr>\n",
       "  </tbody>\n",
       "</table>\n",
       "</div>"
      ],
      "text/plain": [
       "           latitude     longitude         price  minimum_nights  \\\n",
       "count  48895.000000  48895.000000  48895.000000    48895.000000   \n",
       "mean      40.728949    -73.952170    152.720687        7.029962   \n",
       "std        0.054530      0.046157    240.154170       20.510550   \n",
       "min       40.499790    -74.244420      0.000000        1.000000   \n",
       "25%       40.690100    -73.983070     69.000000        1.000000   \n",
       "50%       40.723070    -73.955680    106.000000        3.000000   \n",
       "75%       40.763115    -73.936275    175.000000        5.000000   \n",
       "max       40.913060    -73.712990  10000.000000     1250.000000   \n",
       "\n",
       "       number_of_reviews  reviews_per_month  calculated_host_listings_count  \\\n",
       "count       48895.000000       38843.000000                    48895.000000   \n",
       "mean           23.274466           1.373221                        7.143982   \n",
       "std            44.550582           1.680442                       32.952519   \n",
       "min             0.000000           0.010000                        1.000000   \n",
       "25%             1.000000           0.190000                        1.000000   \n",
       "50%             5.000000           0.720000                        1.000000   \n",
       "75%            24.000000           2.020000                        2.000000   \n",
       "max           629.000000          58.500000                      327.000000   \n",
       "\n",
       "       availability_365  \n",
       "count      48895.000000  \n",
       "mean         112.781327  \n",
       "std          131.622289  \n",
       "min            0.000000  \n",
       "25%            0.000000  \n",
       "50%           45.000000  \n",
       "75%          227.000000  \n",
       "max          365.000000  "
      ]
     },
     "execution_count": 96,
     "metadata": {},
     "output_type": "execute_result"
    }
   ],
   "source": [
    "data.describe()"
   ]
  },
  {
   "cell_type": "markdown",
   "id": "b10b3ab5",
   "metadata": {},
   "source": [
    "# EDA\n",
    "Поиск скоррелированных признаков"
   ]
  },
  {
   "cell_type": "code",
   "execution_count": 97,
   "id": "77cddce0",
   "metadata": {},
   "outputs": [
    {
     "name": "stdout",
     "output_type": "stream",
     "text": [
      "['reviews_per_month', 'number_of_reviews']\n",
      "0.549867506377398\n"
     ]
    },
    {
     "data": {
      "image/png": "[encoded data removed]",
      "text/plain": [
       "<Figure size 477.375x360 with 6 Axes>"
      ]
     },
     "metadata": {
      "needs_background": "light"
     },
     "output_type": "display_data"
    }
   ],
   "source": [
    "corr_matrix = data.corr()\n",
    "col_list = corr_matrix.columns.tolist()\n",
    "corr_features_list = []\n",
    "k = 0\n",
    "for col in corr_matrix.columns.tolist():\n",
    "    col_list.remove(col)\n",
    "    for ind in col_list:\n",
    "        if corr_matrix.loc[ind, col] > 0.50:\n",
    "            sns.pairplot(data.loc[:, [ind, col, 'neighbourhood_group']], hue='neighbourhood_group')\n",
    "            print([ind, col])\n",
    "            print(corr_matrix.loc[ind, col])\n",
    "            k += 1\n",
    "plt.show()"
   ]
  },
  {
   "cell_type": "markdown",
   "id": "39a86856",
   "metadata": {},
   "source": [
    "Наблюдается очень слабая корреляция между признаками 'reviews_per_month', 'number_of_reviews'."
   ]
  },
  {
   "cell_type": "code",
   "execution_count": 98,
   "id": "f5246ff3",
   "metadata": {
    "scrolled": true
   },
   "outputs": [
    {
     "data": {
      "image/png": "[encoded data removed]",
      "text/plain": [
       "<Figure size 360x360 with 1 Axes>"
      ]
     },
     "metadata": {
      "needs_background": "light"
     },
     "output_type": "display_data"
    }
   ],
   "source": [
    "plt.figure(figsize=(5, 5))\n",
    "sns.heatmap(data.corr(), annot=True, cbar=False, linewidths=.5, fmt= '.2f')\n",
    "plt.show()"
   ]
  },
  {
   "cell_type": "markdown",
   "id": "161c0982",
   "metadata": {},
   "source": [
    "Посмотрим распределение признаков."
   ]
  },
  {
   "cell_type": "code",
   "execution_count": 99,
   "id": "66869361",
   "metadata": {},
   "outputs": [
    {
     "name": "stdout",
     "output_type": "stream",
     "text": [
      "Column \"neighbourhood_group\" distribution\n"
     ]
    },
    {
     "data": {
      "image/png": "[encoded data removed]",
      "text/plain": [
       "<Figure size 432x288 with 1 Axes>"
      ]
     },
     "metadata": {
      "needs_background": "light"
     },
     "output_type": "display_data"
    },
    {
     "name": "stdout",
     "output_type": "stream",
     "text": [
      "Column \"neighbourhood\" distribution\n"
     ]
    },
    {
     "data": {
      "image/png": "[encoded data removed]",
      "text/plain": [
       "<Figure size 432x288 with 1 Axes>"
      ]
     },
     "metadata": {
      "needs_background": "light"
     },
     "output_type": "display_data"
    },
    {
     "name": "stdout",
     "output_type": "stream",
     "text": [
      "Column \"latitude\" distribution\n"
     ]
    },
    {
     "data": {
      "image/png": "[encoded data removed]",
      "text/plain": [
       "<Figure size 432x288 with 1 Axes>"
      ]
     },
     "metadata": {
      "needs_background": "light"
     },
     "output_type": "display_data"
    },
    {
     "name": "stdout",
     "output_type": "stream",
     "text": [
      "Column \"longitude\" distribution\n"
     ]
    },
    {
     "data": {
      "image/png": "[encoded data removed]",
      "text/plain": [
       "<Figure size 432x288 with 1 Axes>"
      ]
     },
     "metadata": {
      "needs_background": "light"
     },
     "output_type": "display_data"
    },
    {
     "name": "stdout",
     "output_type": "stream",
     "text": [
      "Column \"room_type\" distribution\n"
     ]
    },
    {
     "data": {
      "image/png": "[encoded data removed]",
      "text/plain": [
       "<Figure size 432x288 with 1 Axes>"
      ]
     },
     "metadata": {
      "needs_background": "light"
     },
     "output_type": "display_data"
    },
    {
     "name": "stdout",
     "output_type": "stream",
     "text": [
      "Column \"price\" distribution\n"
     ]
    },
    {
     "data": {
      "image/png": "[encoded data removed]",
      "text/plain": [
       "<Figure size 432x288 with 1 Axes>"
      ]
     },
     "metadata": {
      "needs_background": "light"
     },
     "output_type": "display_data"
    },
    {
     "name": "stdout",
     "output_type": "stream",
     "text": [
      "Column \"minimum_nights\" distribution\n"
     ]
    },
    {
     "data": {
      "image/png": "[encoded data removed]",
      "text/plain": [
       "<Figure size 432x288 with 1 Axes>"
      ]
     },
     "metadata": {
      "needs_background": "light"
     },
     "output_type": "display_data"
    },
    {
     "name": "stdout",
     "output_type": "stream",
     "text": [
      "Column \"number_of_reviews\" distribution\n"
     ]
    },
    {
     "data": {
      "image/png": "[encoded data removed]",
      "text/plain": [
       "<Figure size 432x288 with 1 Axes>"
      ]
     },
     "metadata": {
      "needs_background": "light"
     },
     "output_type": "display_data"
    },
    {
     "name": "stdout",
     "output_type": "stream",
     "text": [
      "Column \"reviews_per_month\" distribution\n"
     ]
    },
    {
     "data": {
      "image/png": "[encoded data removed]",
      "text/plain": [
       "<Figure size 432x288 with 1 Axes>"
      ]
     },
     "metadata": {
      "needs_background": "light"
     },
     "output_type": "display_data"
    },
    {
     "name": "stdout",
     "output_type": "stream",
     "text": [
      "Column \"calculated_host_listings_count\" distribution\n"
     ]
    },
    {
     "data": {
      "image/png": "[encoded data removed]",
      "text/plain": [
       "<Figure size 432x288 with 1 Axes>"
      ]
     },
     "metadata": {
      "needs_background": "light"
     },
     "output_type": "display_data"
    },
    {
     "name": "stdout",
     "output_type": "stream",
     "text": [
      "Column \"availability_365\" distribution\n"
     ]
    },
    {
     "data": {
      "image/png": "[encoded data removed]",
      "text/plain": [
       "<Figure size 432x288 with 1 Axes>"
      ]
     },
     "metadata": {
      "needs_background": "light"
     },
     "output_type": "display_data"
    }
   ],
   "source": [
    "for col in data.columns.tolist():\n",
    "    print(f'Column \"{col}\" distribution');\n",
    "    hist = sns.histplot(data=data[col], label=f'Column \"{col}\" distribution');\n",
    "    plt.show();"
   ]
  },
  {
   "cell_type": "code",
   "execution_count": 100,
   "id": "b67d1cc5",
   "metadata": {},
   "outputs": [
    {
     "name": "stdout",
     "output_type": "stream",
     "text": [
      "['latitude', 'longitude', 'price', 'minimum_nights', 'number_of_reviews', 'reviews_per_month', 'calculated_host_listings_count', 'availability_365']\n"
     ]
    },
    {
     "data": {
      "image/png": "[encoded data removed]",
      "text/plain": [
       "<Figure size 432x288 with 1 Axes>"
      ]
     },
     "metadata": {
      "needs_background": "light"
     },
     "output_type": "display_data"
    },
    {
     "data": {
      "image/png": "[encoded data removed]",
      "text/plain": [
       "<Figure size 432x288 with 1 Axes>"
      ]
     },
     "metadata": {
      "needs_background": "light"
     },
     "output_type": "display_data"
    },
    {
     "data": {
      "image/png": "[encoded data removed]",
      "text/plain": [
       "<Figure size 432x288 with 1 Axes>"
      ]
     },
     "metadata": {
      "needs_background": "light"
     },
     "output_type": "display_data"
    },
    {
     "data": {
      "image/png": "[encoded data removed]",
      "text/plain": [
       "<Figure size 432x288 with 1 Axes>"
      ]
     },
     "metadata": {
      "needs_background": "light"
     },
     "output_type": "display_data"
    },
    {
     "data": {
      "image/png": "[encoded data removed]",
      "text/plain": [
       "<Figure size 432x288 with 1 Axes>"
      ]
     },
     "metadata": {
      "needs_background": "light"
     },
     "output_type": "display_data"
    },
    {
     "data": {
      "image/png": "[encoded data removed]",
      "text/plain": [
       "<Figure size 432x288 with 1 Axes>"
      ]
     },
     "metadata": {
      "needs_background": "light"
     },
     "output_type": "display_data"
    },
    {
     "data": {
      "image/png": "[encoded data removed]",
      "text/plain": [
       "<Figure size 432x288 with 1 Axes>"
      ]
     },
     "metadata": {
      "needs_background": "light"
     },
     "output_type": "display_data"
    },
    {
     "data": {
      "image/png": "[encoded data removed]",
      "text/plain": [
       "<Figure size 432x288 with 1 Axes>"
      ]
     },
     "metadata": {
      "needs_background": "light"
     },
     "output_type": "display_data"
    }
   ],
   "source": [
    "columns = data.columns.tolist()\n",
    "columns.remove('neighbourhood_group')\n",
    "columns.remove('neighbourhood')\n",
    "columns.remove('room_type')\n",
    "print(columns)\n",
    "for feature in columns:\n",
    "    sns.boxplot(x=feature, data=data)\n",
    "    plt.show();"
   ]
  },
  {
   "cell_type": "markdown",
   "id": "51827057",
   "metadata": {},
   "source": [
    "# Пропуски данных\n",
    "Есть пропуски в данных. Исследуем."
   ]
  },
  {
   "cell_type": "code",
   "execution_count": 101,
   "id": "e15cc9da",
   "metadata": {},
   "outputs": [
    {
     "data": {
      "text/plain": [
       "reviews_per_month    0.21\n",
       "dtype: float64"
      ]
     },
     "execution_count": 101,
     "metadata": {},
     "output_type": "execute_result"
    }
   ],
   "source": [
    "np.round(data.isna().sum()[data.isna().sum()>0] / data.shape[0], 2)"
   ]
  },
  {
   "cell_type": "markdown",
   "id": "a3310166",
   "metadata": {},
   "source": [
    "Достаточно значительная часть данных отсутствует. Либо дропнуть признак, либо заполнить."
   ]
  },
  {
   "cell_type": "code",
   "execution_count": 102,
   "id": "b4d1c3b6",
   "metadata": {
    "scrolled": true
   },
   "outputs": [
    {
     "data": {
      "image/png": "[encoded data removed]",
      "text/plain": [
       "<Figure size 720x432 with 1 Axes>"
      ]
     },
     "metadata": {
      "needs_background": "light"
     },
     "output_type": "display_data"
    }
   ],
   "source": [
    "plt.figure(figsize=(10,6));\n",
    "sns.boxplot(data.reviews_per_month);\n",
    "plt.show();"
   ]
  },
  {
   "cell_type": "code",
   "execution_count": 103,
   "id": "4b4a6eb7",
   "metadata": {},
   "outputs": [
    {
     "data": {
      "text/plain": [
       "<Figure size 1600x1600 with 0 Axes>"
      ]
     },
     "metadata": {},
     "output_type": "display_data"
    },
    {
     "data": {
      "image/png": "[encoded data removed]",
      "text/plain": [
       "<Figure size 864x432 with 1 Axes>"
      ]
     },
     "metadata": {
      "needs_background": "light"
     },
     "output_type": "display_data"
    }
   ],
   "source": [
    "plt.figure(figsize=(8,8), dpi=200);\n",
    "sns.displot(data.reviews_per_month, label='log_reviews_per_month Distribution', height=6, aspect=2);\n",
    "plt.axvline(data.reviews_per_month.mean(), label='mean', c='orchid');\n",
    "plt.legend();\n",
    "plt.show();"
   ]
  },
  {
   "cell_type": "markdown",
   "id": "a547570d",
   "metadata": {},
   "source": [
    "Распределение признака асимметрично. Заполним пропуски mean."
   ]
  },
  {
   "cell_type": "code",
   "execution_count": 104,
   "id": "fb7f7706",
   "metadata": {},
   "outputs": [
    {
     "data": {
      "text/plain": [
       "-0.030608348567533118"
      ]
     },
     "execution_count": 104,
     "metadata": {},
     "output_type": "execute_result"
    }
   ],
   "source": [
    "data.reviews_per_month.corr(data.price)"
   ]
  },
  {
   "cell_type": "code",
   "execution_count": 105,
   "id": "154f7381",
   "metadata": {},
   "outputs": [
    {
     "data": {
      "text/plain": [
       "-0.022372736596075544"
      ]
     },
     "execution_count": 105,
     "metadata": {},
     "output_type": "execute_result"
    }
   ],
   "source": [
    "data.reviews_per_month.fillna(data.reviews_per_month.mean()).corr(data.price)"
   ]
  },
  {
   "cell_type": "markdown",
   "id": "85274759",
   "metadata": {},
   "source": [
    "После заполнения пропусков mean корреляция меняется незначительно."
   ]
  },
  {
   "cell_type": "code",
   "execution_count": 106,
   "id": "27e67617",
   "metadata": {},
   "outputs": [
    {
     "name": "stdout",
     "output_type": "stream",
     "text": [
      "<class 'pandas.core.frame.DataFrame'>\n",
      "Int64Index: 48895 entries, 2539 to 36487245\n",
      "Data columns (total 11 columns):\n",
      " #   Column                          Non-Null Count  Dtype  \n",
      "---  ------                          --------------  -----  \n",
      " 0   neighbourhood_group             48895 non-null  object \n",
      " 1   neighbourhood                   48895 non-null  object \n",
      " 2   latitude                        48895 non-null  float64\n",
      " 3   longitude                       48895 non-null  float64\n",
      " 4   room_type                       48895 non-null  object \n",
      " 5   price                           48895 non-null  int64  \n",
      " 6   minimum_nights                  48895 non-null  int64  \n",
      " 7   number_of_reviews               48895 non-null  int64  \n",
      " 8   reviews_per_month               48895 non-null  float64\n",
      " 9   calculated_host_listings_count  48895 non-null  int64  \n",
      " 10  availability_365                48895 non-null  int64  \n",
      "dtypes: float64(3), int64(5), object(3)\n",
      "memory usage: 5.5+ MB\n"
     ]
    }
   ],
   "source": [
    "data.reviews_per_month = data.reviews_per_month.fillna(data.reviews_per_month.mean())\n",
    "data.info()"
   ]
  },
  {
   "cell_type": "markdown",
   "id": "9f695c2b",
   "metadata": {},
   "source": [
    "# Закодируем категориальные признаки"
   ]
  },
  {
   "cell_type": "code",
   "execution_count": 107,
   "id": "0d061d42",
   "metadata": {},
   "outputs": [
    {
     "name": "stdout",
     "output_type": "stream",
     "text": [
      "For feature neighbourhood_group:  5\n",
      "For neighbourhood:  221\n",
      "For room_type:  3\n"
     ]
    }
   ],
   "source": [
    "print('For feature neighbourhood_group: ', data.neighbourhood_group.nunique())\n",
    "print('For neighbourhood: ', data.neighbourhood.nunique())\n",
    "print('For room_type: ', data.room_type.nunique())"
   ]
  },
  {
   "cell_type": "markdown",
   "id": "b82c13a5",
   "metadata": {},
   "source": [
    "Уникальных значений в признаках neighbourhood_group и room_type немного, применим One_Hot Encoding."
   ]
  },
  {
   "cell_type": "code",
   "execution_count": 108,
   "id": "b6a96ee9",
   "metadata": {
    "scrolled": true
   },
   "outputs": [
    {
     "data": {
      "text/html": [
       "<div>\n",
       "<style scoped>\n",
       "    .dataframe tbody tr th:only-of-type {\n",
       "        vertical-align: middle;\n",
       "    }\n",
       "\n",
       "    .dataframe tbody tr th {\n",
       "        vertical-align: top;\n",
       "    }\n",
       "\n",
       "    .dataframe thead th {\n",
       "        text-align: right;\n",
       "    }\n",
       "</style>\n",
       "<table border=\"1\" class=\"dataframe\">\n",
       "  <thead>\n",
       "    <tr style=\"text-align: right;\">\n",
       "      <th></th>\n",
       "      <th>neighbourhood</th>\n",
       "      <th>latitude</th>\n",
       "      <th>longitude</th>\n",
       "      <th>price</th>\n",
       "      <th>minimum_nights</th>\n",
       "      <th>number_of_reviews</th>\n",
       "      <th>reviews_per_month</th>\n",
       "      <th>calculated_host_listings_count</th>\n",
       "      <th>availability_365</th>\n",
       "      <th>neighbourhood_group_1</th>\n",
       "      <th>neighbourhood_group_2</th>\n",
       "      <th>neighbourhood_group_3</th>\n",
       "      <th>neighbourhood_group_4</th>\n",
       "      <th>neighbourhood_group_5</th>\n",
       "      <th>room_type_1</th>\n",
       "      <th>room_type_2</th>\n",
       "      <th>room_type_3</th>\n",
       "    </tr>\n",
       "    <tr>\n",
       "      <th>id</th>\n",
       "      <th></th>\n",
       "      <th></th>\n",
       "      <th></th>\n",
       "      <th></th>\n",
       "      <th></th>\n",
       "      <th></th>\n",
       "      <th></th>\n",
       "      <th></th>\n",
       "      <th></th>\n",
       "      <th></th>\n",
       "      <th></th>\n",
       "      <th></th>\n",
       "      <th></th>\n",
       "      <th></th>\n",
       "      <th></th>\n",
       "      <th></th>\n",
       "      <th></th>\n",
       "    </tr>\n",
       "  </thead>\n",
       "  <tbody>\n",
       "    <tr>\n",
       "      <th>2539</th>\n",
       "      <td>Kensington</td>\n",
       "      <td>40.64749</td>\n",
       "      <td>-73.97237</td>\n",
       "      <td>149</td>\n",
       "      <td>1</td>\n",
       "      <td>9</td>\n",
       "      <td>0.210000</td>\n",
       "      <td>6</td>\n",
       "      <td>365</td>\n",
       "      <td>1</td>\n",
       "      <td>0</td>\n",
       "      <td>0</td>\n",
       "      <td>0</td>\n",
       "      <td>0</td>\n",
       "      <td>1</td>\n",
       "      <td>0</td>\n",
       "      <td>0</td>\n",
       "    </tr>\n",
       "    <tr>\n",
       "      <th>2595</th>\n",
       "      <td>Midtown</td>\n",
       "      <td>40.75362</td>\n",
       "      <td>-73.98377</td>\n",
       "      <td>225</td>\n",
       "      <td>1</td>\n",
       "      <td>45</td>\n",
       "      <td>0.380000</td>\n",
       "      <td>2</td>\n",
       "      <td>355</td>\n",
       "      <td>0</td>\n",
       "      <td>1</td>\n",
       "      <td>0</td>\n",
       "      <td>0</td>\n",
       "      <td>0</td>\n",
       "      <td>0</td>\n",
       "      <td>1</td>\n",
       "      <td>0</td>\n",
       "    </tr>\n",
       "    <tr>\n",
       "      <th>3647</th>\n",
       "      <td>Harlem</td>\n",
       "      <td>40.80902</td>\n",
       "      <td>-73.94190</td>\n",
       "      <td>150</td>\n",
       "      <td>3</td>\n",
       "      <td>0</td>\n",
       "      <td>1.373221</td>\n",
       "      <td>1</td>\n",
       "      <td>365</td>\n",
       "      <td>0</td>\n",
       "      <td>1</td>\n",
       "      <td>0</td>\n",
       "      <td>0</td>\n",
       "      <td>0</td>\n",
       "      <td>1</td>\n",
       "      <td>0</td>\n",
       "      <td>0</td>\n",
       "    </tr>\n",
       "    <tr>\n",
       "      <th>3831</th>\n",
       "      <td>Clinton Hill</td>\n",
       "      <td>40.68514</td>\n",
       "      <td>-73.95976</td>\n",
       "      <td>89</td>\n",
       "      <td>1</td>\n",
       "      <td>270</td>\n",
       "      <td>4.640000</td>\n",
       "      <td>1</td>\n",
       "      <td>194</td>\n",
       "      <td>1</td>\n",
       "      <td>0</td>\n",
       "      <td>0</td>\n",
       "      <td>0</td>\n",
       "      <td>0</td>\n",
       "      <td>0</td>\n",
       "      <td>1</td>\n",
       "      <td>0</td>\n",
       "    </tr>\n",
       "    <tr>\n",
       "      <th>5022</th>\n",
       "      <td>East Harlem</td>\n",
       "      <td>40.79851</td>\n",
       "      <td>-73.94399</td>\n",
       "      <td>80</td>\n",
       "      <td>10</td>\n",
       "      <td>9</td>\n",
       "      <td>0.100000</td>\n",
       "      <td>1</td>\n",
       "      <td>0</td>\n",
       "      <td>0</td>\n",
       "      <td>1</td>\n",
       "      <td>0</td>\n",
       "      <td>0</td>\n",
       "      <td>0</td>\n",
       "      <td>0</td>\n",
       "      <td>1</td>\n",
       "      <td>0</td>\n",
       "    </tr>\n",
       "  </tbody>\n",
       "</table>\n",
       "</div>"
      ],
      "text/plain": [
       "     neighbourhood  latitude  longitude  price  minimum_nights  \\\n",
       "id                                                               \n",
       "2539    Kensington  40.64749  -73.97237    149               1   \n",
       "2595       Midtown  40.75362  -73.98377    225               1   \n",
       "3647        Harlem  40.80902  -73.94190    150               3   \n",
       "3831  Clinton Hill  40.68514  -73.95976     89               1   \n",
       "5022   East Harlem  40.79851  -73.94399     80              10   \n",
       "\n",
       "      number_of_reviews  reviews_per_month  calculated_host_listings_count  \\\n",
       "id                                                                           \n",
       "2539                  9           0.210000                               6   \n",
       "2595                 45           0.380000                               2   \n",
       "3647                  0           1.373221                               1   \n",
       "3831                270           4.640000                               1   \n",
       "5022                  9           0.100000                               1   \n",
       "\n",
       "      availability_365  neighbourhood_group_1  neighbourhood_group_2  \\\n",
       "id                                                                     \n",
       "2539               365                      1                      0   \n",
       "2595               355                      0                      1   \n",
       "3647               365                      0                      1   \n",
       "3831               194                      1                      0   \n",
       "5022                 0                      0                      1   \n",
       "\n",
       "      neighbourhood_group_3  neighbourhood_group_4  neighbourhood_group_5  \\\n",
       "id                                                                          \n",
       "2539                      0                      0                      0   \n",
       "2595                      0                      0                      0   \n",
       "3647                      0                      0                      0   \n",
       "3831                      0                      0                      0   \n",
       "5022                      0                      0                      0   \n",
       "\n",
       "      room_type_1  room_type_2  room_type_3  \n",
       "id                                           \n",
       "2539            1            0            0  \n",
       "2595            0            1            0  \n",
       "3647            1            0            0  \n",
       "3831            0            1            0  \n",
       "5022            0            1            0  "
      ]
     },
     "execution_count": 108,
     "metadata": {},
     "output_type": "execute_result"
    }
   ],
   "source": [
    "from category_encoders import OneHotEncoder\n",
    "\n",
    "colms_encod = ['neighbourhood_group', 'room_type']\n",
    "encoder_nei_gr = OneHotEncoder()\n",
    "coded_data = encoder_nei_gr.fit_transform(data['neighbourhood_group'])\n",
    "data = data.drop(['neighbourhood_group'], axis = 1).join(coded_data)\n",
    "\n",
    "encoder_room_t = OneHotEncoder()\n",
    "coded_data = encoder_room_t.fit_transform(data['room_type'])\n",
    "data = data.drop(['room_type'], axis = 1).join(coded_data)\n",
    "\n",
    "data.head()"
   ]
  },
  {
   "cell_type": "markdown",
   "id": "eb429bed",
   "metadata": {},
   "source": [
    "Для neighbourhood применим target encoder."
   ]
  },
  {
   "cell_type": "code",
   "execution_count": 109,
   "id": "bd5a21c8",
   "metadata": {
    "scrolled": true
   },
   "outputs": [
    {
     "name": "stdout",
     "output_type": "stream",
     "text": [
      "Requirement already satisfied: category_encoders in /home/natasha/anaconda3/lib/python3.9/site-packages (2.6.0)\n",
      "Requirement already satisfied: scikit-learn>=0.20.0 in /home/natasha/anaconda3/lib/python3.9/site-packages (from category_encoders) (1.0.2)\n",
      "Requirement already satisfied: pandas>=1.0.5 in /home/natasha/anaconda3/lib/python3.9/site-packages (from category_encoders) (1.4.2)\n",
      "Requirement already satisfied: patsy>=0.5.1 in /home/natasha/anaconda3/lib/python3.9/site-packages (from category_encoders) (0.5.2)\n",
      "Requirement already satisfied: numpy>=1.14.0 in /home/natasha/anaconda3/lib/python3.9/site-packages (from category_encoders) (1.21.5)\n",
      "Requirement already satisfied: statsmodels>=0.9.0 in /home/natasha/anaconda3/lib/python3.9/site-packages (from category_encoders) (0.13.2)\n",
      "Requirement already satisfied: scipy>=1.0.0 in /home/natasha/anaconda3/lib/python3.9/site-packages (from category_encoders) (1.7.3)\n",
      "Requirement already satisfied: python-dateutil>=2.8.1 in /home/natasha/anaconda3/lib/python3.9/site-packages (from pandas>=1.0.5->category_encoders) (2.8.2)\n",
      "Requirement already satisfied: pytz>=2020.1 in /home/natasha/anaconda3/lib/python3.9/site-packages (from pandas>=1.0.5->category_encoders) (2021.3)\n",
      "Requirement already satisfied: six in /home/natasha/anaconda3/lib/python3.9/site-packages (from patsy>=0.5.1->category_encoders) (1.16.0)\n",
      "Requirement already satisfied: joblib>=0.11 in /home/natasha/anaconda3/lib/python3.9/site-packages (from scikit-learn>=0.20.0->category_encoders) (1.1.0)\n",
      "Requirement already satisfied: threadpoolctl>=2.0.0 in /home/natasha/anaconda3/lib/python3.9/site-packages (from scikit-learn>=0.20.0->category_encoders) (2.2.0)\n",
      "Requirement already satisfied: packaging>=21.3 in /home/natasha/anaconda3/lib/python3.9/site-packages (from statsmodels>=0.9.0->category_encoders) (21.3)\n",
      "Requirement already satisfied: pyparsing!=3.0.5,>=2.0.2 in /home/natasha/anaconda3/lib/python3.9/site-packages (from packaging>=21.3->statsmodels>=0.9.0->category_encoders) (3.0.4)\n"
     ]
    }
   ],
   "source": [
    "!pip install category_encoders"
   ]
  },
  {
   "cell_type": "markdown",
   "id": "3011d19b",
   "metadata": {},
   "source": [
    "Закодируем оставшийся признак. Корреляция между частотой объектов определенным значением может говорить либо о густозаселенности района (при одинакомом проценте продаваемого жилья абсолютное число выше в более населенном районе), либо о его неблагополучности (люди избавляются от недвижимости и переезжают). В нашем случае корреляция может быть даже полезна. Применим CountEncoder."
   ]
  },
  {
   "cell_type": "code",
   "execution_count": 110,
   "id": "f5f7e55e",
   "metadata": {
    "scrolled": false
   },
   "outputs": [
    {
     "data": {
      "text/html": [
       "<div>\n",
       "<style scoped>\n",
       "    .dataframe tbody tr th:only-of-type {\n",
       "        vertical-align: middle;\n",
       "    }\n",
       "\n",
       "    .dataframe tbody tr th {\n",
       "        vertical-align: top;\n",
       "    }\n",
       "\n",
       "    .dataframe thead th {\n",
       "        text-align: right;\n",
       "    }\n",
       "</style>\n",
       "<table border=\"1\" class=\"dataframe\">\n",
       "  <thead>\n",
       "    <tr style=\"text-align: right;\">\n",
       "      <th></th>\n",
       "      <th>latitude</th>\n",
       "      <th>longitude</th>\n",
       "      <th>price</th>\n",
       "      <th>minimum_nights</th>\n",
       "      <th>number_of_reviews</th>\n",
       "      <th>reviews_per_month</th>\n",
       "      <th>calculated_host_listings_count</th>\n",
       "      <th>availability_365</th>\n",
       "      <th>neighbourhood_group_1</th>\n",
       "      <th>neighbourhood_group_2</th>\n",
       "      <th>neighbourhood_group_3</th>\n",
       "      <th>neighbourhood_group_4</th>\n",
       "      <th>neighbourhood_group_5</th>\n",
       "      <th>room_type_1</th>\n",
       "      <th>room_type_2</th>\n",
       "      <th>room_type_3</th>\n",
       "      <th>neighbourhood_encoded</th>\n",
       "    </tr>\n",
       "    <tr>\n",
       "      <th>id</th>\n",
       "      <th></th>\n",
       "      <th></th>\n",
       "      <th></th>\n",
       "      <th></th>\n",
       "      <th></th>\n",
       "      <th></th>\n",
       "      <th></th>\n",
       "      <th></th>\n",
       "      <th></th>\n",
       "      <th></th>\n",
       "      <th></th>\n",
       "      <th></th>\n",
       "      <th></th>\n",
       "      <th></th>\n",
       "      <th></th>\n",
       "      <th></th>\n",
       "      <th></th>\n",
       "    </tr>\n",
       "  </thead>\n",
       "  <tbody>\n",
       "    <tr>\n",
       "      <th>2539</th>\n",
       "      <td>40.64749</td>\n",
       "      <td>-73.97237</td>\n",
       "      <td>149</td>\n",
       "      <td>1</td>\n",
       "      <td>9</td>\n",
       "      <td>0.210000</td>\n",
       "      <td>6</td>\n",
       "      <td>365</td>\n",
       "      <td>1</td>\n",
       "      <td>0</td>\n",
       "      <td>0</td>\n",
       "      <td>0</td>\n",
       "      <td>0</td>\n",
       "      <td>1</td>\n",
       "      <td>0</td>\n",
       "      <td>0</td>\n",
       "      <td>175</td>\n",
       "    </tr>\n",
       "    <tr>\n",
       "      <th>2595</th>\n",
       "      <td>40.75362</td>\n",
       "      <td>-73.98377</td>\n",
       "      <td>225</td>\n",
       "      <td>1</td>\n",
       "      <td>45</td>\n",
       "      <td>0.380000</td>\n",
       "      <td>2</td>\n",
       "      <td>355</td>\n",
       "      <td>0</td>\n",
       "      <td>1</td>\n",
       "      <td>0</td>\n",
       "      <td>0</td>\n",
       "      <td>0</td>\n",
       "      <td>0</td>\n",
       "      <td>1</td>\n",
       "      <td>0</td>\n",
       "      <td>1545</td>\n",
       "    </tr>\n",
       "    <tr>\n",
       "      <th>3647</th>\n",
       "      <td>40.80902</td>\n",
       "      <td>-73.94190</td>\n",
       "      <td>150</td>\n",
       "      <td>3</td>\n",
       "      <td>0</td>\n",
       "      <td>1.373221</td>\n",
       "      <td>1</td>\n",
       "      <td>365</td>\n",
       "      <td>0</td>\n",
       "      <td>1</td>\n",
       "      <td>0</td>\n",
       "      <td>0</td>\n",
       "      <td>0</td>\n",
       "      <td>1</td>\n",
       "      <td>0</td>\n",
       "      <td>0</td>\n",
       "      <td>2658</td>\n",
       "    </tr>\n",
       "    <tr>\n",
       "      <th>3831</th>\n",
       "      <td>40.68514</td>\n",
       "      <td>-73.95976</td>\n",
       "      <td>89</td>\n",
       "      <td>1</td>\n",
       "      <td>270</td>\n",
       "      <td>4.640000</td>\n",
       "      <td>1</td>\n",
       "      <td>194</td>\n",
       "      <td>1</td>\n",
       "      <td>0</td>\n",
       "      <td>0</td>\n",
       "      <td>0</td>\n",
       "      <td>0</td>\n",
       "      <td>0</td>\n",
       "      <td>1</td>\n",
       "      <td>0</td>\n",
       "      <td>572</td>\n",
       "    </tr>\n",
       "    <tr>\n",
       "      <th>5022</th>\n",
       "      <td>40.79851</td>\n",
       "      <td>-73.94399</td>\n",
       "      <td>80</td>\n",
       "      <td>10</td>\n",
       "      <td>9</td>\n",
       "      <td>0.100000</td>\n",
       "      <td>1</td>\n",
       "      <td>0</td>\n",
       "      <td>0</td>\n",
       "      <td>1</td>\n",
       "      <td>0</td>\n",
       "      <td>0</td>\n",
       "      <td>0</td>\n",
       "      <td>0</td>\n",
       "      <td>1</td>\n",
       "      <td>0</td>\n",
       "      <td>1117</td>\n",
       "    </tr>\n",
       "  </tbody>\n",
       "</table>\n",
       "</div>"
      ],
      "text/plain": [
       "      latitude  longitude  price  minimum_nights  number_of_reviews  \\\n",
       "id                                                                    \n",
       "2539  40.64749  -73.97237    149               1                  9   \n",
       "2595  40.75362  -73.98377    225               1                 45   \n",
       "3647  40.80902  -73.94190    150               3                  0   \n",
       "3831  40.68514  -73.95976     89               1                270   \n",
       "5022  40.79851  -73.94399     80              10                  9   \n",
       "\n",
       "      reviews_per_month  calculated_host_listings_count  availability_365  \\\n",
       "id                                                                          \n",
       "2539           0.210000                               6               365   \n",
       "2595           0.380000                               2               355   \n",
       "3647           1.373221                               1               365   \n",
       "3831           4.640000                               1               194   \n",
       "5022           0.100000                               1                 0   \n",
       "\n",
       "      neighbourhood_group_1  neighbourhood_group_2  neighbourhood_group_3  \\\n",
       "id                                                                          \n",
       "2539                      1                      0                      0   \n",
       "2595                      0                      1                      0   \n",
       "3647                      0                      1                      0   \n",
       "3831                      1                      0                      0   \n",
       "5022                      0                      1                      0   \n",
       "\n",
       "      neighbourhood_group_4  neighbourhood_group_5  room_type_1  room_type_2  \\\n",
       "id                                                                             \n",
       "2539                      0                      0            1            0   \n",
       "2595                      0                      0            0            1   \n",
       "3647                      0                      0            1            0   \n",
       "3831                      0                      0            0            1   \n",
       "5022                      0                      0            0            1   \n",
       "\n",
       "      room_type_3  neighbourhood_encoded  \n",
       "id                                        \n",
       "2539            0                    175  \n",
       "2595            0                   1545  \n",
       "3647            0                   2658  \n",
       "3831            0                    572  \n",
       "5022            0                   1117  "
      ]
     },
     "execution_count": 110,
     "metadata": {},
     "output_type": "execute_result"
    }
   ],
   "source": [
    "from category_encoders import CountEncoder\n",
    "encoder = CountEncoder()\n",
    "data['neighbourhood_encoded'] = encoder.fit_transform(data['neighbourhood'], data['price'])\n",
    "data = data.drop(['neighbourhood'], axis=1)\n",
    "data.head()"
   ]
  },
  {
   "cell_type": "markdown",
   "id": "ed5986c9",
   "metadata": {},
   "source": [
    "# Построим пробную модель"
   ]
  },
  {
   "cell_type": "markdown",
   "id": "c07848ca",
   "metadata": {},
   "source": [
    "# Разделим выборку на train и test."
   ]
  },
  {
   "cell_type": "code",
   "execution_count": 111,
   "id": "65480a2f",
   "metadata": {},
   "outputs": [],
   "source": [
    "from sklearn.model_selection import train_test_split\n",
    "\n",
    "X = data.drop('price', axis=1)\n",
    "Y = data['price']\n",
    "X_train, X_test, y_train, y_test = train_test_split(X, Y, test_size=0.3, random_state=18)"
   ]
  },
  {
   "cell_type": "markdown",
   "id": "eb23ff6e",
   "metadata": {},
   "source": [
    "# Масштабируем данные"
   ]
  },
  {
   "cell_type": "code",
   "execution_count": 112,
   "id": "6ea4d334",
   "metadata": {},
   "outputs": [],
   "source": [
    "def scale_data(scaler, X_train, X_test):\n",
    "    scaler = scaler()\n",
    "    scaled_X_train = scaler.fit_transform(X_train)\n",
    "    scaled_X_test = scaler.transform(X_test)\n",
    "    return scaled_X_train, scaled_X_test"
   ]
  },
  {
   "cell_type": "markdown",
   "id": "959bcf45",
   "metadata": {},
   "source": [
    "# Строим модель"
   ]
  },
  {
   "cell_type": "code",
   "execution_count": 113,
   "id": "20cb33ad",
   "metadata": {},
   "outputs": [],
   "source": [
    "from sklearn.metrics import r2_score, mean_squared_error, mean_absolute_error\n",
    "\n",
    "def rmse(y_pred, y):\n",
    "    return np.sqrt(mean_squared_error(y_pred, y))\n",
    "\n",
    "def err_check(y_train, y_train_pred, y_test, y_pred):   \n",
    "    print('MAE train: ', np.round(mean_absolute_error(y_train, y_train_pred), 2))\n",
    "    print('MAE test: ', np.round(mean_absolute_error(y_test, y_pred), 2))\n",
    "    print('RMSE train: ', np.round(rmse(y_train, y_train_pred), 2))\n",
    "    print('RMSE test: ', np.round(rmse(y_test, y_pred), 2))\n",
    "    print('R2 train: ', np.round(r2_score(y_train, y_train_pred), 2))\n",
    "    print('R2 test: ', np.round(r2_score(y_test, y_pred), 2))"
   ]
  },
  {
   "cell_type": "code",
   "execution_count": 114,
   "id": "7884f39c",
   "metadata": {},
   "outputs": [],
   "source": [
    "def model_results(model, scaler, X_train, X_test, y_train, y_test):\n",
    "    scaled_X_train, scaled_X_test = scale_data(scaler, X_train, X_test)\n",
    "    model = model()\n",
    "    model.fit(scaled_X_train, y_train)\n",
    "    y_pred = model.predict(scaled_X_test)\n",
    "    y_train_pred = model.predict(scaled_X_train)\n",
    "    print(model, scaler)\n",
    "    err_check(y_train, y_train_pred, y_test, y_pred)"
   ]
  },
  {
   "cell_type": "code",
   "execution_count": 115,
   "id": "db781b8b",
   "metadata": {},
   "outputs": [],
   "source": [
    "def feature_importance(model, columns):\n",
    "    \n",
    "    plt.figure(figsize=(8,6), dpi=200);\n",
    "    featureImportance = pd.DataFrame({\"feature\": X.columns, \n",
    "                                      \"importance\": model.coef_})\n",
    "    featureImportance.set_index('feature', inplace=True)\n",
    "    featureImportance.sort_values(['importance'], ascending=False, inplace=True)\n",
    "    featureImportance.plot.bar();\n",
    "    plt.show();\n",
    "    print(featureImportance.head(20))"
   ]
  },
  {
   "cell_type": "code",
   "execution_count": 116,
   "id": "9313e56d",
   "metadata": {},
   "outputs": [
    {
     "name": "stdout",
     "output_type": "stream",
     "text": [
      "LinearRegression() <class 'sklearn.preprocessing._data.StandardScaler'>\n",
      "MAE train:  71.95\n",
      "MAE test:  75.43\n",
      "RMSE train:  208.38\n",
      "RMSE test:  268.31\n",
      "R2 train:  0.11\n",
      "R2 test:  0.08\n"
     ]
    }
   ],
   "source": [
    "from sklearn.linear_model import LinearRegression\n",
    "from sklearn.preprocessing import StandardScaler\n",
    "\n",
    "models = [LinearRegression]\n",
    "scalers = [StandardScaler]\n",
    "for model in models:\n",
    "    for scaler in scalers:\n",
    "        model_results(model, scaler, X_train, X_test, y_train, y_test)   "
   ]
  },
  {
   "cell_type": "markdown",
   "id": "4b762f76",
   "metadata": {},
   "source": [
    "# Отбрасывание аномалий"
   ]
  },
  {
   "cell_type": "markdown",
   "id": "dee6c1df",
   "metadata": {},
   "source": [
    "В данных присутствуют выбросы. Теперь проведем отбрасывание выбросов в данных и проверим, как изменятся результаты моделей."
   ]
  },
  {
   "cell_type": "code",
   "execution_count": 117,
   "id": "9ceb5062",
   "metadata": {},
   "outputs": [
    {
     "name": "stdout",
     "output_type": "stream",
     "text": [
      "1.0\n"
     ]
    },
    {
     "data": {
      "image/png": "[encoded data removed]",
      "text/plain": [
       "<Figure size 432x288 with 1 Axes>"
      ]
     },
     "metadata": {
      "needs_background": "light"
     },
     "output_type": "display_data"
    },
    {
     "name": "stdout",
     "output_type": "stream",
     "text": [
      "0.98\n"
     ]
    },
    {
     "data": {
      "image/png": "[encoded data removed]",
      "text/plain": [
       "<Figure size 432x288 with 1 Axes>"
      ]
     },
     "metadata": {
      "needs_background": "light"
     },
     "output_type": "display_data"
    },
    {
     "name": "stdout",
     "output_type": "stream",
     "text": [
      "0.97\n"
     ]
    },
    {
     "data": {
      "image/png": "[encoded data removed]",
      "text/plain": [
       "<Figure size 432x288 with 1 Axes>"
      ]
     },
     "metadata": {
      "needs_background": "light"
     },
     "output_type": "display_data"
    },
    {
     "name": "stdout",
     "output_type": "stream",
     "text": [
      "0.99\n"
     ]
    },
    {
     "data": {
      "image/png": "[encoded data removed]",
      "text/plain": [
       "<Figure size 432x288 with 1 Axes>"
      ]
     },
     "metadata": {
      "needs_background": "light"
     },
     "output_type": "display_data"
    },
    {
     "name": "stdout",
     "output_type": "stream",
     "text": [
      "0.93\n"
     ]
    },
    {
     "data": {
      "image/png": "[encoded data removed]",
      "text/plain": [
       "<Figure size 432x288 with 1 Axes>"
      ]
     },
     "metadata": {
      "needs_background": "light"
     },
     "output_type": "display_data"
    },
    {
     "name": "stdout",
     "output_type": "stream",
     "text": [
      "0.98\n"
     ]
    },
    {
     "data": {
      "image/png": "[encoded data removed]",
      "text/plain": [
       "<Figure size 432x288 with 1 Axes>"
      ]
     },
     "metadata": {
      "needs_background": "light"
     },
     "output_type": "display_data"
    },
    {
     "name": "stdout",
     "output_type": "stream",
     "text": [
      "0.94\n"
     ]
    },
    {
     "data": {
      "image/png": "[encoded data removed]",
      "text/plain": [
       "<Figure size 432x288 with 1 Axes>"
      ]
     },
     "metadata": {
      "needs_background": "light"
     },
     "output_type": "display_data"
    },
    {
     "name": "stdout",
     "output_type": "stream",
     "text": [
      "1.0\n"
     ]
    },
    {
     "data": {
      "image/png": "[encoded data removed]",
      "text/plain": [
       "<Figure size 432x288 with 1 Axes>"
      ]
     },
     "metadata": {
      "needs_background": "light"
     },
     "output_type": "display_data"
    }
   ],
   "source": [
    "columns = data.columns.tolist()\n",
    "columns = columns[:8]\n",
    "for feature in columns:\n",
    "    k = 7 if feature in ['minimum_nights', 'calculated_host_listings_count'] else 3\n",
    "    perc_75, perc_25 = np.percentile(data[feature],[75, 25])\n",
    "    IQR = perc_75 - perc_25\n",
    "    print(np.round(data.drop(data[data[feature] > perc_75 + k*IQR].index, axis=0).shape[0] / data.shape[0], 2))\n",
    "    sns.boxplot(x=feature, data=data.drop(data[(data[feature] > perc_75 + k*IQR)].index, axis=0))\n",
    "    plt.show();"
   ]
  },
  {
   "cell_type": "code",
   "execution_count": 118,
   "id": "c918546d",
   "metadata": {},
   "outputs": [],
   "source": [
    "for feature in columns:\n",
    "    k = 7 if feature in ['minimum_nights', 'calculated_host_listings_count'] else 3\n",
    "    perc_75, perc_25 = np.percentile(data[feature],[75, 25])\n",
    "    IQR = perc_75 - perc_25\n",
    "    data = data.drop(data[data[feature] > perc_75 + k*IQR].index, axis=0)"
   ]
  },
  {
   "cell_type": "code",
   "execution_count": 119,
   "id": "6b46b4a6",
   "metadata": {
    "scrolled": false
   },
   "outputs": [
    {
     "data": {
      "image/png": "[encoded data removed]",
      "text/plain": [
       "<Figure size 432x288 with 1 Axes>"
      ]
     },
     "metadata": {
      "needs_background": "light"
     },
     "output_type": "display_data"
    },
    {
     "data": {
      "image/png": "[encoded data removed]",
      "text/plain": [
       "<Figure size 432x288 with 1 Axes>"
      ]
     },
     "metadata": {
      "needs_background": "light"
     },
     "output_type": "display_data"
    },
    {
     "data": {
      "image/png": "[encoded data removed]",
      "text/plain": [
       "<Figure size 432x288 with 1 Axes>"
      ]
     },
     "metadata": {
      "needs_background": "light"
     },
     "output_type": "display_data"
    },
    {
     "data": {
      "image/png": "[encoded data removed]",
      "text/plain": [
       "<Figure size 432x288 with 1 Axes>"
      ]
     },
     "metadata": {
      "needs_background": "light"
     },
     "output_type": "display_data"
    },
    {
     "data": {
      "image/png": "[encoded data removed]",
      "text/plain": [
       "<Figure size 432x288 with 1 Axes>"
      ]
     },
     "metadata": {
      "needs_background": "light"
     },
     "output_type": "display_data"
    },
    {
     "data": {
      "image/png": "[encoded data removed]",
      "text/plain": [
       "<Figure size 432x288 with 1 Axes>"
      ]
     },
     "metadata": {
      "needs_background": "light"
     },
     "output_type": "display_data"
    },
    {
     "data": {
      "image/png": "[encoded data removed]",
      "text/plain": [
       "<Figure size 432x288 with 1 Axes>"
      ]
     },
     "metadata": {
      "needs_background": "light"
     },
     "output_type": "display_data"
    },
    {
     "data": {
      "image/png": "[encoded data removed]",
      "text/plain": [
       "<Figure size 432x288 with 1 Axes>"
      ]
     },
     "metadata": {
      "needs_background": "light"
     },
     "output_type": "display_data"
    }
   ],
   "source": [
    "for feature in columns:\n",
    "    sns.boxplot(x=feature, data=data)\n",
    "    plt.show();"
   ]
  },
  {
   "cell_type": "markdown",
   "id": "0352e5de",
   "metadata": {},
   "source": [
    "# Проверка улучшения после отбрасывания аномалий"
   ]
  },
  {
   "cell_type": "code",
   "execution_count": 120,
   "id": "8557b055",
   "metadata": {},
   "outputs": [],
   "source": [
    "from sklearn.model_selection import train_test_split\n",
    "\n",
    "X = data.drop('price', axis=1)\n",
    "Y = data['price']\n",
    "X_train, X_test, y_train, y_test = train_test_split(X, Y, test_size=0.3, random_state=18)"
   ]
  },
  {
   "cell_type": "code",
   "execution_count": 121,
   "id": "d7375038",
   "metadata": {},
   "outputs": [
    {
     "name": "stdout",
     "output_type": "stream",
     "text": [
      "LinearRegression() <class 'sklearn.preprocessing._data.StandardScaler'>\n",
      "MAE train:  45.77\n",
      "MAE test:  45.61\n",
      "RMSE train:  67.22\n",
      "RMSE test:  66.51\n",
      "R2 train:  0.41\n",
      "R2 test:  0.43\n"
     ]
    }
   ],
   "source": [
    "from sklearn.linear_model import LinearRegression\n",
    "from sklearn.preprocessing import StandardScaler\n",
    "\n",
    "models = [LinearRegression]\n",
    "scalers = [StandardScaler]\n",
    "for model in models:\n",
    "    for scaler in scalers:\n",
    "        model_results(model, scaler, X_train, X_test, y_train, y_test)    "
   ]
  },
  {
   "cell_type": "markdown",
   "id": "045dc787",
   "metadata": {},
   "source": [
    "Ужесточим отбрасывание"
   ]
  },
  {
   "cell_type": "code",
   "execution_count": 122,
   "id": "cabb9925",
   "metadata": {},
   "outputs": [],
   "source": [
    "columns = data.columns.tolist()\n",
    "columns = columns[:8]\n",
    "for feature in columns:\n",
    "    k = 3 if feature in ['minimum_nights', 'calculated_host_listings_count'] else 1.5\n",
    "    perc_75, perc_25 = np.percentile(data[feature],[75, 25])\n",
    "    IQR = perc_75 - perc_25\n",
    "    data_2 = data.drop(data[data[feature] > perc_75 + k*IQR].index, axis=0)"
   ]
  },
  {
   "cell_type": "code",
   "execution_count": 123,
   "id": "e020d75d",
   "metadata": {},
   "outputs": [],
   "source": [
    "from sklearn.model_selection import train_test_split\n",
    "\n",
    "X = data_2.drop('price', axis=1)\n",
    "Y = data_2['price']\n",
    "X_train, X_test, y_train, y_test = train_test_split(X, Y, test_size=0.3, random_state=18)"
   ]
  },
  {
   "cell_type": "code",
   "execution_count": 124,
   "id": "b3cd729a",
   "metadata": {
    "scrolled": true
   },
   "outputs": [
    {
     "name": "stdout",
     "output_type": "stream",
     "text": [
      "LinearRegression() <class 'sklearn.preprocessing._data.StandardScaler'>\n",
      "MAE train:  45.77\n",
      "MAE test:  45.61\n",
      "RMSE train:  67.22\n",
      "RMSE test:  66.51\n",
      "R2 train:  0.41\n",
      "R2 test:  0.43\n"
     ]
    }
   ],
   "source": [
    "from sklearn.linear_model import LinearRegression\n",
    "from sklearn.preprocessing import StandardScaler\n",
    "\n",
    "models = [LinearRegression]\n",
    "scalers = [StandardScaler]\n",
    "for model in models:\n",
    "    for scaler in scalers:\n",
    "        model_results(model, scaler, X_train, X_test, y_train, y_test)"
   ]
  },
  {
   "cell_type": "markdown",
   "id": "56922cbb",
   "metadata": {},
   "source": [
    "Разница незаметна"
   ]
  },
  {
   "cell_type": "markdown",
   "id": "ddaebe42",
   "metadata": {},
   "source": [
    "# Проверка улучшения после добавления новых данных"
   ]
  },
  {
   "cell_type": "code",
   "execution_count": 125,
   "id": "207b4b5e",
   "metadata": {},
   "outputs": [
    {
     "data": {
      "text/html": [
       "<div>\n",
       "<style scoped>\n",
       "    .dataframe tbody tr th:only-of-type {\n",
       "        vertical-align: middle;\n",
       "    }\n",
       "\n",
       "    .dataframe tbody tr th {\n",
       "        vertical-align: top;\n",
       "    }\n",
       "\n",
       "    .dataframe thead th {\n",
       "        text-align: right;\n",
       "    }\n",
       "</style>\n",
       "<table border=\"1\" class=\"dataframe\">\n",
       "  <thead>\n",
       "    <tr style=\"text-align: right;\">\n",
       "      <th></th>\n",
       "      <th>name</th>\n",
       "      <th>host_id</th>\n",
       "      <th>host_name</th>\n",
       "      <th>neighbourhood_group</th>\n",
       "      <th>neighbourhood</th>\n",
       "      <th>latitude</th>\n",
       "      <th>longitude</th>\n",
       "      <th>room_type</th>\n",
       "      <th>price</th>\n",
       "      <th>minimum_nights</th>\n",
       "      <th>number_of_reviews</th>\n",
       "      <th>last_review</th>\n",
       "      <th>reviews_per_month</th>\n",
       "      <th>calculated_host_listings_count</th>\n",
       "      <th>availability_365</th>\n",
       "      <th>crimes</th>\n",
       "    </tr>\n",
       "    <tr>\n",
       "      <th>id</th>\n",
       "      <th></th>\n",
       "      <th></th>\n",
       "      <th></th>\n",
       "      <th></th>\n",
       "      <th></th>\n",
       "      <th></th>\n",
       "      <th></th>\n",
       "      <th></th>\n",
       "      <th></th>\n",
       "      <th></th>\n",
       "      <th></th>\n",
       "      <th></th>\n",
       "      <th></th>\n",
       "      <th></th>\n",
       "      <th></th>\n",
       "      <th></th>\n",
       "    </tr>\n",
       "  </thead>\n",
       "  <tbody>\n",
       "    <tr>\n",
       "      <th>2539</th>\n",
       "      <td>Clean &amp; quiet apt home by the park</td>\n",
       "      <td>2787</td>\n",
       "      <td>John</td>\n",
       "      <td>Brooklyn</td>\n",
       "      <td>Kensington</td>\n",
       "      <td>40.64749</td>\n",
       "      <td>-73.97237</td>\n",
       "      <td>Private room</td>\n",
       "      <td>149</td>\n",
       "      <td>1</td>\n",
       "      <td>9</td>\n",
       "      <td>2018-10-19</td>\n",
       "      <td>0.21</td>\n",
       "      <td>6</td>\n",
       "      <td>365</td>\n",
       "      <td>67569</td>\n",
       "    </tr>\n",
       "    <tr>\n",
       "      <th>2595</th>\n",
       "      <td>Skylit Midtown Castle</td>\n",
       "      <td>2845</td>\n",
       "      <td>Jennifer</td>\n",
       "      <td>Manhattan</td>\n",
       "      <td>Midtown</td>\n",
       "      <td>40.75362</td>\n",
       "      <td>-73.98377</td>\n",
       "      <td>Entire home/apt</td>\n",
       "      <td>225</td>\n",
       "      <td>1</td>\n",
       "      <td>45</td>\n",
       "      <td>2019-05-21</td>\n",
       "      <td>0.38</td>\n",
       "      <td>2</td>\n",
       "      <td>355</td>\n",
       "      <td>101104</td>\n",
       "    </tr>\n",
       "    <tr>\n",
       "      <th>3647</th>\n",
       "      <td>THE VILLAGE OF HARLEM....NEW YORK !</td>\n",
       "      <td>4632</td>\n",
       "      <td>Elisabeth</td>\n",
       "      <td>Manhattan</td>\n",
       "      <td>Harlem</td>\n",
       "      <td>40.80902</td>\n",
       "      <td>-73.94190</td>\n",
       "      <td>Private room</td>\n",
       "      <td>150</td>\n",
       "      <td>3</td>\n",
       "      <td>0</td>\n",
       "      <td>NaN</td>\n",
       "      <td>NaN</td>\n",
       "      <td>1</td>\n",
       "      <td>365</td>\n",
       "      <td>102483</td>\n",
       "    </tr>\n",
       "    <tr>\n",
       "      <th>3831</th>\n",
       "      <td>Cozy Entire Floor of Brownstone</td>\n",
       "      <td>4869</td>\n",
       "      <td>LisaRoxanne</td>\n",
       "      <td>Brooklyn</td>\n",
       "      <td>Clinton Hill</td>\n",
       "      <td>40.68514</td>\n",
       "      <td>-73.95976</td>\n",
       "      <td>Entire home/apt</td>\n",
       "      <td>89</td>\n",
       "      <td>1</td>\n",
       "      <td>270</td>\n",
       "      <td>2019-07-05</td>\n",
       "      <td>4.64</td>\n",
       "      <td>1</td>\n",
       "      <td>194</td>\n",
       "      <td>91131</td>\n",
       "    </tr>\n",
       "    <tr>\n",
       "      <th>5022</th>\n",
       "      <td>Entire Apt: Spacious Studio/Loft by central park</td>\n",
       "      <td>7192</td>\n",
       "      <td>Laura</td>\n",
       "      <td>Manhattan</td>\n",
       "      <td>East Harlem</td>\n",
       "      <td>40.79851</td>\n",
       "      <td>-73.94399</td>\n",
       "      <td>Entire home/apt</td>\n",
       "      <td>80</td>\n",
       "      <td>10</td>\n",
       "      <td>9</td>\n",
       "      <td>2018-11-19</td>\n",
       "      <td>0.10</td>\n",
       "      <td>1</td>\n",
       "      <td>0</td>\n",
       "      <td>102782</td>\n",
       "    </tr>\n",
       "  </tbody>\n",
       "</table>\n",
       "</div>"
      ],
      "text/plain": [
       "                                                  name  host_id    host_name  \\\n",
       "id                                                                             \n",
       "2539                Clean & quiet apt home by the park     2787         John   \n",
       "2595                             Skylit Midtown Castle     2845     Jennifer   \n",
       "3647               THE VILLAGE OF HARLEM....NEW YORK !     4632    Elisabeth   \n",
       "3831                   Cozy Entire Floor of Brownstone     4869  LisaRoxanne   \n",
       "5022  Entire Apt: Spacious Studio/Loft by central park     7192        Laura   \n",
       "\n",
       "     neighbourhood_group neighbourhood  latitude  longitude        room_type  \\\n",
       "id                                                                             \n",
       "2539            Brooklyn    Kensington  40.64749  -73.97237     Private room   \n",
       "2595           Manhattan       Midtown  40.75362  -73.98377  Entire home/apt   \n",
       "3647           Manhattan        Harlem  40.80902  -73.94190     Private room   \n",
       "3831            Brooklyn  Clinton Hill  40.68514  -73.95976  Entire home/apt   \n",
       "5022           Manhattan   East Harlem  40.79851  -73.94399  Entire home/apt   \n",
       "\n",
       "      price  minimum_nights  number_of_reviews last_review  reviews_per_month  \\\n",
       "id                                                                              \n",
       "2539    149               1                  9  2018-10-19               0.21   \n",
       "2595    225               1                 45  2019-05-21               0.38   \n",
       "3647    150               3                  0         NaN                NaN   \n",
       "3831     89               1                270  2019-07-05               4.64   \n",
       "5022     80              10                  9  2018-11-19               0.10   \n",
       "\n",
       "      calculated_host_listings_count  availability_365  crimes  \n",
       "id                                                              \n",
       "2539                               6               365   67569  \n",
       "2595                               2               355  101104  \n",
       "3647                               1               365  102483  \n",
       "3831                               1               194   91131  \n",
       "5022                               1                 0  102782  "
      ]
     },
     "execution_count": 125,
     "metadata": {},
     "output_type": "execute_result"
    }
   ],
   "source": [
    "new_data = pd.read_csv('data_with_crimes.csv', index_col=0)\n",
    "new_data.head(5)"
   ]
  },
  {
   "cell_type": "code",
   "execution_count": 126,
   "id": "d8b7c751",
   "metadata": {},
   "outputs": [],
   "source": [
    "# дропнем не используемые колонки\n",
    "feature_list = ['name', 'host_id', 'host_name', 'last_review']\n",
    "new_data = new_data.drop(feature_list, axis=1)\n",
    "# заполним пропуски\n",
    "new_data.reviews_per_month = new_data.reviews_per_month.fillna(\n",
    "    data.reviews_per_month.mean())\n",
    "# закодируем категориальные данные\n",
    "colms_encod = ['neighbourhood_group', 'room_type']\n",
    "encoder_nei_gr = OneHotEncoder()\n",
    "coded_data = encoder_nei_gr.fit_transform(new_data['neighbourhood_group'])\n",
    "new_data = new_data.drop(['neighbourhood_group'], axis = 1).join(coded_data)\n",
    "\n",
    "encoder_room_t = OneHotEncoder()\n",
    "coded_data = encoder_room_t.fit_transform(new_data['room_type'])\n",
    "new_data = new_data.drop(['room_type'], axis = 1).join(coded_data)\n",
    "\n",
    "encoder = CountEncoder()\n",
    "new_data['neighbourhood_encoded'] = encoder.fit_transform(new_data['neighbourhood'],\n",
    "                                                          new_data['price'])\n",
    "new_data = new_data.drop(['neighbourhood'], axis=1)\n",
    "\n",
    "# отбросим аномалии\n",
    "columns = new_data.columns.tolist()\n",
    "columns = columns[:8]\n",
    "for feature in columns:\n",
    "    k = 3 if feature in ['minimum_nights', 'calculated_host_listings_count'] else 1.5\n",
    "    perc_75, perc_25 = np.percentile(new_data[feature],[75, 25])\n",
    "    IQR = perc_75 - perc_25\n",
    "    new_data = new_data.drop(new_data[new_data[feature] > perc_75 + k*IQR].index, axis=0)"
   ]
  },
  {
   "cell_type": "code",
   "execution_count": 127,
   "id": "6ad8578a",
   "metadata": {},
   "outputs": [
    {
     "data": {
      "text/html": [
       "<div>\n",
       "<style scoped>\n",
       "    .dataframe tbody tr th:only-of-type {\n",
       "        vertical-align: middle;\n",
       "    }\n",
       "\n",
       "    .dataframe tbody tr th {\n",
       "        vertical-align: top;\n",
       "    }\n",
       "\n",
       "    .dataframe thead th {\n",
       "        text-align: right;\n",
       "    }\n",
       "</style>\n",
       "<table border=\"1\" class=\"dataframe\">\n",
       "  <thead>\n",
       "    <tr style=\"text-align: right;\">\n",
       "      <th></th>\n",
       "      <th>latitude</th>\n",
       "      <th>longitude</th>\n",
       "      <th>price</th>\n",
       "      <th>minimum_nights</th>\n",
       "      <th>number_of_reviews</th>\n",
       "      <th>reviews_per_month</th>\n",
       "      <th>calculated_host_listings_count</th>\n",
       "      <th>availability_365</th>\n",
       "      <th>crimes</th>\n",
       "      <th>neighbourhood_group_1</th>\n",
       "      <th>neighbourhood_group_2</th>\n",
       "      <th>neighbourhood_group_3</th>\n",
       "      <th>neighbourhood_group_4</th>\n",
       "      <th>neighbourhood_group_5</th>\n",
       "      <th>room_type_1</th>\n",
       "      <th>room_type_2</th>\n",
       "      <th>room_type_3</th>\n",
       "      <th>neighbourhood_encoded</th>\n",
       "    </tr>\n",
       "    <tr>\n",
       "      <th>id</th>\n",
       "      <th></th>\n",
       "      <th></th>\n",
       "      <th></th>\n",
       "      <th></th>\n",
       "      <th></th>\n",
       "      <th></th>\n",
       "      <th></th>\n",
       "      <th></th>\n",
       "      <th></th>\n",
       "      <th></th>\n",
       "      <th></th>\n",
       "      <th></th>\n",
       "      <th></th>\n",
       "      <th></th>\n",
       "      <th></th>\n",
       "      <th></th>\n",
       "      <th></th>\n",
       "      <th></th>\n",
       "    </tr>\n",
       "  </thead>\n",
       "  <tbody>\n",
       "    <tr>\n",
       "      <th>36479230</th>\n",
       "      <td>40.70418</td>\n",
       "      <td>-73.91471</td>\n",
       "      <td>42</td>\n",
       "      <td>7</td>\n",
       "      <td>0</td>\n",
       "      <td>1.075665</td>\n",
       "      <td>1</td>\n",
       "      <td>16</td>\n",
       "      <td>76767</td>\n",
       "      <td>1</td>\n",
       "      <td>0</td>\n",
       "      <td>0</td>\n",
       "      <td>0</td>\n",
       "      <td>0</td>\n",
       "      <td>1</td>\n",
       "      <td>0</td>\n",
       "      <td>0</td>\n",
       "      <td>2465</td>\n",
       "    </tr>\n",
       "    <tr>\n",
       "      <th>36481615</th>\n",
       "      <td>40.72585</td>\n",
       "      <td>-73.94001</td>\n",
       "      <td>54</td>\n",
       "      <td>6</td>\n",
       "      <td>0</td>\n",
       "      <td>1.075665</td>\n",
       "      <td>1</td>\n",
       "      <td>15</td>\n",
       "      <td>81551</td>\n",
       "      <td>1</td>\n",
       "      <td>0</td>\n",
       "      <td>0</td>\n",
       "      <td>0</td>\n",
       "      <td>0</td>\n",
       "      <td>1</td>\n",
       "      <td>0</td>\n",
       "      <td>0</td>\n",
       "      <td>1115</td>\n",
       "    </tr>\n",
       "    <tr>\n",
       "      <th>36484087</th>\n",
       "      <td>40.76392</td>\n",
       "      <td>-73.99183</td>\n",
       "      <td>125</td>\n",
       "      <td>4</td>\n",
       "      <td>0</td>\n",
       "      <td>1.075665</td>\n",
       "      <td>1</td>\n",
       "      <td>31</td>\n",
       "      <td>88981</td>\n",
       "      <td>0</td>\n",
       "      <td>1</td>\n",
       "      <td>0</td>\n",
       "      <td>0</td>\n",
       "      <td>0</td>\n",
       "      <td>1</td>\n",
       "      <td>0</td>\n",
       "      <td>0</td>\n",
       "      <td>1958</td>\n",
       "    </tr>\n",
       "    <tr>\n",
       "      <th>36485431</th>\n",
       "      <td>40.81475</td>\n",
       "      <td>-73.94867</td>\n",
       "      <td>115</td>\n",
       "      <td>10</td>\n",
       "      <td>0</td>\n",
       "      <td>1.075665</td>\n",
       "      <td>1</td>\n",
       "      <td>27</td>\n",
       "      <td>93405</td>\n",
       "      <td>0</td>\n",
       "      <td>1</td>\n",
       "      <td>0</td>\n",
       "      <td>0</td>\n",
       "      <td>0</td>\n",
       "      <td>0</td>\n",
       "      <td>1</td>\n",
       "      <td>0</td>\n",
       "      <td>2658</td>\n",
       "    </tr>\n",
       "    <tr>\n",
       "      <th>36487245</th>\n",
       "      <td>40.76404</td>\n",
       "      <td>-73.98933</td>\n",
       "      <td>90</td>\n",
       "      <td>7</td>\n",
       "      <td>0</td>\n",
       "      <td>1.075665</td>\n",
       "      <td>1</td>\n",
       "      <td>23</td>\n",
       "      <td>90943</td>\n",
       "      <td>0</td>\n",
       "      <td>1</td>\n",
       "      <td>0</td>\n",
       "      <td>0</td>\n",
       "      <td>0</td>\n",
       "      <td>1</td>\n",
       "      <td>0</td>\n",
       "      <td>0</td>\n",
       "      <td>1958</td>\n",
       "    </tr>\n",
       "  </tbody>\n",
       "</table>\n",
       "</div>"
      ],
      "text/plain": [
       "          latitude  longitude  price  minimum_nights  number_of_reviews  \\\n",
       "id                                                                        \n",
       "36479230  40.70418  -73.91471     42               7                  0   \n",
       "36481615  40.72585  -73.94001     54               6                  0   \n",
       "36484087  40.76392  -73.99183    125               4                  0   \n",
       "36485431  40.81475  -73.94867    115              10                  0   \n",
       "36487245  40.76404  -73.98933     90               7                  0   \n",
       "\n",
       "          reviews_per_month  calculated_host_listings_count  availability_365  \\\n",
       "id                                                                              \n",
       "36479230           1.075665                               1                16   \n",
       "36481615           1.075665                               1                15   \n",
       "36484087           1.075665                               1                31   \n",
       "36485431           1.075665                               1                27   \n",
       "36487245           1.075665                               1                23   \n",
       "\n",
       "          crimes  neighbourhood_group_1  neighbourhood_group_2  \\\n",
       "id                                                               \n",
       "36479230   76767                      1                      0   \n",
       "36481615   81551                      1                      0   \n",
       "36484087   88981                      0                      1   \n",
       "36485431   93405                      0                      1   \n",
       "36487245   90943                      0                      1   \n",
       "\n",
       "          neighbourhood_group_3  neighbourhood_group_4  neighbourhood_group_5  \\\n",
       "id                                                                              \n",
       "36479230                      0                      0                      0   \n",
       "36481615                      0                      0                      0   \n",
       "36484087                      0                      0                      0   \n",
       "36485431                      0                      0                      0   \n",
       "36487245                      0                      0                      0   \n",
       "\n",
       "          room_type_1  room_type_2  room_type_3  neighbourhood_encoded  \n",
       "id                                                                      \n",
       "36479230            1            0            0                   2465  \n",
       "36481615            1            0            0                   1115  \n",
       "36484087            1            0            0                   1958  \n",
       "36485431            0            1            0                   2658  \n",
       "36487245            1            0            0                   1958  "
      ]
     },
     "execution_count": 127,
     "metadata": {},
     "output_type": "execute_result"
    }
   ],
   "source": [
    "new_data.tail()"
   ]
  },
  {
   "cell_type": "code",
   "execution_count": 128,
   "id": "efd77f37",
   "metadata": {},
   "outputs": [],
   "source": [
    "X = new_data.drop(['price'], axis=1)\n",
    "Y = new_data['price']\n",
    "X_train, X_test, y_train, y_test = train_test_split(X, Y, test_size=0.3, random_state=18)"
   ]
  },
  {
   "cell_type": "code",
   "execution_count": 129,
   "id": "ac911298",
   "metadata": {},
   "outputs": [
    {
     "name": "stdout",
     "output_type": "stream",
     "text": [
      "LinearRegression() <class 'sklearn.preprocessing._data.StandardScaler'>\n",
      "MAE train:  35.46\n",
      "MAE test:  35.62\n",
      "RMSE train:  47.58\n",
      "RMSE test:  47.72\n",
      "R2 train:  0.48\n",
      "R2 test:  0.49\n"
     ]
    }
   ],
   "source": [
    "from sklearn.linear_model import LinearRegression\n",
    "from sklearn.preprocessing import StandardScaler\n",
    "\n",
    "models = [LinearRegression]\n",
    "scalers = [StandardScaler]\n",
    "for model in models:\n",
    "    for scaler in scalers:\n",
    "        model_results(model, scaler, X_train, X_test, y_train, y_test)"
   ]
  },
  {
   "cell_type": "code",
   "execution_count": 130,
   "id": "03f938ca",
   "metadata": {},
   "outputs": [
    {
     "name": "stdout",
     "output_type": "stream",
     "text": [
      "LinearRegression() <class 'sklearn.preprocessing._data.StandardScaler'>\n",
      "MAE train:  35.46\n",
      "MAE test:  35.62\n",
      "RMSE train:  47.58\n",
      "RMSE test:  47.72\n",
      "R2 train:  0.48\n",
      "R2 test:  0.49\n",
      "LinearRegression() <class 'sklearn.preprocessing._data.MinMaxScaler'>\n",
      "MAE train:  35.45\n",
      "MAE test:  35.61\n",
      "RMSE train:  47.58\n",
      "RMSE test:  47.72\n",
      "R2 train:  0.48\n",
      "R2 test:  0.49\n",
      "LinearRegression() <class 'sklearn.preprocessing._data.RobustScaler'>\n",
      "MAE train:  35.45\n",
      "MAE test:  35.61\n",
      "RMSE train:  47.58\n",
      "RMSE test:  47.72\n",
      "R2 train:  0.48\n",
      "R2 test:  0.49\n",
      "RidgeCV(alphas=array([ 0.1,  1. , 10. ])) <class 'sklearn.preprocessing._data.StandardScaler'>\n",
      "MAE train:  35.45\n",
      "MAE test:  35.61\n",
      "RMSE train:  47.58\n",
      "RMSE test:  47.72\n",
      "R2 train:  0.48\n",
      "R2 test:  0.49\n",
      "RidgeCV(alphas=array([ 0.1,  1. , 10. ])) <class 'sklearn.preprocessing._data.MinMaxScaler'>\n",
      "MAE train:  35.45\n",
      "MAE test:  35.61\n",
      "RMSE train:  47.58\n",
      "RMSE test:  47.72\n",
      "R2 train:  0.48\n",
      "R2 test:  0.49\n",
      "RidgeCV(alphas=array([ 0.1,  1. , 10. ])) <class 'sklearn.preprocessing._data.RobustScaler'>\n",
      "MAE train:  35.45\n",
      "MAE test:  35.61\n",
      "RMSE train:  47.58\n",
      "RMSE test:  47.72\n",
      "R2 train:  0.48\n",
      "R2 test:  0.49\n",
      "LassoCV() <class 'sklearn.preprocessing._data.StandardScaler'>\n",
      "MAE train:  35.45\n",
      "MAE test:  35.61\n",
      "RMSE train:  47.58\n",
      "RMSE test:  47.72\n",
      "R2 train:  0.48\n",
      "R2 test:  0.49\n",
      "LassoCV() <class 'sklearn.preprocessing._data.MinMaxScaler'>\n",
      "MAE train:  35.44\n",
      "MAE test:  35.61\n",
      "RMSE train:  47.59\n",
      "RMSE test:  47.73\n",
      "R2 train:  0.48\n",
      "R2 test:  0.49\n",
      "LassoCV() <class 'sklearn.preprocessing._data.RobustScaler'>\n",
      "MAE train:  35.45\n",
      "MAE test:  35.62\n",
      "RMSE train:  47.59\n",
      "RMSE test:  47.72\n",
      "R2 train:  0.48\n",
      "R2 test:  0.49\n",
      "ElasticNetCV() <class 'sklearn.preprocessing._data.StandardScaler'>\n",
      "MAE train:  35.46\n",
      "MAE test:  35.62\n",
      "RMSE train:  47.61\n",
      "RMSE test:  47.76\n",
      "R2 train:  0.48\n",
      "R2 test:  0.49\n",
      "ElasticNetCV() <class 'sklearn.preprocessing._data.MinMaxScaler'>\n",
      "MAE train:  36.83\n",
      "MAE test:  36.89\n",
      "RMSE train:  49.33\n",
      "RMSE test:  49.46\n",
      "R2 train:  0.45\n",
      "R2 test:  0.45\n",
      "ElasticNetCV() <class 'sklearn.preprocessing._data.RobustScaler'>\n",
      "MAE train:  35.71\n",
      "MAE test:  35.85\n",
      "RMSE train:  47.9\n",
      "RMSE test:  48.07\n",
      "R2 train:  0.48\n",
      "R2 test:  0.48\n"
     ]
    }
   ],
   "source": [
    "from sklearn.linear_model import LinearRegression, RidgeCV, LassoCV, ElasticNetCV\n",
    "from sklearn.preprocessing import StandardScaler, MinMaxScaler, RobustScaler\n",
    "\n",
    "models = [LinearRegression, RidgeCV, LassoCV, ElasticNetCV]\n",
    "scalers = [StandardScaler, MinMaxScaler, RobustScaler]\n",
    "for model in models:\n",
    "    for scaler in scalers:\n",
    "        model_results(model, scaler, X_train, X_test, y_train, y_test)"
   ]
  },
  {
   "cell_type": "markdown",
   "id": "6161efa9",
   "metadata": {},
   "source": [
    "# Влияние выбора скейлера"
   ]
  },
  {
   "cell_type": "code",
   "execution_count": 131,
   "id": "95c0a4b3",
   "metadata": {},
   "outputs": [
    {
     "name": "stdout",
     "output_type": "stream",
     "text": [
      "MAE train:  35.45\n",
      "MAE test:  35.61\n",
      "RMSE train:  47.58\n",
      "RMSE test:  47.72\n",
      "R2 train:  0.48\n",
      "R2 test:  0.49\n"
     ]
    },
    {
     "data": {
      "text/plain": [
       "<Figure size 1600x1200 with 0 Axes>"
      ]
     },
     "metadata": {},
     "output_type": "display_data"
    },
    {
     "data": {
      "image/png": "[encoded data removed]",
      "text/plain": [
       "<Figure size 432x288 with 1 Axes>"
      ]
     },
     "metadata": {
      "needs_background": "light"
     },
     "output_type": "display_data"
    },
    {
     "name": "stdout",
     "output_type": "stream",
     "text": [
      "                                importance\n",
      "feature                                   \n",
      "room_type_2                      18.097055\n",
      "crimes                            8.921258\n",
      "availability_365                  7.321133\n",
      "neighbourhood_group_3             4.923630\n",
      "neighbourhood_encoded             4.384992\n",
      "neighbourhood_group_2             2.810602\n",
      "reviews_per_month                 2.311226\n",
      "calculated_host_listings_count    0.000000\n",
      "neighbourhood_group_5            -0.223593\n",
      "number_of_reviews                -2.371571\n",
      "latitude                         -2.530833\n",
      "room_type_3                      -4.229371\n",
      "minimum_nights                   -4.526660\n",
      "neighbourhood_group_1            -4.665616\n",
      "neighbourhood_group_4            -5.179306\n",
      "room_type_1                     -17.192572\n",
      "longitude                       -19.428277\n"
     ]
    }
   ],
   "source": [
    "model = RidgeCV()\n",
    "scaler = StandardScaler\n",
    "scaled_X_train, scaled_X_test = scale_data(scaler, X_train, X_test)\n",
    "model.fit(scaled_X_train, y_train)\n",
    "y_pred = model.predict(scaled_X_test)\n",
    "y_train_pred = model.predict(scaled_X_train)\n",
    "err_check(y_train, y_train_pred, y_test, y_pred)\n",
    "feature_importance(model, X_train.columns)"
   ]
  },
  {
   "cell_type": "code",
   "execution_count": 132,
   "id": "0c4bd741",
   "metadata": {},
   "outputs": [
    {
     "name": "stdout",
     "output_type": "stream",
     "text": [
      "MAE train:  35.45\n",
      "MAE test:  35.61\n",
      "RMSE train:  47.58\n",
      "RMSE test:  47.72\n",
      "R2 train:  0.48\n",
      "R2 test:  0.49\n"
     ]
    },
    {
     "data": {
      "text/plain": [
       "<Figure size 1600x1200 with 0 Axes>"
      ]
     },
     "metadata": {},
     "output_type": "display_data"
    },
    {
     "data": {
      "image/png": "[encoded data removed]",
      "text/plain": [
       "<Figure size 432x288 with 1 Axes>"
      ]
     },
     "metadata": {
      "needs_background": "light"
     },
     "output_type": "display_data"
    },
    {
     "name": "stdout",
     "output_type": "stream",
     "text": [
      "                                importance\n",
      "feature                                   \n",
      "crimes                           64.442213\n",
      "room_type_2                      48.369288\n",
      "availability_365                 35.578397\n",
      "neighbourhood_group_3            35.261154\n",
      "neighbourhood_group_2            21.321826\n",
      "neighbourhood_encoded            13.652945\n",
      "neighbourhood_group_5            12.998421\n",
      "reviews_per_month                10.211962\n",
      "neighbourhood_group_1             6.271436\n",
      "calculated_host_listings_count    0.000000\n",
      "number_of_reviews               -13.698299\n",
      "latitude                        -17.628917\n",
      "room_type_1                     -22.776703\n",
      "room_type_3                     -25.592585\n",
      "minimum_nights                  -26.204673\n",
      "neighbourhood_group_4           -75.852836\n",
      "longitude                      -222.477079\n"
     ]
    }
   ],
   "source": [
    "model = RidgeCV()\n",
    "scaler = MinMaxScaler\n",
    "scaled_X_train, scaled_X_test = scale_data(scaler, X_train, X_test)\n",
    "model.fit(scaled_X_train, y_train)\n",
    "y_pred = model.predict(scaled_X_test)\n",
    "y_train_pred = model.predict(scaled_X_train)\n",
    "err_check(y_train, y_train_pred, y_test, y_pred)\n",
    "feature_importance(model, X_train.columns)"
   ]
  },
  {
   "cell_type": "code",
   "execution_count": 133,
   "id": "fc8d639e",
   "metadata": {},
   "outputs": [
    {
     "name": "stdout",
     "output_type": "stream",
     "text": [
      "MAE train:  35.45\n",
      "MAE test:  35.61\n",
      "RMSE train:  47.58\n",
      "RMSE test:  47.72\n",
      "R2 train:  0.48\n",
      "R2 test:  0.49\n"
     ]
    },
    {
     "data": {
      "text/plain": [
       "<Figure size 1600x1200 with 0 Axes>"
      ]
     },
     "metadata": {},
     "output_type": "display_data"
    },
    {
     "data": {
      "image/png": "[encoded data removed]",
      "text/plain": [
       "<Figure size 432x288 with 1 Axes>"
      ]
     },
     "metadata": {
      "needs_background": "light"
     },
     "output_type": "display_data"
    },
    {
     "name": "stdout",
     "output_type": "stream",
     "text": [
      "                                importance\n",
      "feature                                   \n",
      "room_type_2                      48.311966\n",
      "neighbourhood_group_3            34.895687\n",
      "neighbourhood_group_2            20.974334\n",
      "neighbourhood_group_5            12.397662\n",
      "crimes                           10.647249\n",
      "neighbourhood_encoded             6.789138\n",
      "neighbourhood_group_1             5.990458\n",
      "reviews_per_month                 3.971841\n",
      "availability_365                  1.400591\n",
      "calculated_host_listings_count    0.000000\n",
      "number_of_reviews                -1.659959\n",
      "minimum_nights                   -3.274692\n",
      "latitude                         -3.529354\n",
      "room_type_1                     -22.823290\n",
      "room_type_3                     -25.488675\n",
      "longitude                       -27.408526\n",
      "neighbourhood_group_4           -74.258142\n"
     ]
    }
   ],
   "source": [
    "model = RidgeCV()\n",
    "scaler = RobustScaler\n",
    "scaled_X_train, scaled_X_test = scale_data(scaler, X_train, X_test)\n",
    "model.fit(scaled_X_train, y_train)\n",
    "y_pred = model.predict(scaled_X_test)\n",
    "y_train_pred = model.predict(scaled_X_train)\n",
    "err_check(y_train, y_train_pred, y_test, y_pred)\n",
    "feature_importance(model, X_train.columns)"
   ]
  },
  {
   "cell_type": "markdown",
   "id": "a0a06003",
   "metadata": {},
   "source": [
    "# Влияние выбора модели"
   ]
  },
  {
   "cell_type": "code",
   "execution_count": 134,
   "id": "41be3994",
   "metadata": {},
   "outputs": [
    {
     "name": "stdout",
     "output_type": "stream",
     "text": [
      "MAE train:  35.46\n",
      "MAE test:  35.62\n",
      "RMSE train:  47.58\n",
      "RMSE test:  47.72\n",
      "R2 train:  0.48\n",
      "R2 test:  0.49\n"
     ]
    },
    {
     "data": {
      "text/plain": [
       "<Figure size 1600x1200 with 0 Axes>"
      ]
     },
     "metadata": {},
     "output_type": "display_data"
    },
    {
     "data": {
      "image/png": "[encoded data removed]",
      "text/plain": [
       "<Figure size 432x288 with 1 Axes>"
      ]
     },
     "metadata": {
      "needs_background": "light"
     },
     "output_type": "display_data"
    },
    {
     "name": "stdout",
     "output_type": "stream",
     "text": [
      "                                  importance\n",
      "feature                                     \n",
      "crimes                          8.865409e+00\n",
      "availability_365                7.371339e+00\n",
      "neighbourhood_encoded           4.364184e+00\n",
      "reviews_per_month               2.254313e+00\n",
      "number_of_reviews              -2.399450e+00\n",
      "latitude                       -2.647375e+00\n",
      "minimum_nights                 -4.569514e+00\n",
      "longitude                      -1.965368e+01\n",
      "calculated_host_listings_count -1.079608e+13\n",
      "room_type_3                    -1.524524e+13\n",
      "neighbourhood_group_4          -3.151520e+13\n",
      "neighbourhood_group_5          -4.705382e+13\n",
      "room_type_1                    -6.700425e+13\n",
      "room_type_2                    -6.721829e+13\n",
      "neighbourhood_group_3          -1.401491e+14\n",
      "neighbourhood_group_2          -2.781649e+14\n",
      "neighbourhood_group_1          -2.782281e+14\n"
     ]
    }
   ],
   "source": [
    "from sklearn.linear_model import LinearRegression, RidgeCV, LassoCV, ElasticNetCV\n",
    "from sklearn.preprocessing import StandardScaler\n",
    "\n",
    "model = LinearRegression()\n",
    "scaler = StandardScaler\n",
    "scaled_X_train, scaled_X_test = scale_data(scaler, X_train, X_test)\n",
    "model.fit(scaled_X_train, y_train)\n",
    "y_pred = model.predict(scaled_X_test)\n",
    "y_train_pred = model.predict(scaled_X_train)\n",
    "err_check(y_train, y_train_pred, y_test, y_pred)\n",
    "feature_importance(model, X_train.columns)"
   ]
  },
  {
   "cell_type": "code",
   "execution_count": 135,
   "id": "e35c5c07",
   "metadata": {},
   "outputs": [
    {
     "name": "stdout",
     "output_type": "stream",
     "text": [
      "MAE train:  35.45\n",
      "MAE test:  35.61\n",
      "RMSE train:  47.58\n",
      "RMSE test:  47.72\n",
      "R2 train:  0.48\n",
      "R2 test:  0.49\n"
     ]
    },
    {
     "data": {
      "text/plain": [
       "<Figure size 1600x1200 with 0 Axes>"
      ]
     },
     "metadata": {},
     "output_type": "display_data"
    },
    {
     "data": {
      "image/png": "[encoded data removed]",
      "text/plain": [
       "<Figure size 432x288 with 1 Axes>"
      ]
     },
     "metadata": {
      "needs_background": "light"
     },
     "output_type": "display_data"
    },
    {
     "name": "stdout",
     "output_type": "stream",
     "text": [
      "                                importance\n",
      "feature                                   \n",
      "room_type_2                      18.097055\n",
      "crimes                            8.921258\n",
      "availability_365                  7.321133\n",
      "neighbourhood_group_3             4.923630\n",
      "neighbourhood_encoded             4.384992\n",
      "neighbourhood_group_2             2.810602\n",
      "reviews_per_month                 2.311226\n",
      "calculated_host_listings_count    0.000000\n",
      "neighbourhood_group_5            -0.223593\n",
      "number_of_reviews                -2.371571\n",
      "latitude                         -2.530833\n",
      "room_type_3                      -4.229371\n",
      "minimum_nights                   -4.526660\n",
      "neighbourhood_group_1            -4.665616\n",
      "neighbourhood_group_4            -5.179306\n",
      "room_type_1                     -17.192572\n",
      "longitude                       -19.428277\n"
     ]
    }
   ],
   "source": [
    "model = RidgeCV()\n",
    "scaler = StandardScaler\n",
    "scaled_X_train, scaled_X_test = scale_data(scaler, X_train, X_test)\n",
    "model.fit(scaled_X_train, y_train)\n",
    "y_pred = model.predict(scaled_X_test)\n",
    "y_train_pred = model.predict(scaled_X_train)\n",
    "err_check(y_train, y_train_pred, y_test, y_pred)\n",
    "feature_importance(model, X_train.columns)"
   ]
  },
  {
   "cell_type": "code",
   "execution_count": 136,
   "id": "30d2acec",
   "metadata": {},
   "outputs": [
    {
     "name": "stdout",
     "output_type": "stream",
     "text": [
      "MAE train:  35.45\n",
      "MAE test:  35.61\n",
      "RMSE train:  47.58\n",
      "RMSE test:  47.72\n",
      "R2 train:  0.48\n",
      "R2 test:  0.49\n"
     ]
    },
    {
     "data": {
      "text/plain": [
       "<Figure size 1600x1200 with 0 Axes>"
      ]
     },
     "metadata": {},
     "output_type": "display_data"
    },
    {
     "data": {
      "image/png": "[encoded data removed]",
      "text/plain": [
       "<Figure size 432x288 with 1 Axes>"
      ]
     },
     "metadata": {
      "needs_background": "light"
     },
     "output_type": "display_data"
    },
    {
     "name": "stdout",
     "output_type": "stream",
     "text": [
      "                                importance\n",
      "feature                                   \n",
      "room_type_2                      10.548487\n",
      "crimes                            8.879325\n",
      "availability_365                  7.277708\n",
      "neighbourhood_encoded             4.271595\n",
      "neighbourhood_group_3             3.465907\n",
      "reviews_per_month                 2.265229\n",
      "neighbourhood_group_2             0.000000\n",
      "calculated_host_listings_count    0.000000\n",
      "neighbourhood_group_5            -0.690935\n",
      "latitude                         -2.297901\n",
      "number_of_reviews                -2.302753\n",
      "minimum_nights                   -4.488473\n",
      "neighbourhood_group_4            -5.433008\n",
      "room_type_3                      -5.899040\n",
      "neighbourhood_group_1            -7.247916\n",
      "longitude                       -19.424611\n",
      "room_type_1                     -24.694432\n"
     ]
    }
   ],
   "source": [
    "model = LassoCV()\n",
    "scaler = StandardScaler\n",
    "scaled_X_train, scaled_X_test = scale_data(scaler, X_train, X_test)\n",
    "model.fit(scaled_X_train, y_train)\n",
    "y_pred = model.predict(scaled_X_test)\n",
    "y_train_pred = model.predict(scaled_X_train)\n",
    "err_check(y_train, y_train_pred, y_test, y_pred)\n",
    "feature_importance(model, X_train.columns)"
   ]
  },
  {
   "cell_type": "code",
   "execution_count": 137,
   "id": "07e78b16",
   "metadata": {},
   "outputs": [
    {
     "name": "stdout",
     "output_type": "stream",
     "text": [
      "MAE train:  35.46\n",
      "MAE test:  35.62\n",
      "RMSE train:  47.61\n",
      "RMSE test:  47.76\n",
      "R2 train:  0.48\n",
      "R2 test:  0.49\n"
     ]
    },
    {
     "data": {
      "text/plain": [
       "<Figure size 1600x1200 with 0 Axes>"
      ]
     },
     "metadata": {},
     "output_type": "display_data"
    },
    {
     "data": {
      "image/png": "[encoded data removed]",
      "text/plain": [
       "<Figure size 432x288 with 1 Axes>"
      ]
     },
     "metadata": {
      "needs_background": "light"
     },
     "output_type": "display_data"
    },
    {
     "name": "stdout",
     "output_type": "stream",
     "text": [
      "                                importance\n",
      "feature                                   \n",
      "room_type_2                      17.862567\n",
      "crimes                            8.660583\n",
      "availability_365                  6.869250\n",
      "neighbourhood_group_3             3.810455\n",
      "neighbourhood_encoded             3.482282\n",
      "neighbourhood_group_2             3.032203\n",
      "reviews_per_month                 2.167900\n",
      "calculated_host_listings_count    0.000000\n",
      "neighbourhood_group_5            -0.506504\n",
      "number_of_reviews                -2.036567\n",
      "latitude                         -2.374064\n",
      "room_type_3                      -4.009550\n",
      "minimum_nights                   -4.224748\n",
      "neighbourhood_group_1            -4.577003\n",
      "neighbourhood_group_4            -4.578277\n",
      "room_type_1                     -16.826992\n",
      "longitude                       -17.808166\n"
     ]
    }
   ],
   "source": [
    "model = ElasticNetCV()\n",
    "scaler = StandardScaler\n",
    "scaled_X_train, scaled_X_test = scale_data(scaler, X_train, X_test)\n",
    "model.fit(scaled_X_train, y_train)\n",
    "y_pred = model.predict(scaled_X_test)\n",
    "y_train_pred = model.predict(scaled_X_train)\n",
    "err_check(y_train, y_train_pred, y_test, y_pred)\n",
    "feature_importance(model, X_train.columns)"
   ]
  }
 ],
 "metadata": {
  "kernelspec": {
   "display_name": "Python 3 (ipykernel)",
   "language": "python",
   "name": "python3"
  },
  "language_info": {
   "codemirror_mode": {
    "name": "ipython",
    "version": 3
   },
   "file_extension": ".py",
   "mimetype": "text/x-python",
   "name": "python",
   "nbconvert_exporter": "python",
   "pygments_lexer": "ipython3",
   "version": "3.9.12"
  }
 },
 "nbformat": 4,
 "nbformat_minor": 5
}
