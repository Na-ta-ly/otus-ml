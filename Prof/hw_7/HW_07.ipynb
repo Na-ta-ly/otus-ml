{
 "cells": [
  {
   "cell_type": "code",
   "execution_count": 1,
   "id": "3c6644f0",
   "metadata": {},
   "outputs": [],
   "source": [
    "from json import loads\n",
    "from tqdm.notebook import tqdm"
   ]
  },
  {
   "cell_type": "code",
   "execution_count": 2,
   "id": "abf3cfc7",
   "metadata": {},
   "outputs": [],
   "source": [
    "import numpy as np"
   ]
  },
  {
   "cell_type": "code",
   "execution_count": 3,
   "id": "1330e548",
   "metadata": {},
   "outputs": [],
   "source": [
    "import pandas as pd"
   ]
  },
  {
   "cell_type": "markdown",
   "id": "6075d776",
   "metadata": {},
   "source": [
    "Для построения рекомендательной системы выберем маленький датасет с данными об оценках товаров для животных: https://nijianmo.github.io/amazon/index.html"
   ]
  },
  {
   "cell_type": "code",
   "execution_count": 53,
   "id": "421b16db",
   "metadata": {},
   "outputs": [],
   "source": [
    "import gzip\n",
    "\n",
    "def parse(path):\n",
    "  g = gzip.open(path, 'rb')\n",
    "  for l in g:\n",
    "    yield loads(l)\n",
    "\n",
    "def getDF(path):\n",
    "  i = 0\n",
    "  df = {}\n",
    "  for d in parse(path):\n",
    "    df[i] = d\n",
    "    i += 1\n",
    "  return pd.DataFrame.from_dict(df, orient='index')\n",
    "\n",
    "data = getDF('Pet_Supplies_5.json.gz')"
   ]
  },
  {
   "cell_type": "code",
   "execution_count": 54,
   "id": "1e6c764a",
   "metadata": {},
   "outputs": [
    {
     "data": {
      "text/html": [
       "<div>\n",
       "<style scoped>\n",
       "    .dataframe tbody tr th:only-of-type {\n",
       "        vertical-align: middle;\n",
       "    }\n",
       "\n",
       "    .dataframe tbody tr th {\n",
       "        vertical-align: top;\n",
       "    }\n",
       "\n",
       "    .dataframe thead th {\n",
       "        text-align: right;\n",
       "    }\n",
       "</style>\n",
       "<table border=\"1\" class=\"dataframe\">\n",
       "  <thead>\n",
       "    <tr style=\"text-align: right;\">\n",
       "      <th></th>\n",
       "      <th>overall</th>\n",
       "      <th>vote</th>\n",
       "      <th>verified</th>\n",
       "      <th>reviewTime</th>\n",
       "      <th>reviewerID</th>\n",
       "      <th>asin</th>\n",
       "      <th>reviewerName</th>\n",
       "      <th>reviewText</th>\n",
       "      <th>summary</th>\n",
       "      <th>unixReviewTime</th>\n",
       "      <th>style</th>\n",
       "      <th>image</th>\n",
       "    </tr>\n",
       "  </thead>\n",
       "  <tbody>\n",
       "    <tr>\n",
       "      <th>0</th>\n",
       "      <td>3.0</td>\n",
       "      <td>2</td>\n",
       "      <td>True</td>\n",
       "      <td>12 2, 2016</td>\n",
       "      <td>A2KN4FJVI2TZSF</td>\n",
       "      <td>0972585419</td>\n",
       "      <td>M.G.</td>\n",
       "      <td>I purchased this cd for my Pocket Parrot. It h...</td>\n",
       "      <td>It's okay</td>\n",
       "      <td>1480636800</td>\n",
       "      <td>NaN</td>\n",
       "      <td>NaN</td>\n",
       "    </tr>\n",
       "    <tr>\n",
       "      <th>1</th>\n",
       "      <td>3.0</td>\n",
       "      <td>NaN</td>\n",
       "      <td>True</td>\n",
       "      <td>10 17, 2016</td>\n",
       "      <td>A3RMA1DD66JDRV</td>\n",
       "      <td>0972585419</td>\n",
       "      <td>Susan P.</td>\n",
       "      <td>Maybe it's just my Amazon parrot, but she's no...</td>\n",
       "      <td>It might work for a different bird</td>\n",
       "      <td>1476662400</td>\n",
       "      <td>NaN</td>\n",
       "      <td>NaN</td>\n",
       "    </tr>\n",
       "    <tr>\n",
       "      <th>2</th>\n",
       "      <td>5.0</td>\n",
       "      <td>2</td>\n",
       "      <td>True</td>\n",
       "      <td>09 9, 2016</td>\n",
       "      <td>AAANYRIEOIT3R</td>\n",
       "      <td>0972585419</td>\n",
       "      <td>Luggie Lugnut</td>\n",
       "      <td>I bought this to help me teach my blue quaker ...</td>\n",
       "      <td>I bought this to help me teach my blue quaker ...</td>\n",
       "      <td>1473379200</td>\n",
       "      <td>NaN</td>\n",
       "      <td>NaN</td>\n",
       "    </tr>\n",
       "  </tbody>\n",
       "</table>\n",
       "</div>"
      ],
      "text/plain": [
       "   overall vote  verified   reviewTime      reviewerID        asin  \\\n",
       "0      3.0    2      True   12 2, 2016  A2KN4FJVI2TZSF  0972585419   \n",
       "1      3.0  NaN      True  10 17, 2016  A3RMA1DD66JDRV  0972585419   \n",
       "2      5.0    2      True   09 9, 2016   AAANYRIEOIT3R  0972585419   \n",
       "\n",
       "    reviewerName                                         reviewText  \\\n",
       "0           M.G.  I purchased this cd for my Pocket Parrot. It h...   \n",
       "1       Susan P.  Maybe it's just my Amazon parrot, but she's no...   \n",
       "2  Luggie Lugnut  I bought this to help me teach my blue quaker ...   \n",
       "\n",
       "                                             summary  unixReviewTime style  \\\n",
       "0                                          It's okay      1480636800   NaN   \n",
       "1                 It might work for a different bird      1476662400   NaN   \n",
       "2  I bought this to help me teach my blue quaker ...      1473379200   NaN   \n",
       "\n",
       "  image  \n",
       "0   NaN  \n",
       "1   NaN  \n",
       "2   NaN  "
      ]
     },
     "execution_count": 54,
     "metadata": {},
     "output_type": "execute_result"
    }
   ],
   "source": [
    "data.head(3)"
   ]
  },
  {
   "cell_type": "code",
   "execution_count": 55,
   "id": "b6f9a499",
   "metadata": {},
   "outputs": [
    {
     "name": "stdout",
     "output_type": "stream",
     "text": [
      "<class 'pandas.core.frame.DataFrame'>\n",
      "Int64Index: 2098325 entries, 0 to 2098324\n",
      "Data columns (total 12 columns):\n",
      " #   Column          Dtype  \n",
      "---  ------          -----  \n",
      " 0   overall         float64\n",
      " 1   vote            object \n",
      " 2   verified        bool   \n",
      " 3   reviewTime      object \n",
      " 4   reviewerID      object \n",
      " 5   asin            object \n",
      " 6   reviewerName    object \n",
      " 7   reviewText      object \n",
      " 8   summary         object \n",
      " 9   unixReviewTime  int64  \n",
      " 10  style           object \n",
      " 11  image           object \n",
      "dtypes: bool(1), float64(1), int64(1), object(9)\n",
      "memory usage: 194.1+ MB\n"
     ]
    }
   ],
   "source": [
    "data.info()"
   ]
  },
  {
   "cell_type": "markdown",
   "id": "f53e755b",
   "metadata": {},
   "source": [
    "Построение некоторых моделей требует очень большое количество памяти, поэтому уменьшим размер данных."
   ]
  },
  {
   "cell_type": "code",
   "execution_count": 56,
   "id": "026fd2cd",
   "metadata": {},
   "outputs": [],
   "source": [
    "from random import randint\n",
    "\n",
    "def reduce_data(proportion, data, column_name):\n",
    "    initial_list = list(data[column_name].unique())\n",
    "    new_data = pd.DataFrame()\n",
    "    for item in tqdm(range(int(proportion*len(initial_list)))):\n",
    "        element = initial_list[randint(0, len(initial_list) - 1)]\n",
    "        new_data = pd.concat([new_data, data[data[column_name] == element]])\n",
    "        initial_list.remove(element)\n",
    "    return new_data"
   ]
  },
  {
   "cell_type": "code",
   "execution_count": 57,
   "id": "c3ab5da5",
   "metadata": {},
   "outputs": [
    {
     "data": {
      "application/vnd.jupyter.widget-view+json": {
       "model_id": "ecff556e50a9455b826860d9f0d83658",
       "version_major": 2,
       "version_minor": 0
      },
      "text/plain": [
       "  0%|          | 0/4253 [00:00<?, ?it/s]"
      ]
     },
     "metadata": {},
     "output_type": "display_data"
    }
   ],
   "source": [
    "new_data = reduce_data(0.1, data, 'asin')"
   ]
  },
  {
   "cell_type": "code",
   "execution_count": 58,
   "id": "3f0ef191",
   "metadata": {},
   "outputs": [
    {
     "data": {
      "text/html": [
       "<div>\n",
       "<style scoped>\n",
       "    .dataframe tbody tr th:only-of-type {\n",
       "        vertical-align: middle;\n",
       "    }\n",
       "\n",
       "    .dataframe tbody tr th {\n",
       "        vertical-align: top;\n",
       "    }\n",
       "\n",
       "    .dataframe thead th {\n",
       "        text-align: right;\n",
       "    }\n",
       "</style>\n",
       "<table border=\"1\" class=\"dataframe\">\n",
       "  <thead>\n",
       "    <tr style=\"text-align: right;\">\n",
       "      <th></th>\n",
       "      <th>overall</th>\n",
       "      <th>vote</th>\n",
       "      <th>verified</th>\n",
       "      <th>reviewTime</th>\n",
       "      <th>reviewerID</th>\n",
       "      <th>asin</th>\n",
       "      <th>reviewerName</th>\n",
       "      <th>reviewText</th>\n",
       "      <th>summary</th>\n",
       "      <th>unixReviewTime</th>\n",
       "      <th>style</th>\n",
       "      <th>image</th>\n",
       "    </tr>\n",
       "  </thead>\n",
       "  <tbody>\n",
       "    <tr>\n",
       "      <th>845624</th>\n",
       "      <td>5.0</td>\n",
       "      <td>4</td>\n",
       "      <td>False</td>\n",
       "      <td>06 26, 2007</td>\n",
       "      <td>A3LPEHZ0YNKW5M</td>\n",
       "      <td>B001OVBAP8</td>\n",
       "      <td>Donna</td>\n",
       "      <td>I tried this recently, and my dogs love it.  T...</td>\n",
       "      <td>Four Paws Minty Fresh</td>\n",
       "      <td>1182816000</td>\n",
       "      <td>NaN</td>\n",
       "      <td>NaN</td>\n",
       "    </tr>\n",
       "    <tr>\n",
       "      <th>845632</th>\n",
       "      <td>5.0</td>\n",
       "      <td>NaN</td>\n",
       "      <td>True</td>\n",
       "      <td>02 16, 2012</td>\n",
       "      <td>A1OXX0WGCEDEBY</td>\n",
       "      <td>B001OVBAP8</td>\n",
       "      <td>John</td>\n",
       "      <td>It took almost the whole bottle but my one dog...</td>\n",
       "      <td>Worked on my dog.</td>\n",
       "      <td>1329350400</td>\n",
       "      <td>NaN</td>\n",
       "      <td>NaN</td>\n",
       "    </tr>\n",
       "    <tr>\n",
       "      <th>845633</th>\n",
       "      <td>1.0</td>\n",
       "      <td>4</td>\n",
       "      <td>False</td>\n",
       "      <td>01 14, 2012</td>\n",
       "      <td>A17N6UANMOY5V1</td>\n",
       "      <td>B001OVBAP8</td>\n",
       "      <td>Florida Papa</td>\n",
       "      <td>Google Four Paws recalls. [...] Search: Dog To...</td>\n",
       "      <td>Beware of Four Paws</td>\n",
       "      <td>1326499200</td>\n",
       "      <td>NaN</td>\n",
       "      <td>NaN</td>\n",
       "    </tr>\n",
       "    <tr>\n",
       "      <th>845644</th>\n",
       "      <td>5.0</td>\n",
       "      <td>NaN</td>\n",
       "      <td>True</td>\n",
       "      <td>12 2, 2011</td>\n",
       "      <td>A262L9V3Q13ZRM</td>\n",
       "      <td>B001OVBAP8</td>\n",
       "      <td>Robert Cristofono</td>\n",
       "      <td>We've had good success with this product.  The...</td>\n",
       "      <td>Dog Liquid Tartar Remover</td>\n",
       "      <td>1322784000</td>\n",
       "      <td>NaN</td>\n",
       "      <td>NaN</td>\n",
       "    </tr>\n",
       "    <tr>\n",
       "      <th>845645</th>\n",
       "      <td>5.0</td>\n",
       "      <td>5</td>\n",
       "      <td>True</td>\n",
       "      <td>11 5, 2011</td>\n",
       "      <td>A12LH2100CKQO</td>\n",
       "      <td>B001OVBAP8</td>\n",
       "      <td>God is a refuge for us (Psalms 62:8)</td>\n",
       "      <td>Amazon was the seller. I have used this produc...</td>\n",
       "      <td>so far so good</td>\n",
       "      <td>1320451200</td>\n",
       "      <td>NaN</td>\n",
       "      <td>NaN</td>\n",
       "    </tr>\n",
       "  </tbody>\n",
       "</table>\n",
       "</div>"
      ],
      "text/plain": [
       "        overall vote  verified   reviewTime      reviewerID        asin  \\\n",
       "845624      5.0    4     False  06 26, 2007  A3LPEHZ0YNKW5M  B001OVBAP8   \n",
       "845632      5.0  NaN      True  02 16, 2012  A1OXX0WGCEDEBY  B001OVBAP8   \n",
       "845633      1.0    4     False  01 14, 2012  A17N6UANMOY5V1  B001OVBAP8   \n",
       "845644      5.0  NaN      True   12 2, 2011  A262L9V3Q13ZRM  B001OVBAP8   \n",
       "845645      5.0    5      True   11 5, 2011   A12LH2100CKQO  B001OVBAP8   \n",
       "\n",
       "                                reviewerName  \\\n",
       "845624                                 Donna   \n",
       "845632                                  John   \n",
       "845633                          Florida Papa   \n",
       "845644                     Robert Cristofono   \n",
       "845645  God is a refuge for us (Psalms 62:8)   \n",
       "\n",
       "                                               reviewText  \\\n",
       "845624  I tried this recently, and my dogs love it.  T...   \n",
       "845632  It took almost the whole bottle but my one dog...   \n",
       "845633  Google Four Paws recalls. [...] Search: Dog To...   \n",
       "845644  We've had good success with this product.  The...   \n",
       "845645  Amazon was the seller. I have used this produc...   \n",
       "\n",
       "                          summary  unixReviewTime style image  \n",
       "845624      Four Paws Minty Fresh      1182816000   NaN   NaN  \n",
       "845632          Worked on my dog.      1329350400   NaN   NaN  \n",
       "845633        Beware of Four Paws      1326499200   NaN   NaN  \n",
       "845644  Dog Liquid Tartar Remover      1322784000   NaN   NaN  \n",
       "845645             so far so good      1320451200   NaN   NaN  "
      ]
     },
     "execution_count": 58,
     "metadata": {},
     "output_type": "execute_result"
    }
   ],
   "source": [
    "new_data.head()"
   ]
  },
  {
   "cell_type": "code",
   "execution_count": 59,
   "id": "53e35ef6",
   "metadata": {},
   "outputs": [
    {
     "data": {
      "text/plain": [
       "A11OTLEDSW8ZXD    50\n",
       "A2GJX2KCUSR0EI    36\n",
       "A22CW0ZHY3NJH8    34\n",
       "A2503LT8PZIHAD    28\n",
       "A2RYWPOL4NN2KG    27\n",
       "                  ..\n",
       "A2N9RQ9UGE3TQN     1\n",
       "A1VRVG55O2GO17     1\n",
       "A5SJ4110QM8YQ      1\n",
       "A130VKD6760TV5     1\n",
       "A13HTUNDQLTTZ3     1\n",
       "Name: reviewerID, Length: 122765, dtype: int64"
      ]
     },
     "execution_count": 59,
     "metadata": {},
     "output_type": "execute_result"
    }
   ],
   "source": [
    "new_data['reviewerID'].value_counts()"
   ]
  },
  {
   "cell_type": "code",
   "execution_count": 60,
   "id": "30c8b347",
   "metadata": {},
   "outputs": [
    {
     "data": {
      "text/plain": [
       "B0009YD8OC    6547\n",
       "B000OX89XI    5262\n",
       "B000XY7C7C    2957\n",
       "B008PNN8DK    2530\n",
       "B000L3XYZ4    2291\n",
       "              ... \n",
       "B00175PG1A       4\n",
       "B00DQ1QP7W       4\n",
       "B000VZSSBW       2\n",
       "B00176F8OE       2\n",
       "B000YIYNZ6       1\n",
       "Name: asin, Length: 4253, dtype: int64"
      ]
     },
     "execution_count": 60,
     "metadata": {},
     "output_type": "execute_result"
    }
   ],
   "source": [
    "new_data['asin'].value_counts()"
   ]
  },
  {
   "cell_type": "code",
   "execution_count": 61,
   "id": "a9a060bd",
   "metadata": {},
   "outputs": [
    {
     "data": {
      "text/plain": [
       "5.0    133664\n",
       "4.0     29034\n",
       "3.0     17738\n",
       "1.0     14042\n",
       "2.0     10432\n",
       "Name: overall, dtype: int64"
      ]
     },
     "execution_count": 61,
     "metadata": {},
     "output_type": "execute_result"
    }
   ],
   "source": [
    "new_data['overall'].value_counts()"
   ]
  },
  {
   "cell_type": "code",
   "execution_count": 62,
   "id": "d19cf2cc",
   "metadata": {
    "scrolled": false
   },
   "outputs": [
    {
     "data": {
      "text/plain": [
       "<Axes: >"
      ]
     },
     "execution_count": 62,
     "metadata": {},
     "output_type": "execute_result"
    },
    {
     "data": {
      "image/png": "[encoded data removed]",
      "text/plain": [
       "<Figure size 640x480 with 1 Axes>"
      ]
     },
     "metadata": {},
     "output_type": "display_data"
    }
   ],
   "source": [
    "new_data['overall'].hist()"
   ]
  },
  {
   "cell_type": "code",
   "execution_count": 63,
   "id": "d25c8801",
   "metadata": {},
   "outputs": [],
   "source": [
    "new_data.drop(['image', 'style', 'vote', 'reviewerName', 'reviewTime', 'verified', 'reviewText', 'summary'], axis=1, inplace=True)"
   ]
  },
  {
   "cell_type": "code",
   "execution_count": 64,
   "id": "1bb1f4b0",
   "metadata": {
    "scrolled": true
   },
   "outputs": [
    {
     "data": {
      "text/html": [
       "<div>\n",
       "<style scoped>\n",
       "    .dataframe tbody tr th:only-of-type {\n",
       "        vertical-align: middle;\n",
       "    }\n",
       "\n",
       "    .dataframe tbody tr th {\n",
       "        vertical-align: top;\n",
       "    }\n",
       "\n",
       "    .dataframe thead th {\n",
       "        text-align: right;\n",
       "    }\n",
       "</style>\n",
       "<table border=\"1\" class=\"dataframe\">\n",
       "  <thead>\n",
       "    <tr style=\"text-align: right;\">\n",
       "      <th></th>\n",
       "      <th>overall</th>\n",
       "      <th>reviewerID</th>\n",
       "      <th>asin</th>\n",
       "      <th>unixReviewTime</th>\n",
       "    </tr>\n",
       "  </thead>\n",
       "  <tbody>\n",
       "    <tr>\n",
       "      <th>845624</th>\n",
       "      <td>5.0</td>\n",
       "      <td>A3LPEHZ0YNKW5M</td>\n",
       "      <td>B001OVBAP8</td>\n",
       "      <td>1182816000</td>\n",
       "    </tr>\n",
       "    <tr>\n",
       "      <th>845632</th>\n",
       "      <td>5.0</td>\n",
       "      <td>A1OXX0WGCEDEBY</td>\n",
       "      <td>B001OVBAP8</td>\n",
       "      <td>1329350400</td>\n",
       "    </tr>\n",
       "    <tr>\n",
       "      <th>845633</th>\n",
       "      <td>1.0</td>\n",
       "      <td>A17N6UANMOY5V1</td>\n",
       "      <td>B001OVBAP8</td>\n",
       "      <td>1326499200</td>\n",
       "    </tr>\n",
       "    <tr>\n",
       "      <th>845644</th>\n",
       "      <td>5.0</td>\n",
       "      <td>A262L9V3Q13ZRM</td>\n",
       "      <td>B001OVBAP8</td>\n",
       "      <td>1322784000</td>\n",
       "    </tr>\n",
       "    <tr>\n",
       "      <th>845645</th>\n",
       "      <td>5.0</td>\n",
       "      <td>A12LH2100CKQO</td>\n",
       "      <td>B001OVBAP8</td>\n",
       "      <td>1320451200</td>\n",
       "    </tr>\n",
       "    <tr>\n",
       "      <th>...</th>\n",
       "      <td>...</td>\n",
       "      <td>...</td>\n",
       "      <td>...</td>\n",
       "      <td>...</td>\n",
       "    </tr>\n",
       "    <tr>\n",
       "      <th>1073936</th>\n",
       "      <td>4.0</td>\n",
       "      <td>A13HTUNDQLTTZ3</td>\n",
       "      <td>B004X3VQ5I</td>\n",
       "      <td>1319068800</td>\n",
       "    </tr>\n",
       "    <tr>\n",
       "      <th>1073937</th>\n",
       "      <td>3.0</td>\n",
       "      <td>AYNTULRNAIPNY</td>\n",
       "      <td>B004X3VQ5I</td>\n",
       "      <td>1319068800</td>\n",
       "    </tr>\n",
       "    <tr>\n",
       "      <th>1073938</th>\n",
       "      <td>3.0</td>\n",
       "      <td>A34U4Y40W1GW9I</td>\n",
       "      <td>B004X3VQ5I</td>\n",
       "      <td>1317600000</td>\n",
       "    </tr>\n",
       "    <tr>\n",
       "      <th>2004538</th>\n",
       "      <td>5.0</td>\n",
       "      <td>A28X8HDZWHTVF8</td>\n",
       "      <td>B004X3VQ5I</td>\n",
       "      <td>1384992000</td>\n",
       "    </tr>\n",
       "    <tr>\n",
       "      <th>2004539</th>\n",
       "      <td>3.0</td>\n",
       "      <td>A2WZNM833CJH82</td>\n",
       "      <td>B004X3VQ5I</td>\n",
       "      <td>1365120000</td>\n",
       "    </tr>\n",
       "  </tbody>\n",
       "</table>\n",
       "<p>204910 rows × 4 columns</p>\n",
       "</div>"
      ],
      "text/plain": [
       "         overall      reviewerID        asin  unixReviewTime\n",
       "845624       5.0  A3LPEHZ0YNKW5M  B001OVBAP8      1182816000\n",
       "845632       5.0  A1OXX0WGCEDEBY  B001OVBAP8      1329350400\n",
       "845633       1.0  A17N6UANMOY5V1  B001OVBAP8      1326499200\n",
       "845644       5.0  A262L9V3Q13ZRM  B001OVBAP8      1322784000\n",
       "845645       5.0   A12LH2100CKQO  B001OVBAP8      1320451200\n",
       "...          ...             ...         ...             ...\n",
       "1073936      4.0  A13HTUNDQLTTZ3  B004X3VQ5I      1319068800\n",
       "1073937      3.0   AYNTULRNAIPNY  B004X3VQ5I      1319068800\n",
       "1073938      3.0  A34U4Y40W1GW9I  B004X3VQ5I      1317600000\n",
       "2004538      5.0  A28X8HDZWHTVF8  B004X3VQ5I      1384992000\n",
       "2004539      3.0  A2WZNM833CJH82  B004X3VQ5I      1365120000\n",
       "\n",
       "[204910 rows x 4 columns]"
      ]
     },
     "execution_count": 64,
     "metadata": {},
     "output_type": "execute_result"
    }
   ],
   "source": [
    "new_data"
   ]
  },
  {
   "cell_type": "code",
   "execution_count": 65,
   "id": "15afbba7",
   "metadata": {
    "scrolled": true
   },
   "outputs": [
    {
     "name": "stdout",
     "output_type": "stream",
     "text": [
      "<class 'pandas.core.frame.DataFrame'>\n",
      "Int64Index: 204910 entries, 845624 to 2004539\n",
      "Data columns (total 4 columns):\n",
      " #   Column          Non-Null Count   Dtype  \n",
      "---  ------          --------------   -----  \n",
      " 0   overall         204910 non-null  float64\n",
      " 1   reviewerID      204910 non-null  object \n",
      " 2   asin            204910 non-null  object \n",
      " 3   unixReviewTime  204910 non-null  int64  \n",
      "dtypes: float64(1), int64(1), object(2)\n",
      "memory usage: 7.8+ MB\n"
     ]
    }
   ],
   "source": [
    "new_data.info()"
   ]
  },
  {
   "cell_type": "code",
   "execution_count": 66,
   "id": "a08fe048",
   "metadata": {},
   "outputs": [],
   "source": [
    "new_data.to_csv('tiny_data.csv', index=False)"
   ]
  },
  {
   "cell_type": "markdown",
   "id": "ae6e2a67",
   "metadata": {},
   "source": [
    "# Train_test split"
   ]
  },
  {
   "cell_type": "code",
   "execution_count": 85,
   "id": "2a83522c",
   "metadata": {},
   "outputs": [],
   "source": [
    "from math import ceil\n",
    "\n",
    "def train_test_split(X, ratio=0.2, user_col='reviewerID', item_col='asin',\n",
    "                     rating_col='overall', time_col='unixReviewTime'):\n",
    "    # сортируем оценки по времени\n",
    "    X.sort_values(by=[time_col], inplace=True)\n",
    "    # список всех юзеров\n",
    "    userIds = X[user_col].unique()\n",
    "    X_train_data = []\n",
    "    X_test_data = []\n",
    "    y_train = []\n",
    "    y_test = []\n",
    "    for userId in tqdm(userIds):\n",
    "        curUser = X[X[user_col] == userId]\n",
    "        # определяем позицию, по которой делим выборку и размещаем данные по массивам\n",
    "        idx = ceil(curUser.shape[0] * (1 - ratio))\n",
    "\n",
    "        X_train_data.append(curUser[[user_col, item_col]].iloc[:idx, :].values)\n",
    "        X_test_data.append(curUser[[user_col, item_col]].iloc[idx:, :].values)\n",
    "        y_train.append(curUser[rating_col].values[:idx])\n",
    "        y_test.append(curUser[rating_col].values[idx:])\n",
    "    # cтекуем данные по каждому пользователю в общие массивы\n",
    "    X_train = pd.DataFrame(np.vstack(X_train_data), columns=[user_col, item_col])\n",
    "    X_test = pd.DataFrame(np.vstack(X_test_data), columns=[user_col, item_col])\n",
    "    y_train = np.hstack(y_train)\n",
    "    y_test = np.hstack(y_test)\n",
    "    return X_train, X_test, y_train, y_test"
   ]
  },
  {
   "cell_type": "code",
   "execution_count": 86,
   "id": "30f9ae26",
   "metadata": {},
   "outputs": [
    {
     "data": {
      "application/vnd.jupyter.widget-view+json": {
       "model_id": "2151757f0ae54843a26ec015ac1a67f9",
       "version_major": 2,
       "version_minor": 0
      },
      "text/plain": [
       "  0%|          | 0/122765 [00:00<?, ?it/s]"
      ]
     },
     "metadata": {},
     "output_type": "display_data"
    }
   ],
   "source": [
    "X_train, X_test, y_train, y_test = train_test_split(new_data)"
   ]
  },
  {
   "cell_type": "code",
   "execution_count": 87,
   "id": "de99ea46",
   "metadata": {},
   "outputs": [
    {
     "data": {
      "text/html": [
       "<div>\n",
       "<style scoped>\n",
       "    .dataframe tbody tr th:only-of-type {\n",
       "        vertical-align: middle;\n",
       "    }\n",
       "\n",
       "    .dataframe tbody tr th {\n",
       "        vertical-align: top;\n",
       "    }\n",
       "\n",
       "    .dataframe thead th {\n",
       "        text-align: right;\n",
       "    }\n",
       "</style>\n",
       "<table border=\"1\" class=\"dataframe\">\n",
       "  <thead>\n",
       "    <tr style=\"text-align: right;\">\n",
       "      <th></th>\n",
       "      <th>reviewerID</th>\n",
       "      <th>asin</th>\n",
       "    </tr>\n",
       "  </thead>\n",
       "  <tbody>\n",
       "    <tr>\n",
       "      <th>0</th>\n",
       "      <td>A1SYLII0808HD6</td>\n",
       "      <td>B000084F4A</td>\n",
       "    </tr>\n",
       "    <tr>\n",
       "      <th>1</th>\n",
       "      <td>A2VRB3RMM084I9</td>\n",
       "      <td>B0002AQO5S</td>\n",
       "    </tr>\n",
       "    <tr>\n",
       "      <th>2</th>\n",
       "      <td>A2VRB3RMM084I9</td>\n",
       "      <td>B0002AQO5S</td>\n",
       "    </tr>\n",
       "  </tbody>\n",
       "</table>\n",
       "</div>"
      ],
      "text/plain": [
       "       reviewerID        asin\n",
       "0  A1SYLII0808HD6  B000084F4A\n",
       "1  A2VRB3RMM084I9  B0002AQO5S\n",
       "2  A2VRB3RMM084I9  B0002AQO5S"
      ]
     },
     "execution_count": 87,
     "metadata": {},
     "output_type": "execute_result"
    }
   ],
   "source": [
    "X_train.head(3)"
   ]
  },
  {
   "cell_type": "code",
   "execution_count": 88,
   "id": "f007a692",
   "metadata": {},
   "outputs": [],
   "source": [
    "train = pd.concat([X_train, pd.Series(y_train, name='rating')], axis=1)"
   ]
  },
  {
   "cell_type": "code",
   "execution_count": 89,
   "id": "7a65d858",
   "metadata": {},
   "outputs": [],
   "source": [
    "test = pd.concat([X_test, pd.Series(y_test, name='rating')], axis=1)"
   ]
  },
  {
   "cell_type": "code",
   "execution_count": 90,
   "id": "9b3a28fa",
   "metadata": {},
   "outputs": [
    {
     "data": {
      "text/html": [
       "<div>\n",
       "<style scoped>\n",
       "    .dataframe tbody tr th:only-of-type {\n",
       "        vertical-align: middle;\n",
       "    }\n",
       "\n",
       "    .dataframe tbody tr th {\n",
       "        vertical-align: top;\n",
       "    }\n",
       "\n",
       "    .dataframe thead th {\n",
       "        text-align: right;\n",
       "    }\n",
       "</style>\n",
       "<table border=\"1\" class=\"dataframe\">\n",
       "  <thead>\n",
       "    <tr style=\"text-align: right;\">\n",
       "      <th></th>\n",
       "      <th>rating</th>\n",
       "    </tr>\n",
       "  </thead>\n",
       "  <tbody>\n",
       "    <tr>\n",
       "      <th>count</th>\n",
       "      <td>201578.000000</td>\n",
       "    </tr>\n",
       "    <tr>\n",
       "      <th>mean</th>\n",
       "      <td>4.257965</td>\n",
       "    </tr>\n",
       "    <tr>\n",
       "      <th>std</th>\n",
       "      <td>1.222743</td>\n",
       "    </tr>\n",
       "    <tr>\n",
       "      <th>min</th>\n",
       "      <td>1.000000</td>\n",
       "    </tr>\n",
       "    <tr>\n",
       "      <th>25%</th>\n",
       "      <td>4.000000</td>\n",
       "    </tr>\n",
       "    <tr>\n",
       "      <th>50%</th>\n",
       "      <td>5.000000</td>\n",
       "    </tr>\n",
       "    <tr>\n",
       "      <th>75%</th>\n",
       "      <td>5.000000</td>\n",
       "    </tr>\n",
       "    <tr>\n",
       "      <th>max</th>\n",
       "      <td>5.000000</td>\n",
       "    </tr>\n",
       "  </tbody>\n",
       "</table>\n",
       "</div>"
      ],
      "text/plain": [
       "              rating\n",
       "count  201578.000000\n",
       "mean        4.257965\n",
       "std         1.222743\n",
       "min         1.000000\n",
       "25%         4.000000\n",
       "50%         5.000000\n",
       "75%         5.000000\n",
       "max         5.000000"
      ]
     },
     "execution_count": 90,
     "metadata": {},
     "output_type": "execute_result"
    }
   ],
   "source": [
    "train.describe()"
   ]
  },
  {
   "cell_type": "code",
   "execution_count": 91,
   "id": "000b811d",
   "metadata": {},
   "outputs": [
    {
     "data": {
      "text/html": [
       "<div>\n",
       "<style scoped>\n",
       "    .dataframe tbody tr th:only-of-type {\n",
       "        vertical-align: middle;\n",
       "    }\n",
       "\n",
       "    .dataframe tbody tr th {\n",
       "        vertical-align: top;\n",
       "    }\n",
       "\n",
       "    .dataframe thead th {\n",
       "        text-align: right;\n",
       "    }\n",
       "</style>\n",
       "<table border=\"1\" class=\"dataframe\">\n",
       "  <thead>\n",
       "    <tr style=\"text-align: right;\">\n",
       "      <th></th>\n",
       "      <th>rating</th>\n",
       "    </tr>\n",
       "  </thead>\n",
       "  <tbody>\n",
       "    <tr>\n",
       "      <th>count</th>\n",
       "      <td>3332.000000</td>\n",
       "    </tr>\n",
       "    <tr>\n",
       "      <th>mean</th>\n",
       "      <td>4.280912</td>\n",
       "    </tr>\n",
       "    <tr>\n",
       "      <th>std</th>\n",
       "      <td>1.156225</td>\n",
       "    </tr>\n",
       "    <tr>\n",
       "      <th>min</th>\n",
       "      <td>1.000000</td>\n",
       "    </tr>\n",
       "    <tr>\n",
       "      <th>25%</th>\n",
       "      <td>4.000000</td>\n",
       "    </tr>\n",
       "    <tr>\n",
       "      <th>50%</th>\n",
       "      <td>5.000000</td>\n",
       "    </tr>\n",
       "    <tr>\n",
       "      <th>75%</th>\n",
       "      <td>5.000000</td>\n",
       "    </tr>\n",
       "    <tr>\n",
       "      <th>max</th>\n",
       "      <td>5.000000</td>\n",
       "    </tr>\n",
       "  </tbody>\n",
       "</table>\n",
       "</div>"
      ],
      "text/plain": [
       "            rating\n",
       "count  3332.000000\n",
       "mean      4.280912\n",
       "std       1.156225\n",
       "min       1.000000\n",
       "25%       4.000000\n",
       "50%       5.000000\n",
       "75%       5.000000\n",
       "max       5.000000"
      ]
     },
     "execution_count": 91,
     "metadata": {},
     "output_type": "execute_result"
    }
   ],
   "source": [
    "test.describe()"
   ]
  },
  {
   "cell_type": "code",
   "execution_count": 92,
   "id": "c27e76e9",
   "metadata": {},
   "outputs": [
    {
     "name": "stdout",
     "output_type": "stream",
     "text": [
      "<class 'pandas.core.frame.DataFrame'>\n",
      "RangeIndex: 201578 entries, 0 to 201577\n",
      "Data columns (total 3 columns):\n",
      " #   Column      Non-Null Count   Dtype  \n",
      "---  ------      --------------   -----  \n",
      " 0   reviewerID  201578 non-null  object \n",
      " 1   asin        201578 non-null  object \n",
      " 2   rating      201578 non-null  float64\n",
      "dtypes: float64(1), object(2)\n",
      "memory usage: 4.6+ MB\n"
     ]
    }
   ],
   "source": [
    "train.info()"
   ]
  },
  {
   "cell_type": "code",
   "execution_count": 93,
   "id": "acc1f9e9",
   "metadata": {},
   "outputs": [
    {
     "name": "stdout",
     "output_type": "stream",
     "text": [
      "<class 'pandas.core.frame.DataFrame'>\n",
      "RangeIndex: 3332 entries, 0 to 3331\n",
      "Data columns (total 3 columns):\n",
      " #   Column      Non-Null Count  Dtype  \n",
      "---  ------      --------------  -----  \n",
      " 0   reviewerID  3332 non-null   object \n",
      " 1   asin        3332 non-null   object \n",
      " 2   rating      3332 non-null   float64\n",
      "dtypes: float64(1), object(2)\n",
      "memory usage: 78.2+ KB\n"
     ]
    }
   ],
   "source": [
    "test.info()"
   ]
  },
  {
   "cell_type": "code",
   "execution_count": 94,
   "id": "dacf11cb",
   "metadata": {},
   "outputs": [],
   "source": [
    "train.to_csv('train.csv', index=False)"
   ]
  },
  {
   "cell_type": "code",
   "execution_count": 95,
   "id": "953dffe6",
   "metadata": {},
   "outputs": [],
   "source": [
    "test.to_csv('test.csv', index=False)"
   ]
  },
  {
   "cell_type": "markdown",
   "id": "c61285f6",
   "metadata": {},
   "source": [
    "# Построение моделей"
   ]
  },
  {
   "cell_type": "markdown",
   "id": "7ba3e059",
   "metadata": {},
   "source": [
    "Будем использовать коллаборативный подход, так как для контентного нет достаточно информации о товаре."
   ]
  },
  {
   "cell_type": "code",
   "execution_count": 4,
   "id": "eeaf549e",
   "metadata": {},
   "outputs": [],
   "source": [
    "train_data = pd.read_csv('train.csv')\n",
    "test_data = pd.read_csv('test.csv')"
   ]
  },
  {
   "cell_type": "code",
   "execution_count": 5,
   "id": "60b0eee0",
   "metadata": {
    "scrolled": true
   },
   "outputs": [
    {
     "data": {
      "text/html": [
       "<div>\n",
       "<style scoped>\n",
       "    .dataframe tbody tr th:only-of-type {\n",
       "        vertical-align: middle;\n",
       "    }\n",
       "\n",
       "    .dataframe tbody tr th {\n",
       "        vertical-align: top;\n",
       "    }\n",
       "\n",
       "    .dataframe thead th {\n",
       "        text-align: right;\n",
       "    }\n",
       "</style>\n",
       "<table border=\"1\" class=\"dataframe\">\n",
       "  <thead>\n",
       "    <tr style=\"text-align: right;\">\n",
       "      <th></th>\n",
       "      <th>reviewerID</th>\n",
       "      <th>asin</th>\n",
       "      <th>rating</th>\n",
       "    </tr>\n",
       "  </thead>\n",
       "  <tbody>\n",
       "    <tr>\n",
       "      <th>0</th>\n",
       "      <td>A1SYLII0808HD6</td>\n",
       "      <td>B000084F4A</td>\n",
       "      <td>4.0</td>\n",
       "    </tr>\n",
       "    <tr>\n",
       "      <th>1</th>\n",
       "      <td>A2VRB3RMM084I9</td>\n",
       "      <td>B0002AQO5S</td>\n",
       "      <td>1.0</td>\n",
       "    </tr>\n",
       "    <tr>\n",
       "      <th>2</th>\n",
       "      <td>A2VRB3RMM084I9</td>\n",
       "      <td>B0002AQO5S</td>\n",
       "      <td>1.0</td>\n",
       "    </tr>\n",
       "    <tr>\n",
       "      <th>3</th>\n",
       "      <td>A3E752P9SWSH8S</td>\n",
       "      <td>B0002DJ7DQ</td>\n",
       "      <td>5.0</td>\n",
       "    </tr>\n",
       "    <tr>\n",
       "      <th>4</th>\n",
       "      <td>A3E752P9SWSH8S</td>\n",
       "      <td>B0002ASAXW</td>\n",
       "      <td>5.0</td>\n",
       "    </tr>\n",
       "    <tr>\n",
       "      <th>...</th>\n",
       "      <td>...</td>\n",
       "      <td>...</td>\n",
       "      <td>...</td>\n",
       "    </tr>\n",
       "    <tr>\n",
       "      <th>201573</th>\n",
       "      <td>A3817B1RBM4Z73</td>\n",
       "      <td>B01CVQQNQA</td>\n",
       "      <td>5.0</td>\n",
       "    </tr>\n",
       "    <tr>\n",
       "      <th>201574</th>\n",
       "      <td>A3HD9J5POYGBYI</td>\n",
       "      <td>B01CCP1UPY</td>\n",
       "      <td>5.0</td>\n",
       "    </tr>\n",
       "    <tr>\n",
       "      <th>201575</th>\n",
       "      <td>A17ELW72BAR179</td>\n",
       "      <td>B01F6O4PZ0</td>\n",
       "      <td>5.0</td>\n",
       "    </tr>\n",
       "    <tr>\n",
       "      <th>201576</th>\n",
       "      <td>ATHEZP7OA2GK0</td>\n",
       "      <td>B01HFAXVL2</td>\n",
       "      <td>5.0</td>\n",
       "    </tr>\n",
       "    <tr>\n",
       "      <th>201577</th>\n",
       "      <td>A2M3A2KE6RBHNC</td>\n",
       "      <td>B01G9641QC</td>\n",
       "      <td>4.0</td>\n",
       "    </tr>\n",
       "  </tbody>\n",
       "</table>\n",
       "<p>201578 rows × 3 columns</p>\n",
       "</div>"
      ],
      "text/plain": [
       "            reviewerID        asin  rating\n",
       "0       A1SYLII0808HD6  B000084F4A     4.0\n",
       "1       A2VRB3RMM084I9  B0002AQO5S     1.0\n",
       "2       A2VRB3RMM084I9  B0002AQO5S     1.0\n",
       "3       A3E752P9SWSH8S  B0002DJ7DQ     5.0\n",
       "4       A3E752P9SWSH8S  B0002ASAXW     5.0\n",
       "...                ...         ...     ...\n",
       "201573  A3817B1RBM4Z73  B01CVQQNQA     5.0\n",
       "201574  A3HD9J5POYGBYI  B01CCP1UPY     5.0\n",
       "201575  A17ELW72BAR179  B01F6O4PZ0     5.0\n",
       "201576   ATHEZP7OA2GK0  B01HFAXVL2     5.0\n",
       "201577  A2M3A2KE6RBHNC  B01G9641QC     4.0\n",
       "\n",
       "[201578 rows x 3 columns]"
      ]
     },
     "execution_count": 5,
     "metadata": {},
     "output_type": "execute_result"
    }
   ],
   "source": [
    "train_data"
   ]
  },
  {
   "cell_type": "code",
   "execution_count": 6,
   "id": "3c9f4a81",
   "metadata": {},
   "outputs": [
    {
     "name": "stdout",
     "output_type": "stream",
     "text": [
      "<class 'pandas.core.frame.DataFrame'>\n",
      "RangeIndex: 201578 entries, 0 to 201577\n",
      "Data columns (total 3 columns):\n",
      " #   Column      Non-Null Count   Dtype  \n",
      "---  ------      --------------   -----  \n",
      " 0   reviewerID  201578 non-null  object \n",
      " 1   asin        201578 non-null  object \n",
      " 2   rating      201578 non-null  float64\n",
      "dtypes: float64(1), object(2)\n",
      "memory usage: 4.6+ MB\n"
     ]
    }
   ],
   "source": [
    "train_data.info()"
   ]
  },
  {
   "cell_type": "code",
   "execution_count": 7,
   "id": "c27b5b25",
   "metadata": {},
   "outputs": [
    {
     "name": "stdout",
     "output_type": "stream",
     "text": [
      "<class 'pandas.core.frame.DataFrame'>\n",
      "RangeIndex: 3332 entries, 0 to 3331\n",
      "Data columns (total 3 columns):\n",
      " #   Column      Non-Null Count  Dtype  \n",
      "---  ------      --------------  -----  \n",
      " 0   reviewerID  3332 non-null   object \n",
      " 1   asin        3332 non-null   object \n",
      " 2   rating      3332 non-null   float64\n",
      "dtypes: float64(1), object(2)\n",
      "memory usage: 78.2+ KB\n"
     ]
    }
   ],
   "source": [
    "test_data.info()"
   ]
  },
  {
   "cell_type": "code",
   "execution_count": 8,
   "id": "f544b5cf",
   "metadata": {},
   "outputs": [
    {
     "data": {
      "text/html": [
       "<div>\n",
       "<style scoped>\n",
       "    .dataframe tbody tr th:only-of-type {\n",
       "        vertical-align: middle;\n",
       "    }\n",
       "\n",
       "    .dataframe tbody tr th {\n",
       "        vertical-align: top;\n",
       "    }\n",
       "\n",
       "    .dataframe thead th {\n",
       "        text-align: right;\n",
       "    }\n",
       "</style>\n",
       "<table border=\"1\" class=\"dataframe\">\n",
       "  <thead>\n",
       "    <tr style=\"text-align: right;\">\n",
       "      <th></th>\n",
       "      <th>rating</th>\n",
       "    </tr>\n",
       "  </thead>\n",
       "  <tbody>\n",
       "    <tr>\n",
       "      <th>count</th>\n",
       "      <td>201578.000000</td>\n",
       "    </tr>\n",
       "    <tr>\n",
       "      <th>mean</th>\n",
       "      <td>4.257965</td>\n",
       "    </tr>\n",
       "    <tr>\n",
       "      <th>std</th>\n",
       "      <td>1.222743</td>\n",
       "    </tr>\n",
       "    <tr>\n",
       "      <th>min</th>\n",
       "      <td>1.000000</td>\n",
       "    </tr>\n",
       "    <tr>\n",
       "      <th>25%</th>\n",
       "      <td>4.000000</td>\n",
       "    </tr>\n",
       "    <tr>\n",
       "      <th>50%</th>\n",
       "      <td>5.000000</td>\n",
       "    </tr>\n",
       "    <tr>\n",
       "      <th>75%</th>\n",
       "      <td>5.000000</td>\n",
       "    </tr>\n",
       "    <tr>\n",
       "      <th>max</th>\n",
       "      <td>5.000000</td>\n",
       "    </tr>\n",
       "  </tbody>\n",
       "</table>\n",
       "</div>"
      ],
      "text/plain": [
       "              rating\n",
       "count  201578.000000\n",
       "mean        4.257965\n",
       "std         1.222743\n",
       "min         1.000000\n",
       "25%         4.000000\n",
       "50%         5.000000\n",
       "75%         5.000000\n",
       "max         5.000000"
      ]
     },
     "execution_count": 8,
     "metadata": {},
     "output_type": "execute_result"
    }
   ],
   "source": [
    "train_data.describe()"
   ]
  },
  {
   "cell_type": "code",
   "execution_count": 9,
   "id": "4e1c7b05",
   "metadata": {},
   "outputs": [
    {
     "data": {
      "text/html": [
       "<div>\n",
       "<style scoped>\n",
       "    .dataframe tbody tr th:only-of-type {\n",
       "        vertical-align: middle;\n",
       "    }\n",
       "\n",
       "    .dataframe tbody tr th {\n",
       "        vertical-align: top;\n",
       "    }\n",
       "\n",
       "    .dataframe thead th {\n",
       "        text-align: right;\n",
       "    }\n",
       "</style>\n",
       "<table border=\"1\" class=\"dataframe\">\n",
       "  <thead>\n",
       "    <tr style=\"text-align: right;\">\n",
       "      <th></th>\n",
       "      <th>rating</th>\n",
       "    </tr>\n",
       "  </thead>\n",
       "  <tbody>\n",
       "    <tr>\n",
       "      <th>count</th>\n",
       "      <td>3332.000000</td>\n",
       "    </tr>\n",
       "    <tr>\n",
       "      <th>mean</th>\n",
       "      <td>4.280912</td>\n",
       "    </tr>\n",
       "    <tr>\n",
       "      <th>std</th>\n",
       "      <td>1.156225</td>\n",
       "    </tr>\n",
       "    <tr>\n",
       "      <th>min</th>\n",
       "      <td>1.000000</td>\n",
       "    </tr>\n",
       "    <tr>\n",
       "      <th>25%</th>\n",
       "      <td>4.000000</td>\n",
       "    </tr>\n",
       "    <tr>\n",
       "      <th>50%</th>\n",
       "      <td>5.000000</td>\n",
       "    </tr>\n",
       "    <tr>\n",
       "      <th>75%</th>\n",
       "      <td>5.000000</td>\n",
       "    </tr>\n",
       "    <tr>\n",
       "      <th>max</th>\n",
       "      <td>5.000000</td>\n",
       "    </tr>\n",
       "  </tbody>\n",
       "</table>\n",
       "</div>"
      ],
      "text/plain": [
       "            rating\n",
       "count  3332.000000\n",
       "mean      4.280912\n",
       "std       1.156225\n",
       "min       1.000000\n",
       "25%       4.000000\n",
       "50%       5.000000\n",
       "75%       5.000000\n",
       "max       5.000000"
      ]
     },
     "execution_count": 9,
     "metadata": {},
     "output_type": "execute_result"
    }
   ],
   "source": [
    "test_data.describe()"
   ]
  },
  {
   "cell_type": "code",
   "execution_count": 10,
   "id": "78a67b27",
   "metadata": {},
   "outputs": [],
   "source": [
    "from sklearn.metrics import mean_squared_error\n",
    "rmse = lambda y_true, y_pred: np.sqrt(mean_squared_error(y_true, y_pred))"
   ]
  },
  {
   "cell_type": "markdown",
   "id": "91b68aa5",
   "metadata": {},
   "source": [
    "# item-based на основе sklearn"
   ]
  },
  {
   "cell_type": "markdown",
   "id": "0acdaf80",
   "metadata": {},
   "source": [
    "Используем item-based подход, т.к число пользователей значительно больше."
   ]
  },
  {
   "cell_type": "code",
   "execution_count": 67,
   "id": "87e2ec2e",
   "metadata": {},
   "outputs": [],
   "source": [
    "from sklearn.base import BaseEstimator\n",
    "from sklearn.metrics.pairwise import cosine_similarity\n",
    "\n",
    "class ItemBased(BaseEstimator):\n",
    "    def fit(self, X, y, user_col='userId', item_col='itemId'):\n",
    "        X = X.copy()\n",
    "        # сохраним текущих пользователей и имеющиеся предметы\n",
    "        self.users = X[user_col].unique()\n",
    "        self.items = X[item_col].unique()\n",
    "\n",
    "        X['y'] = y\n",
    "        # рассчитаем среднее значение рейтинга для пользователя и предмета\n",
    "        self.mean_y_user = X.groupby(user_col)['y'].mean()\n",
    "        self.mean_y_item = X.groupby(item_col)['y'].mean()\n",
    "\n",
    "        # вычитаем среднюю оценку предмета\n",
    "        X['y'] -= X[item_col].apply(lambda x: self.mean_y_item[x])\n",
    "\n",
    "        # создаём векторы для каждого предмета с оценками пользователя\n",
    "        # если пользователь не поставил оценку, то ставим 0\n",
    "        self.item_ratings = pd.pivot_table(X, values='y', index=item_col,\n",
    "                                           columns=user_col, fill_value=0)\n",
    "\n",
    "        # считаем попарную схожесть между предметами\n",
    "        self.item_sim = cosine_similarity(self.item_ratings)\n",
    "\n",
    "        # также сделаем словарь {значение item_col: index в item_ratings}\n",
    "        self.item_pos = dict()\n",
    "        for item in self.items:\n",
    "            self.item_pos[item] = np.argwhere(self.item_ratings.index.values == item)[0][0]\n",
    "        return self\n",
    "\n",
    "    def predict_rating(self, pr_user, pr_item):\n",
    "        # если в обучающей выборке нет такого предмета\n",
    "        # или пользователя, то вернём 0\n",
    "        if not pr_item in self.items or not pr_user in self.users:\n",
    "            return 0\n",
    "\n",
    "        # считаем числитель и знаменатель дроби из формулы предсказания\n",
    "        numerator = self.item_sim[self.item_pos[pr_item]].dot(\n",
    "                        self.item_ratings.loc[:, pr_user])\n",
    "        # вычитаем 1, так как схожесть предмета с самим собой равна 1,\n",
    "        # но модель не должна это учитывать\n",
    "        denominator = np.abs(self.item_sim[self.item_pos[pr_item]]).sum() - 1\n",
    "\n",
    "        return self.mean_y_item[pr_item] + numerator / denominator\n",
    "\n",
    "    def predict(self, user, item):\n",
    "        return (user, item, None, self.predict_rating(user, item))\n",
    "    \n",
    "    def predict_test(self, X, user_col='userId', item_col='itemId'):\n",
    "        y = X[[user_col, item_col]].apply(lambda row: self.predict_rating(row[0], row[1]), axis=1)\n",
    "        return y"
   ]
  },
  {
   "cell_type": "code",
   "execution_count": 68,
   "id": "52751054",
   "metadata": {},
   "outputs": [],
   "source": [
    "X_train = train_data[['reviewerID', 'asin']]\n",
    "y_train = train_data['rating']"
   ]
  },
  {
   "cell_type": "code",
   "execution_count": 69,
   "id": "7648999b",
   "metadata": {},
   "outputs": [],
   "source": [
    "X_test = test_data[['reviewerID', 'asin']]\n",
    "y_test = test_data['rating']"
   ]
  },
  {
   "cell_type": "code",
   "execution_count": 70,
   "id": "1ed74043",
   "metadata": {},
   "outputs": [
    {
     "name": "stdout",
     "output_type": "stream",
     "text": [
      "start fitting...\n",
      "CPU times: user 1min 48s, sys: 53.7 s, total: 2min 42s\n",
      "Wall time: 10min\n"
     ]
    }
   ],
   "source": [
    "%%time\n",
    "print('start fitting...')\n",
    "ib_model = ItemBased().fit(X_train, y_train, user_col='reviewerID', item_col='asin')"
   ]
  },
  {
   "cell_type": "code",
   "execution_count": 71,
   "id": "79ce4894",
   "metadata": {},
   "outputs": [
    {
     "name": "stdout",
     "output_type": "stream",
     "text": [
      "start predicting...\n"
     ]
    }
   ],
   "source": [
    "print('start predicting...')\n",
    "pred = ib_model.predict_test(X_test, user_col='reviewerID', item_col='asin')"
   ]
  },
  {
   "cell_type": "code",
   "execution_count": 72,
   "id": "c9d22d8d",
   "metadata": {},
   "outputs": [],
   "source": [
    "na_list = pred[pred.isna()].index"
   ]
  },
  {
   "cell_type": "code",
   "execution_count": 17,
   "id": "d5f0f864",
   "metadata": {},
   "outputs": [],
   "source": [
    "true = y_test.copy()"
   ]
  },
  {
   "cell_type": "code",
   "execution_count": 18,
   "id": "ecf314f4",
   "metadata": {},
   "outputs": [],
   "source": [
    "true = true.drop(index=na_list, axis=0)"
   ]
  },
  {
   "cell_type": "code",
   "execution_count": 19,
   "id": "a20454cb",
   "metadata": {},
   "outputs": [],
   "source": [
    "pred = pred.dropna()"
   ]
  },
  {
   "cell_type": "code",
   "execution_count": 20,
   "id": "86da3461",
   "metadata": {
    "scrolled": true
   },
   "outputs": [
    {
     "name": "stdout",
     "output_type": "stream",
     "text": [
      "result prediction\n",
      "rmse = 1.097652386213751\n"
     ]
    }
   ],
   "source": [
    "print('result prediction')\n",
    "print('rmse = {}'.format(rmse(true, pred)))"
   ]
  },
  {
   "cell_type": "markdown",
   "id": "23b58787",
   "metadata": {},
   "source": [
    "# surprise"
   ]
  },
  {
   "cell_type": "markdown",
   "id": "1867d309",
   "metadata": {},
   "source": [
    "Используем возможности библиотеки surprise"
   ]
  },
  {
   "cell_type": "code",
   "execution_count": 21,
   "id": "58093422",
   "metadata": {},
   "outputs": [
    {
     "data": {
      "text/html": [
       "<div>\n",
       "<style scoped>\n",
       "    .dataframe tbody tr th:only-of-type {\n",
       "        vertical-align: middle;\n",
       "    }\n",
       "\n",
       "    .dataframe tbody tr th {\n",
       "        vertical-align: top;\n",
       "    }\n",
       "\n",
       "    .dataframe thead th {\n",
       "        text-align: right;\n",
       "    }\n",
       "</style>\n",
       "<table border=\"1\" class=\"dataframe\">\n",
       "  <thead>\n",
       "    <tr style=\"text-align: right;\">\n",
       "      <th></th>\n",
       "      <th>reviewerID</th>\n",
       "      <th>asin</th>\n",
       "      <th>rating</th>\n",
       "    </tr>\n",
       "  </thead>\n",
       "  <tbody>\n",
       "    <tr>\n",
       "      <th>0</th>\n",
       "      <td>A1SYLII0808HD6</td>\n",
       "      <td>B000084F4A</td>\n",
       "      <td>4.0</td>\n",
       "    </tr>\n",
       "    <tr>\n",
       "      <th>1</th>\n",
       "      <td>A2VRB3RMM084I9</td>\n",
       "      <td>B0002AQO5S</td>\n",
       "      <td>1.0</td>\n",
       "    </tr>\n",
       "    <tr>\n",
       "      <th>2</th>\n",
       "      <td>A2VRB3RMM084I9</td>\n",
       "      <td>B0002AQO5S</td>\n",
       "      <td>1.0</td>\n",
       "    </tr>\n",
       "    <tr>\n",
       "      <th>3</th>\n",
       "      <td>A3E752P9SWSH8S</td>\n",
       "      <td>B0002DJ7DQ</td>\n",
       "      <td>5.0</td>\n",
       "    </tr>\n",
       "    <tr>\n",
       "      <th>4</th>\n",
       "      <td>A3E752P9SWSH8S</td>\n",
       "      <td>B0002ASAXW</td>\n",
       "      <td>5.0</td>\n",
       "    </tr>\n",
       "  </tbody>\n",
       "</table>\n",
       "</div>"
      ],
      "text/plain": [
       "       reviewerID        asin  rating\n",
       "0  A1SYLII0808HD6  B000084F4A     4.0\n",
       "1  A2VRB3RMM084I9  B0002AQO5S     1.0\n",
       "2  A2VRB3RMM084I9  B0002AQO5S     1.0\n",
       "3  A3E752P9SWSH8S  B0002DJ7DQ     5.0\n",
       "4  A3E752P9SWSH8S  B0002ASAXW     5.0"
      ]
     },
     "execution_count": 21,
     "metadata": {},
     "output_type": "execute_result"
    }
   ],
   "source": [
    "train_data.head()"
   ]
  },
  {
   "cell_type": "code",
   "execution_count": 24,
   "id": "b671309a",
   "metadata": {},
   "outputs": [],
   "source": [
    "from surprise import accuracy, Reader, Dataset"
   ]
  },
  {
   "cell_type": "code",
   "execution_count": 25,
   "id": "e3a5bc54",
   "metadata": {},
   "outputs": [],
   "source": [
    "reader = Reader(line_format='user item rating', rating_scale=(1, 5))\n",
    "surprise_train_data = Dataset.load_from_df(train_data, reader)"
   ]
  },
  {
   "cell_type": "code",
   "execution_count": 26,
   "id": "18c2aa8b",
   "metadata": {},
   "outputs": [],
   "source": [
    "surprise_test_data = test_data.copy()\n",
    "surprise_test_data['rating'] = 0"
   ]
  },
  {
   "cell_type": "code",
   "execution_count": 27,
   "id": "35d64dd8",
   "metadata": {},
   "outputs": [
    {
     "data": {
      "text/html": [
       "<div>\n",
       "<style scoped>\n",
       "    .dataframe tbody tr th:only-of-type {\n",
       "        vertical-align: middle;\n",
       "    }\n",
       "\n",
       "    .dataframe tbody tr th {\n",
       "        vertical-align: top;\n",
       "    }\n",
       "\n",
       "    .dataframe thead th {\n",
       "        text-align: right;\n",
       "    }\n",
       "</style>\n",
       "<table border=\"1\" class=\"dataframe\">\n",
       "  <thead>\n",
       "    <tr style=\"text-align: right;\">\n",
       "      <th></th>\n",
       "      <th>reviewerID</th>\n",
       "      <th>asin</th>\n",
       "      <th>rating</th>\n",
       "    </tr>\n",
       "  </thead>\n",
       "  <tbody>\n",
       "    <tr>\n",
       "      <th>0</th>\n",
       "      <td>A3E752P9SWSH8S</td>\n",
       "      <td>B0002DI3TK</td>\n",
       "      <td>0</td>\n",
       "    </tr>\n",
       "    <tr>\n",
       "      <th>1</th>\n",
       "      <td>A2RATH5QG78TYE</td>\n",
       "      <td>B01AUGT7RU</td>\n",
       "      <td>0</td>\n",
       "    </tr>\n",
       "    <tr>\n",
       "      <th>2</th>\n",
       "      <td>A3GQKB1KF0CRPE</td>\n",
       "      <td>B000F0DUPC</td>\n",
       "      <td>0</td>\n",
       "    </tr>\n",
       "    <tr>\n",
       "      <th>3</th>\n",
       "      <td>A2PNOU7NXB1JE4</td>\n",
       "      <td>B00B9GKQQM</td>\n",
       "      <td>0</td>\n",
       "    </tr>\n",
       "    <tr>\n",
       "      <th>4</th>\n",
       "      <td>A1WT40TFTG5YN9</td>\n",
       "      <td>B0009YD8OC</td>\n",
       "      <td>0</td>\n",
       "    </tr>\n",
       "    <tr>\n",
       "      <th>...</th>\n",
       "      <td>...</td>\n",
       "      <td>...</td>\n",
       "      <td>...</td>\n",
       "    </tr>\n",
       "    <tr>\n",
       "      <th>3327</th>\n",
       "      <td>A2DDULOQEIQO2I</td>\n",
       "      <td>B00EAN1USY</td>\n",
       "      <td>0</td>\n",
       "    </tr>\n",
       "    <tr>\n",
       "      <th>3328</th>\n",
       "      <td>A3HU3PA33FNCWS</td>\n",
       "      <td>B000MI3QYM</td>\n",
       "      <td>0</td>\n",
       "    </tr>\n",
       "    <tr>\n",
       "      <th>3329</th>\n",
       "      <td>A1IYBCK39L1Q9H</td>\n",
       "      <td>B001ODZ70A</td>\n",
       "      <td>0</td>\n",
       "    </tr>\n",
       "    <tr>\n",
       "      <th>3330</th>\n",
       "      <td>A3TSD2MXBGVP4N</td>\n",
       "      <td>B007XS26SG</td>\n",
       "      <td>0</td>\n",
       "    </tr>\n",
       "    <tr>\n",
       "      <th>3331</th>\n",
       "      <td>A1RQJM5J79DP6K</td>\n",
       "      <td>B01BWKN026</td>\n",
       "      <td>0</td>\n",
       "    </tr>\n",
       "  </tbody>\n",
       "</table>\n",
       "<p>3332 rows × 3 columns</p>\n",
       "</div>"
      ],
      "text/plain": [
       "          reviewerID        asin  rating\n",
       "0     A3E752P9SWSH8S  B0002DI3TK       0\n",
       "1     A2RATH5QG78TYE  B01AUGT7RU       0\n",
       "2     A3GQKB1KF0CRPE  B000F0DUPC       0\n",
       "3     A2PNOU7NXB1JE4  B00B9GKQQM       0\n",
       "4     A1WT40TFTG5YN9  B0009YD8OC       0\n",
       "...              ...         ...     ...\n",
       "3327  A2DDULOQEIQO2I  B00EAN1USY       0\n",
       "3328  A3HU3PA33FNCWS  B000MI3QYM       0\n",
       "3329  A1IYBCK39L1Q9H  B001ODZ70A       0\n",
       "3330  A3TSD2MXBGVP4N  B007XS26SG       0\n",
       "3331  A1RQJM5J79DP6K  B01BWKN026       0\n",
       "\n",
       "[3332 rows x 3 columns]"
      ]
     },
     "execution_count": 27,
     "metadata": {},
     "output_type": "execute_result"
    }
   ],
   "source": [
    "surprise_test_data"
   ]
  },
  {
   "cell_type": "code",
   "execution_count": 28,
   "id": "eea1ed69",
   "metadata": {},
   "outputs": [],
   "source": [
    "surprise_test_data = Dataset.load_from_df(test_data, reader)"
   ]
  },
  {
   "cell_type": "code",
   "execution_count": 29,
   "id": "00243cbb",
   "metadata": {},
   "outputs": [],
   "source": [
    "trainset = surprise_train_data.build_full_trainset()"
   ]
  },
  {
   "cell_type": "code",
   "execution_count": 30,
   "id": "a8f252c1",
   "metadata": {},
   "outputs": [],
   "source": [
    "testset = surprise_test_data.build_full_trainset().build_testset()"
   ]
  },
  {
   "cell_type": "markdown",
   "id": "44bb5e24",
   "metadata": {},
   "source": [
    "## Baseline"
   ]
  },
  {
   "cell_type": "code",
   "execution_count": 31,
   "id": "13657a5b",
   "metadata": {},
   "outputs": [],
   "source": [
    "from surprise.prediction_algorithms.baseline_only import BaselineOnly"
   ]
  },
  {
   "cell_type": "code",
   "execution_count": 32,
   "id": "ce0377aa",
   "metadata": {},
   "outputs": [],
   "source": [
    "base_line_model = BaselineOnly()"
   ]
  },
  {
   "cell_type": "code",
   "execution_count": 33,
   "id": "3bbc067e",
   "metadata": {},
   "outputs": [
    {
     "name": "stdout",
     "output_type": "stream",
     "text": [
      "Estimating biases using als...\n"
     ]
    },
    {
     "data": {
      "text/plain": [
       "<surprise.prediction_algorithms.baseline_only.BaselineOnly at 0x7f17993df8b0>"
      ]
     },
     "execution_count": 33,
     "metadata": {},
     "output_type": "execute_result"
    }
   ],
   "source": [
    "base_line_model.fit(trainset)"
   ]
  },
  {
   "cell_type": "code",
   "execution_count": 34,
   "id": "4f2b6e35",
   "metadata": {},
   "outputs": [],
   "source": [
    "base_line_test_prediction = base_line_model.test(testset)"
   ]
  },
  {
   "cell_type": "code",
   "execution_count": 35,
   "id": "a1f5ab1d",
   "metadata": {},
   "outputs": [
    {
     "name": "stdout",
     "output_type": "stream",
     "text": [
      "RMSE: 1.0909\n"
     ]
    },
    {
     "data": {
      "text/plain": [
       "1.0909005817174278"
      ]
     },
     "execution_count": 35,
     "metadata": {},
     "output_type": "execute_result"
    }
   ],
   "source": [
    "accuracy.rmse(base_line_test_prediction)"
   ]
  },
  {
   "cell_type": "markdown",
   "id": "a42049d3",
   "metadata": {},
   "source": [
    "## SVD"
   ]
  },
  {
   "cell_type": "code",
   "execution_count": 36,
   "id": "1f9fade5",
   "metadata": {},
   "outputs": [],
   "source": [
    "from surprise import SVD"
   ]
  },
  {
   "cell_type": "code",
   "execution_count": 37,
   "id": "f31cd7f2",
   "metadata": {},
   "outputs": [],
   "source": [
    "svd_model = SVD()"
   ]
  },
  {
   "cell_type": "code",
   "execution_count": 38,
   "id": "4628a9c9",
   "metadata": {},
   "outputs": [
    {
     "data": {
      "text/plain": [
       "<surprise.prediction_algorithms.matrix_factorization.SVD at 0x7f179658de40>"
      ]
     },
     "execution_count": 38,
     "metadata": {},
     "output_type": "execute_result"
    }
   ],
   "source": [
    "svd_model.fit(trainset)"
   ]
  },
  {
   "cell_type": "code",
   "execution_count": 39,
   "id": "f3fe0cea",
   "metadata": {},
   "outputs": [],
   "source": [
    "svd_test_prediction = svd_model.test(testset)"
   ]
  },
  {
   "cell_type": "code",
   "execution_count": 40,
   "id": "fa75c028",
   "metadata": {},
   "outputs": [
    {
     "name": "stdout",
     "output_type": "stream",
     "text": [
      "RMSE: 1.0573\n"
     ]
    },
    {
     "data": {
      "text/plain": [
       "1.0572538787436134"
      ]
     },
     "execution_count": 40,
     "metadata": {},
     "output_type": "execute_result"
    }
   ],
   "source": [
    "accuracy.rmse(svd_test_prediction)"
   ]
  },
  {
   "cell_type": "markdown",
   "id": "ab27c301",
   "metadata": {},
   "source": [
    "## SVDpp"
   ]
  },
  {
   "cell_type": "code",
   "execution_count": 41,
   "id": "c6d36112",
   "metadata": {},
   "outputs": [],
   "source": [
    "from surprise.prediction_algorithms.matrix_factorization import SVDpp"
   ]
  },
  {
   "cell_type": "code",
   "execution_count": 42,
   "id": "31889e1a",
   "metadata": {},
   "outputs": [],
   "source": [
    "svdpp_model = SVDpp()"
   ]
  },
  {
   "cell_type": "code",
   "execution_count": 43,
   "id": "ba5f564e",
   "metadata": {},
   "outputs": [
    {
     "data": {
      "text/plain": [
       "<surprise.prediction_algorithms.matrix_factorization.SVDpp at 0x7f179658c190>"
      ]
     },
     "execution_count": 43,
     "metadata": {},
     "output_type": "execute_result"
    }
   ],
   "source": [
    "svdpp_model.fit(trainset)"
   ]
  },
  {
   "cell_type": "code",
   "execution_count": 44,
   "id": "29293ca6",
   "metadata": {},
   "outputs": [],
   "source": [
    "svdpp_test_prediction = svdpp_model.test(testset)"
   ]
  },
  {
   "cell_type": "code",
   "execution_count": 45,
   "id": "35960866",
   "metadata": {},
   "outputs": [
    {
     "name": "stdout",
     "output_type": "stream",
     "text": [
      "RMSE: 1.0725\n"
     ]
    },
    {
     "data": {
      "text/plain": [
       "1.0724511897589477"
      ]
     },
     "execution_count": 45,
     "metadata": {},
     "output_type": "execute_result"
    }
   ],
   "source": [
    "accuracy.rmse(svdpp_test_prediction)"
   ]
  },
  {
   "cell_type": "markdown",
   "id": "5e92607b",
   "metadata": {},
   "source": [
    "## SlopeOne"
   ]
  },
  {
   "cell_type": "code",
   "execution_count": 46,
   "id": "2a3426a8",
   "metadata": {},
   "outputs": [],
   "source": [
    "from surprise.prediction_algorithms.slope_one import SlopeOne"
   ]
  },
  {
   "cell_type": "code",
   "execution_count": 47,
   "id": "c700241e",
   "metadata": {},
   "outputs": [],
   "source": [
    "s_one_model = SlopeOne()"
   ]
  },
  {
   "cell_type": "code",
   "execution_count": 48,
   "id": "f2d9c15c",
   "metadata": {},
   "outputs": [
    {
     "data": {
      "text/plain": [
       "<surprise.prediction_algorithms.slope_one.SlopeOne at 0x7f17993211e0>"
      ]
     },
     "execution_count": 48,
     "metadata": {},
     "output_type": "execute_result"
    }
   ],
   "source": [
    "s_one_model.fit(trainset)"
   ]
  },
  {
   "cell_type": "code",
   "execution_count": 49,
   "id": "326ff3c5",
   "metadata": {},
   "outputs": [],
   "source": [
    "s_one_test_prediction = s_one_model.test(testset)"
   ]
  },
  {
   "cell_type": "code",
   "execution_count": 50,
   "id": "e9f49a0d",
   "metadata": {},
   "outputs": [
    {
     "name": "stdout",
     "output_type": "stream",
     "text": [
      "RMSE: 1.2435\n"
     ]
    },
    {
     "data": {
      "text/plain": [
       "1.2434564918158002"
      ]
     },
     "execution_count": 50,
     "metadata": {},
     "output_type": "execute_result"
    }
   ],
   "source": [
    "accuracy.rmse(s_one_test_prediction)"
   ]
  },
  {
   "cell_type": "markdown",
   "id": "e71da5b9",
   "metadata": {},
   "source": [
    "## CoClustering"
   ]
  },
  {
   "cell_type": "code",
   "execution_count": 51,
   "id": "47006194",
   "metadata": {},
   "outputs": [],
   "source": [
    "from surprise.prediction_algorithms.co_clustering import CoClustering"
   ]
  },
  {
   "cell_type": "code",
   "execution_count": 52,
   "id": "7cf3ebb5",
   "metadata": {},
   "outputs": [],
   "source": [
    "coclast_model = CoClustering()"
   ]
  },
  {
   "cell_type": "code",
   "execution_count": 53,
   "id": "62776734",
   "metadata": {},
   "outputs": [
    {
     "data": {
      "text/plain": [
       "<surprise.prediction_algorithms.co_clustering.CoClustering at 0x7f179939cbe0>"
      ]
     },
     "execution_count": 53,
     "metadata": {},
     "output_type": "execute_result"
    }
   ],
   "source": [
    "coclast_model.fit(trainset)"
   ]
  },
  {
   "cell_type": "code",
   "execution_count": 54,
   "id": "cbfcd4d0",
   "metadata": {},
   "outputs": [],
   "source": [
    "coclast_test_prediction = coclast_model.test(testset)"
   ]
  },
  {
   "cell_type": "code",
   "execution_count": 55,
   "id": "f6b426c4",
   "metadata": {},
   "outputs": [
    {
     "name": "stdout",
     "output_type": "stream",
     "text": [
      "RMSE: 1.1654\n"
     ]
    },
    {
     "data": {
      "text/plain": [
       "1.1653806521914793"
      ]
     },
     "execution_count": 55,
     "metadata": {},
     "output_type": "execute_result"
    }
   ],
   "source": [
    "accuracy.rmse(coclast_test_prediction)"
   ]
  },
  {
   "cell_type": "markdown",
   "id": "7b716934",
   "metadata": {},
   "source": [
    "# Сравним рекомендации разных моделей"
   ]
  },
  {
   "cell_type": "code",
   "execution_count": 76,
   "id": "7ebb683e",
   "metadata": {},
   "outputs": [
    {
     "data": {
      "text/plain": [
       "'B0002DI3TK'"
      ]
     },
     "execution_count": 76,
     "metadata": {},
     "output_type": "execute_result"
    }
   ],
   "source": [
    "coclast_test_prediction[0][1]"
   ]
  },
  {
   "cell_type": "code",
   "execution_count": 56,
   "id": "11df8e7e",
   "metadata": {},
   "outputs": [],
   "source": [
    "def get_top_n(user, model, n=10):\n",
    "    all_items = train_data['asin'].unique()\n",
    "    results = []\n",
    "    predictions = []\n",
    "    for item in all_items:\n",
    "        prediction = model.predict(user, item)\n",
    "        if prediction[2] is None:\n",
    "            predictions.append(prediction)\n",
    "        else:\n",
    "            predictions.append(None)\n",
    "    predictions.sort(key=lambda element: element[3], reverse=True)\n",
    "    result = [item[1] for item in predictions[:n]]\n",
    "    return sorted(result)"
   ]
  },
  {
   "cell_type": "code",
   "execution_count": 57,
   "id": "af90e3a2",
   "metadata": {},
   "outputs": [],
   "source": [
    "def common_items(list_1, list_2): \n",
    "    common_list = []\n",
    "    for element in list_1:\n",
    "        try:\n",
    "            match = list_2.index(element)\n",
    "        except ValueError:\n",
    "            match = None\n",
    "        if match is not None:\n",
    "            common_list.append(element)\n",
    "    return common_list"
   ]
  },
  {
   "cell_type": "code",
   "execution_count": 141,
   "id": "5e62bcba",
   "metadata": {},
   "outputs": [],
   "source": [
    "def make_coded_list(items_list, dictionary):\n",
    "    coded_list = []\n",
    "    for item in items_list:\n",
    "        coded_value = dictionary.get(item, None)\n",
    "        coded_list.append(coded_value)\n",
    "    return coded_list"
   ]
  },
  {
   "cell_type": "code",
   "execution_count": 142,
   "id": "4595477e",
   "metadata": {},
   "outputs": [],
   "source": [
    "def top_comparison(user):\n",
    "    n = 20\n",
    "    lists = [('baseline', get_top_n(user, base_line_model, n)),\n",
    "            ('item_based', get_top_n(user, ib_model, n)),\n",
    "            ('svd', get_top_n(user, svd_model, n)),\n",
    "            ('svdpp', get_top_n(user, svdpp_model, n)),\n",
    "            ('s_one', get_top_n(user, s_one_model, n)),\n",
    "            ('coclast', get_top_n(user, coclast_model, n))]\n",
    "    \n",
    "    df = pd.DataFrame(index=[item[0] for item in lists], columns=[item[0] for item in lists])\n",
    "    dictionary = dict(zip(train_data['asin'].unique(), range(len(train_data['asin'].unique()))))\n",
    "    for list_1_num in range(len(lists)):\n",
    "        for list_2_num in range(len(lists)):\n",
    "            if list_1_num != list_2_num:\n",
    "                list_1 = lists[list_1_num]\n",
    "                list_2 = lists[list_2_num]\n",
    "                raw_list = common_items(list_1[1], list_2[1])\n",
    "                coded_list = make_coded_list(raw_list, dictionary)\n",
    "                df[list_1[0]][list_2[0]] = coded_list\n",
    "    return df"
   ]
  },
  {
   "cell_type": "code",
   "execution_count": 144,
   "id": "51036e0b",
   "metadata": {
    "scrolled": false
   },
   "outputs": [
    {
     "name": "stderr",
     "output_type": "stream",
     "text": [
      "/tmp/ipykernel_86565/156804603.py:46: RuntimeWarning: invalid value encountered in double_scalars\n",
      "  return self.mean_y_item[pr_item] + numerator / denominator\n"
     ]
    },
    {
     "data": {
      "text/html": [
       "<div>\n",
       "<style scoped>\n",
       "    .dataframe tbody tr th:only-of-type {\n",
       "        vertical-align: middle;\n",
       "    }\n",
       "\n",
       "    .dataframe tbody tr th {\n",
       "        vertical-align: top;\n",
       "    }\n",
       "\n",
       "    .dataframe thead th {\n",
       "        text-align: right;\n",
       "    }\n",
       "</style>\n",
       "<table border=\"1\" class=\"dataframe\">\n",
       "  <thead>\n",
       "    <tr style=\"text-align: right;\">\n",
       "      <th></th>\n",
       "      <th>baseline</th>\n",
       "      <th>item_based</th>\n",
       "      <th>svd</th>\n",
       "      <th>svdpp</th>\n",
       "      <th>s_one</th>\n",
       "      <th>coclast</th>\n",
       "    </tr>\n",
       "  </thead>\n",
       "  <tbody>\n",
       "    <tr>\n",
       "      <th>baseline</th>\n",
       "      <td>NaN</td>\n",
       "      <td>[627]</td>\n",
       "      <td>[1743, 1317, 840, 1019, 797, 261]</td>\n",
       "      <td>[261, 2716]</td>\n",
       "      <td>[]</td>\n",
       "      <td>[796]</td>\n",
       "    </tr>\n",
       "    <tr>\n",
       "      <th>item_based</th>\n",
       "      <td>[627]</td>\n",
       "      <td>NaN</td>\n",
       "      <td>[]</td>\n",
       "      <td>[]</td>\n",
       "      <td>[2]</td>\n",
       "      <td>[861, 1028]</td>\n",
       "    </tr>\n",
       "    <tr>\n",
       "      <th>svd</th>\n",
       "      <td>[1743, 1317, 840, 1019, 797, 261]</td>\n",
       "      <td>[]</td>\n",
       "      <td>NaN</td>\n",
       "      <td>[261]</td>\n",
       "      <td>[]</td>\n",
       "      <td>[]</td>\n",
       "    </tr>\n",
       "    <tr>\n",
       "      <th>svdpp</th>\n",
       "      <td>[261, 2716]</td>\n",
       "      <td>[]</td>\n",
       "      <td>[261]</td>\n",
       "      <td>NaN</td>\n",
       "      <td>[26, 185, 38]</td>\n",
       "      <td>[]</td>\n",
       "    </tr>\n",
       "    <tr>\n",
       "      <th>s_one</th>\n",
       "      <td>[]</td>\n",
       "      <td>[2]</td>\n",
       "      <td>[]</td>\n",
       "      <td>[26, 185, 38]</td>\n",
       "      <td>NaN</td>\n",
       "      <td>[]</td>\n",
       "    </tr>\n",
       "    <tr>\n",
       "      <th>coclast</th>\n",
       "      <td>[796]</td>\n",
       "      <td>[861, 1028]</td>\n",
       "      <td>[]</td>\n",
       "      <td>[]</td>\n",
       "      <td>[]</td>\n",
       "      <td>NaN</td>\n",
       "    </tr>\n",
       "  </tbody>\n",
       "</table>\n",
       "</div>"
      ],
      "text/plain": [
       "                                     baseline   item_based  \\\n",
       "baseline                                  NaN        [627]   \n",
       "item_based                              [627]          NaN   \n",
       "svd         [1743, 1317, 840, 1019, 797, 261]           []   \n",
       "svdpp                             [261, 2716]           []   \n",
       "s_one                                      []          [2]   \n",
       "coclast                                 [796]  [861, 1028]   \n",
       "\n",
       "                                          svd          svdpp          s_one  \\\n",
       "baseline    [1743, 1317, 840, 1019, 797, 261]    [261, 2716]             []   \n",
       "item_based                                 []             []            [2]   \n",
       "svd                                       NaN          [261]             []   \n",
       "svdpp                                   [261]            NaN  [26, 185, 38]   \n",
       "s_one                                      []  [26, 185, 38]            NaN   \n",
       "coclast                                    []             []             []   \n",
       "\n",
       "                coclast  \n",
       "baseline          [796]  \n",
       "item_based  [861, 1028]  \n",
       "svd                  []  \n",
       "svdpp                []  \n",
       "s_one                []  \n",
       "coclast             NaN  "
      ]
     },
     "execution_count": 144,
     "metadata": {},
     "output_type": "execute_result"
    }
   ],
   "source": [
    "top_comparison('A3E752P9SWSH8S')"
   ]
  },
  {
   "cell_type": "code",
   "execution_count": 145,
   "id": "f177300a",
   "metadata": {},
   "outputs": [
    {
     "name": "stderr",
     "output_type": "stream",
     "text": [
      "/tmp/ipykernel_86565/156804603.py:46: RuntimeWarning: invalid value encountered in double_scalars\n",
      "  return self.mean_y_item[pr_item] + numerator / denominator\n"
     ]
    },
    {
     "data": {
      "text/html": [
       "<div>\n",
       "<style scoped>\n",
       "    .dataframe tbody tr th:only-of-type {\n",
       "        vertical-align: middle;\n",
       "    }\n",
       "\n",
       "    .dataframe tbody tr th {\n",
       "        vertical-align: top;\n",
       "    }\n",
       "\n",
       "    .dataframe thead th {\n",
       "        text-align: right;\n",
       "    }\n",
       "</style>\n",
       "<table border=\"1\" class=\"dataframe\">\n",
       "  <thead>\n",
       "    <tr style=\"text-align: right;\">\n",
       "      <th></th>\n",
       "      <th>baseline</th>\n",
       "      <th>item_based</th>\n",
       "      <th>svd</th>\n",
       "      <th>svdpp</th>\n",
       "      <th>s_one</th>\n",
       "      <th>coclast</th>\n",
       "    </tr>\n",
       "  </thead>\n",
       "  <tbody>\n",
       "    <tr>\n",
       "      <th>baseline</th>\n",
       "      <td>NaN</td>\n",
       "      <td>[627]</td>\n",
       "      <td>[1609, 1055, 627, 1162, 797, 3927]</td>\n",
       "      <td>[840]</td>\n",
       "      <td>[16]</td>\n",
       "      <td>[16]</td>\n",
       "    </tr>\n",
       "    <tr>\n",
       "      <th>item_based</th>\n",
       "      <td>[627]</td>\n",
       "      <td>NaN</td>\n",
       "      <td>[627]</td>\n",
       "      <td>[]</td>\n",
       "      <td>[]</td>\n",
       "      <td>[]</td>\n",
       "    </tr>\n",
       "    <tr>\n",
       "      <th>svd</th>\n",
       "      <td>[1609, 1055, 627, 1162, 797, 3927]</td>\n",
       "      <td>[627]</td>\n",
       "      <td>NaN</td>\n",
       "      <td>[2906]</td>\n",
       "      <td>[]</td>\n",
       "      <td>[]</td>\n",
       "    </tr>\n",
       "    <tr>\n",
       "      <th>svdpp</th>\n",
       "      <td>[840]</td>\n",
       "      <td>[]</td>\n",
       "      <td>[2906]</td>\n",
       "      <td>NaN</td>\n",
       "      <td>[18]</td>\n",
       "      <td>[18]</td>\n",
       "    </tr>\n",
       "    <tr>\n",
       "      <th>s_one</th>\n",
       "      <td>[16]</td>\n",
       "      <td>[]</td>\n",
       "      <td>[]</td>\n",
       "      <td>[18]</td>\n",
       "      <td>NaN</td>\n",
       "      <td>[2, 6, 19, 18, 15, 14, 7, 16, 13]</td>\n",
       "    </tr>\n",
       "    <tr>\n",
       "      <th>coclast</th>\n",
       "      <td>[16]</td>\n",
       "      <td>[]</td>\n",
       "      <td>[]</td>\n",
       "      <td>[18]</td>\n",
       "      <td>[2, 6, 19, 18, 15, 14, 7, 16, 13]</td>\n",
       "      <td>NaN</td>\n",
       "    </tr>\n",
       "  </tbody>\n",
       "</table>\n",
       "</div>"
      ],
      "text/plain": [
       "                                      baseline item_based  \\\n",
       "baseline                                   NaN      [627]   \n",
       "item_based                               [627]        NaN   \n",
       "svd         [1609, 1055, 627, 1162, 797, 3927]      [627]   \n",
       "svdpp                                    [840]         []   \n",
       "s_one                                     [16]         []   \n",
       "coclast                                   [16]         []   \n",
       "\n",
       "                                           svd   svdpp  \\\n",
       "baseline    [1609, 1055, 627, 1162, 797, 3927]   [840]   \n",
       "item_based                               [627]      []   \n",
       "svd                                        NaN  [2906]   \n",
       "svdpp                                   [2906]     NaN   \n",
       "s_one                                       []    [18]   \n",
       "coclast                                     []    [18]   \n",
       "\n",
       "                                        s_one  \\\n",
       "baseline                                 [16]   \n",
       "item_based                                 []   \n",
       "svd                                        []   \n",
       "svdpp                                    [18]   \n",
       "s_one                                     NaN   \n",
       "coclast     [2, 6, 19, 18, 15, 14, 7, 16, 13]   \n",
       "\n",
       "                                      coclast  \n",
       "baseline                                 [16]  \n",
       "item_based                                 []  \n",
       "svd                                        []  \n",
       "svdpp                                    [18]  \n",
       "s_one       [2, 6, 19, 18, 15, 14, 7, 16, 13]  \n",
       "coclast                                   NaN  "
      ]
     },
     "execution_count": 145,
     "metadata": {},
     "output_type": "execute_result"
    }
   ],
   "source": [
    "top_comparison('A17ELW72BAR179')"
   ]
  },
  {
   "cell_type": "code",
   "execution_count": 146,
   "id": "92b86ea3",
   "metadata": {},
   "outputs": [
    {
     "name": "stderr",
     "output_type": "stream",
     "text": [
      "/tmp/ipykernel_86565/156804603.py:46: RuntimeWarning: invalid value encountered in double_scalars\n",
      "  return self.mean_y_item[pr_item] + numerator / denominator\n"
     ]
    },
    {
     "data": {
      "text/html": [
       "<div>\n",
       "<style scoped>\n",
       "    .dataframe tbody tr th:only-of-type {\n",
       "        vertical-align: middle;\n",
       "    }\n",
       "\n",
       "    .dataframe tbody tr th {\n",
       "        vertical-align: top;\n",
       "    }\n",
       "\n",
       "    .dataframe thead th {\n",
       "        text-align: right;\n",
       "    }\n",
       "</style>\n",
       "<table border=\"1\" class=\"dataframe\">\n",
       "  <thead>\n",
       "    <tr style=\"text-align: right;\">\n",
       "      <th></th>\n",
       "      <th>baseline</th>\n",
       "      <th>item_based</th>\n",
       "      <th>svd</th>\n",
       "      <th>svdpp</th>\n",
       "      <th>s_one</th>\n",
       "      <th>coclast</th>\n",
       "    </tr>\n",
       "  </thead>\n",
       "  <tbody>\n",
       "    <tr>\n",
       "      <th>baseline</th>\n",
       "      <td>NaN</td>\n",
       "      <td>[627]</td>\n",
       "      <td>[1055, 1019]</td>\n",
       "      <td>[]</td>\n",
       "      <td>[16]</td>\n",
       "      <td>[796]</td>\n",
       "    </tr>\n",
       "    <tr>\n",
       "      <th>item_based</th>\n",
       "      <td>[627]</td>\n",
       "      <td>NaN</td>\n",
       "      <td>[]</td>\n",
       "      <td>[873]</td>\n",
       "      <td>[]</td>\n",
       "      <td>[861, 1028]</td>\n",
       "    </tr>\n",
       "    <tr>\n",
       "      <th>svd</th>\n",
       "      <td>[1055, 1019]</td>\n",
       "      <td>[]</td>\n",
       "      <td>NaN</td>\n",
       "      <td>[1810]</td>\n",
       "      <td>[]</td>\n",
       "      <td>[]</td>\n",
       "    </tr>\n",
       "    <tr>\n",
       "      <th>svdpp</th>\n",
       "      <td>[]</td>\n",
       "      <td>[873]</td>\n",
       "      <td>[1810]</td>\n",
       "      <td>NaN</td>\n",
       "      <td>[20]</td>\n",
       "      <td>[2084]</td>\n",
       "    </tr>\n",
       "    <tr>\n",
       "      <th>s_one</th>\n",
       "      <td>[16]</td>\n",
       "      <td>[]</td>\n",
       "      <td>[]</td>\n",
       "      <td>[20]</td>\n",
       "      <td>NaN</td>\n",
       "      <td>[]</td>\n",
       "    </tr>\n",
       "    <tr>\n",
       "      <th>coclast</th>\n",
       "      <td>[796]</td>\n",
       "      <td>[861, 1028]</td>\n",
       "      <td>[]</td>\n",
       "      <td>[2084]</td>\n",
       "      <td>[]</td>\n",
       "      <td>NaN</td>\n",
       "    </tr>\n",
       "  </tbody>\n",
       "</table>\n",
       "</div>"
      ],
      "text/plain": [
       "                baseline   item_based           svd   svdpp s_one      coclast\n",
       "baseline             NaN        [627]  [1055, 1019]      []  [16]        [796]\n",
       "item_based         [627]          NaN            []   [873]    []  [861, 1028]\n",
       "svd         [1055, 1019]           []           NaN  [1810]    []           []\n",
       "svdpp                 []        [873]        [1810]     NaN  [20]       [2084]\n",
       "s_one               [16]           []            []    [20]   NaN           []\n",
       "coclast            [796]  [861, 1028]            []  [2084]    []          NaN"
      ]
     },
     "execution_count": 146,
     "metadata": {},
     "output_type": "execute_result"
    }
   ],
   "source": [
    "top_comparison('A2PNOU7NXB1JE4')"
   ]
  },
  {
   "cell_type": "markdown",
   "id": "f8462be5",
   "metadata": {},
   "source": [
    "В связи с тем, что более детальный анализ качества результата невозможен из-за отсутствия интерпретируемой информации о товарах, можно выбрать модель SVD как основную (она дает много совпадений с baseline и она имеет самую низкую ошибку rmse. Также возможна совместная работа нескольких моделей, но тут тоже необходима интерпретируемость для подбора комбинации."
   ]
  }
 ],
 "metadata": {
  "kernelspec": {
   "display_name": "Python 3 (ipykernel)",
   "language": "python",
   "name": "python3"
  },
  "language_info": {
   "codemirror_mode": {
    "name": "ipython",
    "version": 3
   },
   "file_extension": ".py",
   "mimetype": "text/x-python",
   "name": "python",
   "nbconvert_exporter": "python",
   "pygments_lexer": "ipython3",
   "version": "3.10.9"
  }
 },
 "nbformat": 4,
 "nbformat_minor": 5
}
